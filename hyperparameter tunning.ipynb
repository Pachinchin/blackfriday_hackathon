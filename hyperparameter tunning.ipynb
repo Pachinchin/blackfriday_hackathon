{
 "cells": [
  {
   "cell_type": "code",
   "execution_count": null,
   "id": "78004b6b",
   "metadata": {},
   "outputs": [],
   "source": []
  },
  {
   "cell_type": "code",
   "execution_count": null,
   "id": "89644756",
   "metadata": {},
   "outputs": [],
   "source": [
    "from sklearn.cluster import MiniBatchKMeans\n",
    "\n",
    "\n",
    "coords = np.vstack((combine[['Price']].values))\n",
    "\n",
    "sample_ind = np.random.permutation(len(coords))[:500000]\n",
    "\n",
    "#first scale data then find the optimal scale using bseline model kmeans\n",
    "scaler = StandardScaler()\n",
    "scaled_features = scaler.fit_transform(coords[sample_ind])\n",
    "kmeans_kwargs = {\n",
    "    \"init\": \"random\",\n",
    "    \"n_init\": 10,\n",
    "    \"max_iter\": 300,\n",
    "    \"random_state\": 42,\n",
    "}\n",
    "\n",
    "### A list holds the SSE values for each k\n",
    "sse = []\n",
    "for k in range(1, 50):\n",
    "    kmeans = KMeans(n_clusters=k, **kmeans_kwargs)\n",
    "    kmeans.fit(scaled_features)\n",
    "    sse.append(kmeans.inertia_)\n",
    "    \n",
    "#plot to view the elbow\n",
    "plt.plot(range(1, 50), sse)\n",
    "plt.xticks(range(1,50,5))\n",
    "plt.xlabel(\"Number of Clusters\")\n",
    "plt.ylabel(\"SSE\")\n",
    "plt.show()"
   ]
  },
  {
   "cell_type": "code",
   "execution_count": null,
   "id": "1f0f2259",
   "metadata": {},
   "outputs": [],
   "source": [
    "kmeans = MiniBatchKMeans(n_clusters=5, batch_size=10000).fit(coords[sample_ind])\n",
    "combine.loc[:, 'Price_cluster'] = kmeans.predict(combine[['Price']])\n"
   ]
  },
  {
   "cell_type": "code",
   "execution_count": null,
   "id": "25ceaed8",
   "metadata": {},
   "outputs": [],
   "source": [
    "# label = kmeans.predict(combine[['Price']])\n",
    "scaled_features = scaler.fit_transform(combine[['Price']])\n",
    "u_labels = np.unique(label)\n",
    "#Getting unique labels\n",
    " \n",
    "u_labels = np.unique(label)\n",
    " \n",
    "#plotting the results:\n",
    " \n",
    "for i in u_labels:\n",
    "    plt.scatter(scaled_features[label == i , 0] , scaled_features[label == i , 0] , label = i)\n",
    "plt.legend()\n",
    "plt.show()"
   ]
  },
  {
   "cell_type": "code",
   "execution_count": null,
   "id": "ebada73a",
   "metadata": {},
   "outputs": [],
   "source": []
  }
 ],
 "metadata": {
  "kernelspec": {
   "display_name": "Python 3",
   "language": "python",
   "name": "python3"
  },
  "language_info": {
   "codemirror_mode": {
    "name": "ipython",
    "version": 3
   },
   "file_extension": ".py",
   "mimetype": "text/x-python",
   "name": "python",
   "nbconvert_exporter": "python",
   "pygments_lexer": "ipython3",
   "version": "3.8.8"
  }
 },
 "nbformat": 4,
 "nbformat_minor": 5
}
