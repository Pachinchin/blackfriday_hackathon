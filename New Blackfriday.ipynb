{
 "cells": [
  {
   "cell_type": "markdown",
   "metadata": {},
   "source": [
    "<H2>Content </H2>"
   ]
  },
  {
   "cell_type": "markdown",
   "metadata": {},
   "source": [
    "\n",
    "<ol>\n",
    "    <B>\n",
    "<li>INTRODUCTION</li>\n",
    "<li>DATA EXPLORATION</li>\n",
    "<li>EXPLORATORY DATA ANALYSIS</li>\n",
    "<li>MODELLING</li>\n",
    "<li>MODEL SELECTION AND ESEMBLE </li>\n",
    "<li>        PREDICTION </li>\n",
    "<li>SUMMARY</li>\n",
    "        </B>\n",
    "</ol>"
   ]
  },
  {
   "cell_type": "markdown",
   "metadata": {},
   "source": [
    "<h2> 1. INTRODUCTION </h2>"
   ]
  },
  {
   "cell_type": "markdown",
   "metadata": {},
   "source": [
    "The intro, and business problems is already given in the Read me. check it out. "
   ]
  },
  {
   "cell_type": "markdown",
   "metadata": {},
   "source": [
    "<h2>First step is to import the necessary Libraries</h2>"
   ]
  },
  {
   "cell_type": "markdown",
   "metadata": {},
   "source": [
    "<h4>Some important libraries :</h4>\n",
    "<h4>visualize :</h4>\n",
    "<ol>\n",
    "<li>Matplotlib</li>\n",
    "<li>Seaborn</li>\n",
    "<li>Missingno</li>\n",
    "</ol>\n",
    "\n",
    "<h4>manipulate :</h4>\n",
    "<ol>\n",
    "<li>Pandas</li>\n",
    "<li>Numpy</li>\n",
    "</ol>\n",
    "\n",
    "<h4>Modeling :</h4>\n",
    "<ol>\n",
    "<li>Keras</li>\n",
    "<li>Tensorflow</li>\n",
    "<li>Sklearn</li>\n",
    "</ol>\n",
    "\n",
    "\n",
    "<h4>algorithms :</h4>\n",
    "<ol>\n",
    "<li>XGBRegressor</li>\n",
    "<li>DecisionTreeRegressor</li>\n",
    "<li>GradientBoostingRegressor</li>\n",
    "<li>RandomForestRegressor</li>\n",
    "<li>LinearSVR</li>\n",
    "<li>Logistics Regressor</li>\n",
    "</ol>\n",
    "\n",
    "<h4>other :</h4>\n",
    "<ol>\n",
    "<li>warnings</li>\n",
    "<li>IPython</li>\n",
    "<li>Time</li>\n",
    "</ol>\n",
    "\n"
   ]
  },
  {
   "cell_type": "code",
   "execution_count": 375,
   "metadata": {
    "ExecuteTime": {
     "end_time": "2021-09-23T09:51:25.965615Z",
     "start_time": "2021-09-23T09:51:25.938785Z"
    }
   },
   "outputs": [],
   "source": [
    "import pandas as pd\n",
    "import numpy as np\n",
    "from scipy                      import stats\n",
    "\n",
    "import matplotlib.pyplot as plt\n",
    "import missingno as msno\n",
    "import seaborn as sns\n",
    "plt.style.use('bmh')\n",
    "\n",
    "\n",
    "from sklearn.model_selection    import train_test_split\n",
    "from sklearn.neighbors          import KNeighborsRegressor\n",
    "from sklearn.ensemble           import RandomForestRegressor\n",
    "from sklearn.metrics            import mean_squared_error\n",
    "from sklearn.preprocessing      import StandardScaler\n",
    "from kneed                      import KneeLocator\n",
    "from sklearn.cluster            import KMeans\n",
    "from sklearn.linear_model       import LogisticRegression\n",
    "from sklearn.model_selection    import KFold, StratifiedKFold\n",
    "from sklearn.model_selection    import cross_val_score\n",
    "from sklearn.model_selection    import train_test_split\n",
    "from sklearn.model_selection    import RandomizedSearchCV\n",
    "from sklearn.model_selection    import GridSearchCV\n",
    "from sklearn.preprocessing      import LabelEncoder\n",
    "from sklearn.linear_model       import LinearRegression\n",
    "from sklearn.tree               import DecisionTreeRegressor\n",
    "from sklearn.ensemble           import RandomForestRegressor\n",
    "from sklearn.ensemble           import GradientBoostingRegressor\n",
    "from xgboost                    import XGBRegressor\n",
    "import xgboost as xgb\n",
    "from sklearn.metrics import mean_squared_error\n",
    "#from dask_searchcv import RandomizedSearchCV\n",
    "\n",
    "\n",
    "\n",
    "from tensorflow.keras           import Sequential\n",
    "from tensorflow.keras.layers    import Dense, BatchNormalization, LeakyReLU\n",
    "import tensorflow as tf\n",
    "\n",
    "import time\n",
    "from IPython.display            import Image\n",
    "\n",
    "\n",
    "import warnings\n",
    "warnings.filterwarnings('ignore')"
   ]
  },
  {
   "cell_type": "markdown",
   "metadata": {},
   "source": [
    "<h3>Import the Dataset</h3>\n",
    "<h4>The dataset consist of two data </h4>"
   ]
  },
  {
   "cell_type": "code",
   "execution_count": 376,
   "metadata": {
    "ExecuteTime": {
     "end_time": "2021-09-23T09:51:27.819883Z",
     "start_time": "2021-09-23T09:51:27.103086Z"
    }
   },
   "outputs": [],
   "source": [
    "#READ THE DATA \n",
    "train = pd.read_csv('train.csv')\n",
    "test = pd.read_csv('test.csv')\n"
   ]
  },
  {
   "cell_type": "markdown",
   "metadata": {},
   "source": [
    "<h2> 2. DATA EXPLORATION </h2>\n",
    "Taking a closer look on the test data, train data and combines data. "
   ]
  },
  {
   "cell_type": "code",
   "execution_count": 377,
   "metadata": {
    "ExecuteTime": {
     "end_time": "2021-09-23T09:51:29.634438Z",
     "start_time": "2021-09-23T09:51:29.247010Z"
    }
   },
   "outputs": [
    {
     "data": {
      "text/plain": [
       "('train',\n",
       " (550068, 12),\n",
       " User_ID                        5891\n",
       " Product_ID                     3631\n",
       " Gender                            2\n",
       " Age                               7\n",
       " Occupation                       21\n",
       " City_Category                     3\n",
       " Stay_In_Current_City_Years        5\n",
       " Marital_Status                    2\n",
       " Product_Category_1               20\n",
       " Product_Category_2               17\n",
       " Product_Category_3               15\n",
       " Purchase                      18105\n",
       " dtype: int64,\n",
       " 'test',\n",
       " (233599, 11),\n",
       " User_ID                       5891\n",
       " Product_ID                    3491\n",
       " Gender                           2\n",
       " Age                              7\n",
       " Occupation                      21\n",
       " City_Category                    3\n",
       " Stay_In_Current_City_Years       5\n",
       " Marital_Status                   2\n",
       " Product_Category_1              18\n",
       " Product_Category_2              17\n",
       " Product_Category_3              15\n",
       " dtype: int64)"
      ]
     },
     "execution_count": 377,
     "metadata": {},
     "output_type": "execute_result"
    }
   ],
   "source": [
    "#Visualize the shape of the test, train and combined data\n",
    "'train',train.shape,train.nunique(),'test',test.shape, test.nunique()"
   ]
  },
  {
   "cell_type": "markdown",
   "metadata": {},
   "source": [
    "* Some of the  observation above \n",
    "    * the Train data is more than twice the test data.\n",
    "    * The Users are same in the train and test \n",
    "    * Products sold in test are 130 fewer than the products in train.\n",
    "    * the product category in train is 2 less in product category1, but the same in others. \n",
    "    \n",
    "From this information a strategy for feature engineering and cleaning is performed. "
   ]
  },
  {
   "cell_type": "markdown",
   "metadata": {},
   "source": [
    "It will be better to combine the train and test data so we don't need to repeat the process twice. we will make a new column (kind) and we will fill it with train & test to separate the data when we finish"
   ]
  },
  {
   "cell_type": "markdown",
   "metadata": {},
   "source": [
    "<h4>Dependent Variable</h4>\n",
    "<ol>\n",
    "<li>Gender- male or female</li>\n",
    "<li>Age- age category the customer belongs to</li>\n",
    "<li>Occupation- Occupation of the customer</li>\n",
    "<li>City_Category-city category the customer resides in</li>\n",
    "<li>Stay_In_Current_City_Years- no. of years the customer has resided in the current city</li>\n",
    "<li>User_ID- unique id of the user</li>\n",
    "<li>Marital_Status- married or unmarried</li>\n",
    "<li>Product_Category_1- products of category 1</li>\n",
    "<li>Product_Category_2- products of category 2</li>\n",
    "<li>Product_Category_3- products of category 3</li>\n",
    "</ol>\n",
    "\n",
    "<h4>Target Variable</h4>\n",
    "Purchase- the purchase ammount in dollars\n",
    "<h4>Others</h4>\n",
    "<ol>\n",
    "<li>User_ID- unique id of the user</li>\n",
    "<li>Product_ID- unique id of the product</li>\n",
    "    Kind - As mentiond above (Train or Test)\n",
    "</ol>"
   ]
  },
  {
   "cell_type": "code",
   "execution_count": 378,
   "metadata": {
    "ExecuteTime": {
     "end_time": "2021-09-23T09:51:32.711173Z",
     "start_time": "2021-09-23T09:51:32.514030Z"
    }
   },
   "outputs": [
    {
     "name": "stdout",
     "output_type": "stream",
     "text": [
      "(783667, 13)\n"
     ]
    },
    {
     "data": {
      "text/plain": [
       "Index(['User_ID', 'Product_ID', 'Gender', 'Age', 'Occupation', 'City_Category',\n",
       "       'Stay_In_Current_City_Years', 'Marital_Status', 'Product_Category_1',\n",
       "       'Product_Category_2', 'Product_Category_3', 'Purchase', 'kind'],\n",
       "      dtype='object')"
      ]
     },
     "execution_count": 378,
     "metadata": {},
     "output_type": "execute_result"
    }
   ],
   "source": [
    "#Create a new column on the test and train data\n",
    "#combine the test and train using pandas to cocatinate on the column\n",
    "train['kind'] = 'train'\n",
    "test['kind'] = 'test'\n",
    "combine = pd.concat([train,test], axis=0)\n",
    "\n",
    "#view the head of the data set\n",
    "print(combine.shape)\n",
    "combine.columns"
   ]
  },
  {
   "cell_type": "markdown",
   "metadata": {},
   "source": [
    "<h4>Explore the dataset to see the </h4>"
   ]
  },
  {
   "cell_type": "code",
   "execution_count": 379,
   "metadata": {
    "ExecuteTime": {
     "end_time": "2021-09-23T09:51:36.725055Z",
     "start_time": "2021-09-23T09:51:36.709166Z"
    }
   },
   "outputs": [
    {
     "data": {
      "text/html": [
       "<div>\n",
       "<style scoped>\n",
       "    .dataframe tbody tr th:only-of-type {\n",
       "        vertical-align: middle;\n",
       "    }\n",
       "\n",
       "    .dataframe tbody tr th {\n",
       "        vertical-align: top;\n",
       "    }\n",
       "\n",
       "    .dataframe thead th {\n",
       "        text-align: right;\n",
       "    }\n",
       "</style>\n",
       "<table border=\"1\" class=\"dataframe\">\n",
       "  <thead>\n",
       "    <tr style=\"text-align: right;\">\n",
       "      <th></th>\n",
       "      <th>User_ID</th>\n",
       "      <th>Product_ID</th>\n",
       "      <th>Gender</th>\n",
       "      <th>Age</th>\n",
       "      <th>Occupation</th>\n",
       "      <th>City_Category</th>\n",
       "      <th>Stay_In_Current_City_Years</th>\n",
       "      <th>Marital_Status</th>\n",
       "      <th>Product_Category_1</th>\n",
       "      <th>Product_Category_2</th>\n",
       "      <th>Product_Category_3</th>\n",
       "      <th>Purchase</th>\n",
       "      <th>kind</th>\n",
       "    </tr>\n",
       "  </thead>\n",
       "  <tbody>\n",
       "    <tr>\n",
       "      <th>0</th>\n",
       "      <td>1000001</td>\n",
       "      <td>P00069042</td>\n",
       "      <td>F</td>\n",
       "      <td>0-17</td>\n",
       "      <td>10</td>\n",
       "      <td>A</td>\n",
       "      <td>2</td>\n",
       "      <td>0</td>\n",
       "      <td>3</td>\n",
       "      <td>NaN</td>\n",
       "      <td>NaN</td>\n",
       "      <td>8370.0</td>\n",
       "      <td>train</td>\n",
       "    </tr>\n",
       "    <tr>\n",
       "      <th>1</th>\n",
       "      <td>1000001</td>\n",
       "      <td>P00248942</td>\n",
       "      <td>F</td>\n",
       "      <td>0-17</td>\n",
       "      <td>10</td>\n",
       "      <td>A</td>\n",
       "      <td>2</td>\n",
       "      <td>0</td>\n",
       "      <td>1</td>\n",
       "      <td>6.0</td>\n",
       "      <td>14.0</td>\n",
       "      <td>15200.0</td>\n",
       "      <td>train</td>\n",
       "    </tr>\n",
       "    <tr>\n",
       "      <th>2</th>\n",
       "      <td>1000001</td>\n",
       "      <td>P00087842</td>\n",
       "      <td>F</td>\n",
       "      <td>0-17</td>\n",
       "      <td>10</td>\n",
       "      <td>A</td>\n",
       "      <td>2</td>\n",
       "      <td>0</td>\n",
       "      <td>12</td>\n",
       "      <td>NaN</td>\n",
       "      <td>NaN</td>\n",
       "      <td>1422.0</td>\n",
       "      <td>train</td>\n",
       "    </tr>\n",
       "    <tr>\n",
       "      <th>3</th>\n",
       "      <td>1000001</td>\n",
       "      <td>P00085442</td>\n",
       "      <td>F</td>\n",
       "      <td>0-17</td>\n",
       "      <td>10</td>\n",
       "      <td>A</td>\n",
       "      <td>2</td>\n",
       "      <td>0</td>\n",
       "      <td>12</td>\n",
       "      <td>14.0</td>\n",
       "      <td>NaN</td>\n",
       "      <td>1057.0</td>\n",
       "      <td>train</td>\n",
       "    </tr>\n",
       "    <tr>\n",
       "      <th>4</th>\n",
       "      <td>1000002</td>\n",
       "      <td>P00285442</td>\n",
       "      <td>M</td>\n",
       "      <td>55+</td>\n",
       "      <td>16</td>\n",
       "      <td>C</td>\n",
       "      <td>4+</td>\n",
       "      <td>0</td>\n",
       "      <td>8</td>\n",
       "      <td>NaN</td>\n",
       "      <td>NaN</td>\n",
       "      <td>7969.0</td>\n",
       "      <td>train</td>\n",
       "    </tr>\n",
       "    <tr>\n",
       "      <th>5</th>\n",
       "      <td>1000003</td>\n",
       "      <td>P00193542</td>\n",
       "      <td>M</td>\n",
       "      <td>26-35</td>\n",
       "      <td>15</td>\n",
       "      <td>A</td>\n",
       "      <td>3</td>\n",
       "      <td>0</td>\n",
       "      <td>1</td>\n",
       "      <td>2.0</td>\n",
       "      <td>NaN</td>\n",
       "      <td>15227.0</td>\n",
       "      <td>train</td>\n",
       "    </tr>\n",
       "    <tr>\n",
       "      <th>6</th>\n",
       "      <td>1000004</td>\n",
       "      <td>P00184942</td>\n",
       "      <td>M</td>\n",
       "      <td>46-50</td>\n",
       "      <td>7</td>\n",
       "      <td>B</td>\n",
       "      <td>2</td>\n",
       "      <td>1</td>\n",
       "      <td>1</td>\n",
       "      <td>8.0</td>\n",
       "      <td>17.0</td>\n",
       "      <td>19215.0</td>\n",
       "      <td>train</td>\n",
       "    </tr>\n",
       "  </tbody>\n",
       "</table>\n",
       "</div>"
      ],
      "text/plain": [
       "   User_ID Product_ID Gender    Age  Occupation City_Category  \\\n",
       "0  1000001  P00069042      F   0-17          10             A   \n",
       "1  1000001  P00248942      F   0-17          10             A   \n",
       "2  1000001  P00087842      F   0-17          10             A   \n",
       "3  1000001  P00085442      F   0-17          10             A   \n",
       "4  1000002  P00285442      M    55+          16             C   \n",
       "5  1000003  P00193542      M  26-35          15             A   \n",
       "6  1000004  P00184942      M  46-50           7             B   \n",
       "\n",
       "  Stay_In_Current_City_Years  Marital_Status  Product_Category_1  \\\n",
       "0                          2               0                   3   \n",
       "1                          2               0                   1   \n",
       "2                          2               0                  12   \n",
       "3                          2               0                  12   \n",
       "4                         4+               0                   8   \n",
       "5                          3               0                   1   \n",
       "6                          2               1                   1   \n",
       "\n",
       "   Product_Category_2  Product_Category_3  Purchase   kind  \n",
       "0                 NaN                 NaN    8370.0  train  \n",
       "1                 6.0                14.0   15200.0  train  \n",
       "2                 NaN                 NaN    1422.0  train  \n",
       "3                14.0                 NaN    1057.0  train  \n",
       "4                 NaN                 NaN    7969.0  train  \n",
       "5                 2.0                 NaN   15227.0  train  \n",
       "6                 8.0                17.0   19215.0  train  "
      ]
     },
     "execution_count": 379,
     "metadata": {},
     "output_type": "execute_result"
    }
   ],
   "source": [
    "combine.head(7)"
   ]
  },
  {
   "cell_type": "code",
   "execution_count": 380,
   "metadata": {
    "ExecuteTime": {
     "end_time": "2021-09-23T09:51:37.440250Z",
     "start_time": "2021-09-23T09:51:37.423681Z"
    }
   },
   "outputs": [
    {
     "data": {
      "text/html": [
       "<div>\n",
       "<style scoped>\n",
       "    .dataframe tbody tr th:only-of-type {\n",
       "        vertical-align: middle;\n",
       "    }\n",
       "\n",
       "    .dataframe tbody tr th {\n",
       "        vertical-align: top;\n",
       "    }\n",
       "\n",
       "    .dataframe thead th {\n",
       "        text-align: right;\n",
       "    }\n",
       "</style>\n",
       "<table border=\"1\" class=\"dataframe\">\n",
       "  <thead>\n",
       "    <tr style=\"text-align: right;\">\n",
       "      <th></th>\n",
       "      <th>User_ID</th>\n",
       "      <th>Product_ID</th>\n",
       "      <th>Gender</th>\n",
       "      <th>Age</th>\n",
       "      <th>Occupation</th>\n",
       "      <th>City_Category</th>\n",
       "      <th>Stay_In_Current_City_Years</th>\n",
       "      <th>Marital_Status</th>\n",
       "      <th>Product_Category_1</th>\n",
       "      <th>Product_Category_2</th>\n",
       "      <th>Product_Category_3</th>\n",
       "      <th>Purchase</th>\n",
       "      <th>kind</th>\n",
       "    </tr>\n",
       "  </thead>\n",
       "  <tbody>\n",
       "    <tr>\n",
       "      <th>0</th>\n",
       "      <td>1000001</td>\n",
       "      <td>P00069042</td>\n",
       "      <td>F</td>\n",
       "      <td>0-17</td>\n",
       "      <td>10</td>\n",
       "      <td>A</td>\n",
       "      <td>2</td>\n",
       "      <td>0</td>\n",
       "      <td>3</td>\n",
       "      <td>NaN</td>\n",
       "      <td>NaN</td>\n",
       "      <td>8370.0</td>\n",
       "      <td>train</td>\n",
       "    </tr>\n",
       "    <tr>\n",
       "      <th>1</th>\n",
       "      <td>1000001</td>\n",
       "      <td>P00248942</td>\n",
       "      <td>F</td>\n",
       "      <td>0-17</td>\n",
       "      <td>10</td>\n",
       "      <td>A</td>\n",
       "      <td>2</td>\n",
       "      <td>0</td>\n",
       "      <td>1</td>\n",
       "      <td>6.0</td>\n",
       "      <td>14.0</td>\n",
       "      <td>15200.0</td>\n",
       "      <td>train</td>\n",
       "    </tr>\n",
       "    <tr>\n",
       "      <th>2</th>\n",
       "      <td>1000001</td>\n",
       "      <td>P00087842</td>\n",
       "      <td>F</td>\n",
       "      <td>0-17</td>\n",
       "      <td>10</td>\n",
       "      <td>A</td>\n",
       "      <td>2</td>\n",
       "      <td>0</td>\n",
       "      <td>12</td>\n",
       "      <td>NaN</td>\n",
       "      <td>NaN</td>\n",
       "      <td>1422.0</td>\n",
       "      <td>train</td>\n",
       "    </tr>\n",
       "    <tr>\n",
       "      <th>3</th>\n",
       "      <td>1000001</td>\n",
       "      <td>P00085442</td>\n",
       "      <td>F</td>\n",
       "      <td>0-17</td>\n",
       "      <td>10</td>\n",
       "      <td>A</td>\n",
       "      <td>2</td>\n",
       "      <td>0</td>\n",
       "      <td>12</td>\n",
       "      <td>14.0</td>\n",
       "      <td>NaN</td>\n",
       "      <td>1057.0</td>\n",
       "      <td>train</td>\n",
       "    </tr>\n",
       "    <tr>\n",
       "      <th>4</th>\n",
       "      <td>1000002</td>\n",
       "      <td>P00285442</td>\n",
       "      <td>M</td>\n",
       "      <td>55+</td>\n",
       "      <td>16</td>\n",
       "      <td>C</td>\n",
       "      <td>4+</td>\n",
       "      <td>0</td>\n",
       "      <td>8</td>\n",
       "      <td>NaN</td>\n",
       "      <td>NaN</td>\n",
       "      <td>7969.0</td>\n",
       "      <td>train</td>\n",
       "    </tr>\n",
       "    <tr>\n",
       "      <th>5</th>\n",
       "      <td>1000003</td>\n",
       "      <td>P00193542</td>\n",
       "      <td>M</td>\n",
       "      <td>26-35</td>\n",
       "      <td>15</td>\n",
       "      <td>A</td>\n",
       "      <td>3</td>\n",
       "      <td>0</td>\n",
       "      <td>1</td>\n",
       "      <td>2.0</td>\n",
       "      <td>NaN</td>\n",
       "      <td>15227.0</td>\n",
       "      <td>train</td>\n",
       "    </tr>\n",
       "    <tr>\n",
       "      <th>6</th>\n",
       "      <td>1000004</td>\n",
       "      <td>P00184942</td>\n",
       "      <td>M</td>\n",
       "      <td>46-50</td>\n",
       "      <td>7</td>\n",
       "      <td>B</td>\n",
       "      <td>2</td>\n",
       "      <td>1</td>\n",
       "      <td>1</td>\n",
       "      <td>8.0</td>\n",
       "      <td>17.0</td>\n",
       "      <td>19215.0</td>\n",
       "      <td>train</td>\n",
       "    </tr>\n",
       "  </tbody>\n",
       "</table>\n",
       "</div>"
      ],
      "text/plain": [
       "   User_ID Product_ID Gender    Age  Occupation City_Category  \\\n",
       "0  1000001  P00069042      F   0-17          10             A   \n",
       "1  1000001  P00248942      F   0-17          10             A   \n",
       "2  1000001  P00087842      F   0-17          10             A   \n",
       "3  1000001  P00085442      F   0-17          10             A   \n",
       "4  1000002  P00285442      M    55+          16             C   \n",
       "5  1000003  P00193542      M  26-35          15             A   \n",
       "6  1000004  P00184942      M  46-50           7             B   \n",
       "\n",
       "  Stay_In_Current_City_Years  Marital_Status  Product_Category_1  \\\n",
       "0                          2               0                   3   \n",
       "1                          2               0                   1   \n",
       "2                          2               0                  12   \n",
       "3                          2               0                  12   \n",
       "4                         4+               0                   8   \n",
       "5                          3               0                   1   \n",
       "6                          2               1                   1   \n",
       "\n",
       "   Product_Category_2  Product_Category_3  Purchase   kind  \n",
       "0                 NaN                 NaN    8370.0  train  \n",
       "1                 6.0                14.0   15200.0  train  \n",
       "2                 NaN                 NaN    1422.0  train  \n",
       "3                14.0                 NaN    1057.0  train  \n",
       "4                 NaN                 NaN    7969.0  train  \n",
       "5                 2.0                 NaN   15227.0  train  \n",
       "6                 8.0                17.0   19215.0  train  "
      ]
     },
     "execution_count": 380,
     "metadata": {},
     "output_type": "execute_result"
    }
   ],
   "source": [
    "combine.head(7)"
   ]
  },
  {
   "cell_type": "code",
   "execution_count": 381,
   "metadata": {
    "ExecuteTime": {
     "end_time": "2021-09-23T09:51:40.636350Z",
     "start_time": "2021-09-23T09:51:40.458091Z"
    }
   },
   "outputs": [
    {
     "name": "stdout",
     "output_type": "stream",
     "text": [
      "<class 'pandas.core.frame.DataFrame'>\n",
      "Int64Index: 783667 entries, 0 to 233598\n",
      "Data columns (total 13 columns):\n",
      " #   Column                      Non-Null Count   Dtype  \n",
      "---  ------                      --------------   -----  \n",
      " 0   User_ID                     783667 non-null  int64  \n",
      " 1   Product_ID                  783667 non-null  object \n",
      " 2   Gender                      783667 non-null  object \n",
      " 3   Age                         783667 non-null  object \n",
      " 4   Occupation                  783667 non-null  int64  \n",
      " 5   City_Category               783667 non-null  object \n",
      " 6   Stay_In_Current_City_Years  783667 non-null  object \n",
      " 7   Marital_Status              783667 non-null  int64  \n",
      " 8   Product_Category_1          783667 non-null  int64  \n",
      " 9   Product_Category_2          537685 non-null  float64\n",
      " 10  Product_Category_3          237858 non-null  float64\n",
      " 11  Purchase                    550068 non-null  float64\n",
      " 12  kind                        783667 non-null  object \n",
      "dtypes: float64(3), int64(4), object(6)\n",
      "memory usage: 83.7+ MB\n"
     ]
    }
   ],
   "source": [
    "combine.info()"
   ]
  },
  {
   "cell_type": "code",
   "execution_count": 382,
   "metadata": {
    "ExecuteTime": {
     "end_time": "2021-09-23T09:51:41.132467Z",
     "start_time": "2021-09-23T09:51:41.126463Z"
    }
   },
   "outputs": [
    {
     "data": {
      "text/plain": [
       "User_ID               int64\n",
       "Occupation            int64\n",
       "Marital_Status        int64\n",
       "Product_Category_1    int64\n",
       "dtype: object"
      ]
     },
     "execution_count": 382,
     "metadata": {},
     "output_type": "execute_result"
    }
   ],
   "source": [
    "combine.dtypes[combine.dtypes == 'int64']"
   ]
  },
  {
   "cell_type": "code",
   "execution_count": 383,
   "metadata": {
    "ExecuteTime": {
     "end_time": "2021-09-23T09:51:42.239710Z",
     "start_time": "2021-09-23T09:51:42.234235Z"
    }
   },
   "outputs": [
    {
     "data": {
      "text/plain": [
       "Product_ID                    object\n",
       "Gender                        object\n",
       "Age                           object\n",
       "City_Category                 object\n",
       "Stay_In_Current_City_Years    object\n",
       "kind                          object\n",
       "dtype: object"
      ]
     },
     "execution_count": 383,
     "metadata": {},
     "output_type": "execute_result"
    }
   ],
   "source": [
    "combine.dtypes[combine.dtypes == 'object']"
   ]
  },
  {
   "cell_type": "markdown",
   "metadata": {},
   "source": [
    "#### Summary\n",
    "* The Gender should be changed to categorical\n",
    "* The City category should also be changed to categorical\n",
    "* Stay in current city years should be treated.\n",
    "* The Age category will be stated clearly\n",
    "* Product category is a categorical variable (Missing data should be treated)\n",
    "* Purchase can be used to determine the price of the goods "
   ]
  },
  {
   "cell_type": "code",
   "execution_count": 384,
   "metadata": {
    "ExecuteTime": {
     "end_time": "2021-09-23T09:51:44.407940Z",
     "start_time": "2021-09-23T09:51:44.337072Z"
    }
   },
   "outputs": [
    {
     "data": {
      "text/plain": [
       "26-35    313015\n",
       "36-45    156724\n",
       "18-25    141953\n",
       "46-50     65278\n",
       "51-55     54784\n",
       "55+       30579\n",
       "0-17      21334\n",
       "Name: Age, dtype: int64"
      ]
     },
     "execution_count": 384,
     "metadata": {},
     "output_type": "execute_result"
    }
   ],
   "source": [
    "combine['Age'].value_counts()"
   ]
  },
  {
   "cell_type": "markdown",
   "metadata": {},
   "source": [
    "<h5>change the required columns of categorical  </h5>"
   ]
  },
  {
   "cell_type": "code",
   "execution_count": 385,
   "metadata": {
    "ExecuteTime": {
     "end_time": "2021-09-23T09:51:49.411592Z",
     "start_time": "2021-09-23T09:51:49.169458Z"
    }
   },
   "outputs": [],
   "source": [
    "combine['Gender'] = combine['Gender'].astype('category')\n",
    "combine['City_Category'] = combine['City_Category'].astype('category')\n",
    "combine['Stay_In_Current_City_Years'] = combine['Stay_In_Current_City_Years'].astype('category')\n",
    "combine['Product_Category_1'] = combine['Product_Category_1'].astype('category')\n",
    "combine['Product_Category_2'] = combine['Product_Category_2'].astype('category')\n",
    "combine['Product_Category_3'] = combine['Product_Category_3'].astype('category')\n",
    "combine['Age'] = combine['Age'].astype('category')\n",
    "combine['City_Category'] = combine['City_Category'].astype('category')\n",
    "combine['Occupation'] = combine['Occupation'].astype('category')\n",
    "combine['Marital_Status'] = combine['Marital_Status'].astype('category')"
   ]
  },
  {
   "cell_type": "code",
   "execution_count": 386,
   "metadata": {
    "ExecuteTime": {
     "end_time": "2021-09-23T09:51:50.174881Z",
     "start_time": "2021-09-23T09:51:50.169196Z"
    }
   },
   "outputs": [
    {
     "data": {
      "text/plain": [
       "Gender                        category\n",
       "Age                           category\n",
       "Occupation                    category\n",
       "City_Category                 category\n",
       "Stay_In_Current_City_Years    category\n",
       "Marital_Status                category\n",
       "Product_Category_1            category\n",
       "Product_Category_2            category\n",
       "Product_Category_3            category\n",
       "dtype: object"
      ]
     },
     "execution_count": 386,
     "metadata": {},
     "output_type": "execute_result"
    }
   ],
   "source": [
    "combine.dtypes[combine.dtypes == 'category']"
   ]
  },
  {
   "cell_type": "code",
   "execution_count": 387,
   "metadata": {
    "ExecuteTime": {
     "end_time": "2021-09-23T09:51:53.623421Z",
     "start_time": "2021-09-23T09:51:53.375241Z"
    }
   },
   "outputs": [
    {
     "data": {
      "text/plain": [
       "(3631, 3491)"
      ]
     },
     "execution_count": 387,
     "metadata": {},
     "output_type": "execute_result"
    }
   ],
   "source": [
    "#Find out the number of unique products\n",
    "combine.loc[(combine['kind']=='train')].Product_ID.nunique(), combine.loc[(combine['kind']=='test')].Product_ID.nunique()"
   ]
  },
  {
   "cell_type": "code",
   "execution_count": 388,
   "metadata": {
    "ExecuteTime": {
     "end_time": "2021-09-23T09:51:53.997546Z",
     "start_time": "2021-09-23T09:51:53.854659Z"
    }
   },
   "outputs": [
    {
     "data": {
      "text/plain": [
       "(5891, 5891)"
      ]
     },
     "execution_count": 388,
     "metadata": {},
     "output_type": "execute_result"
    }
   ],
   "source": [
    "#Find out the number of unique users\n",
    "combine.loc[(combine['kind']=='train')].User_ID.nunique(),combine.loc[(combine['kind']=='test')].User_ID.nunique()"
   ]
  },
  {
   "cell_type": "code",
   "execution_count": 389,
   "metadata": {
    "ExecuteTime": {
     "end_time": "2021-09-23T09:51:54.175474Z",
     "start_time": "2021-09-23T09:51:54.152675Z"
    }
   },
   "outputs": [
    {
     "data": {
      "text/plain": [
       "1001680    1468\n",
       "1004277    1384\n",
       "1001941    1286\n",
       "1001181    1230\n",
       "1000889    1204\n",
       "           ... \n",
       "1005117      13\n",
       "1004991      13\n",
       "1000708      13\n",
       "1005804      13\n",
       "1000341      13\n",
       "Name: User_ID, Length: 5891, dtype: int64"
      ]
     },
     "execution_count": 389,
     "metadata": {},
     "output_type": "execute_result"
    }
   ],
   "source": [
    "combine['User_ID'].value_counts()"
   ]
  },
  {
   "cell_type": "code",
   "execution_count": 390,
   "metadata": {
    "ExecuteTime": {
     "end_time": "2021-09-23T09:51:54.536011Z",
     "start_time": "2021-09-23T09:51:54.464489Z"
    }
   },
   "outputs": [
    {
     "data": {
      "text/html": [
       "<div>\n",
       "<style scoped>\n",
       "    .dataframe tbody tr th:only-of-type {\n",
       "        vertical-align: middle;\n",
       "    }\n",
       "\n",
       "    .dataframe tbody tr th {\n",
       "        vertical-align: top;\n",
       "    }\n",
       "\n",
       "    .dataframe thead th {\n",
       "        text-align: right;\n",
       "    }\n",
       "</style>\n",
       "<table border=\"1\" class=\"dataframe\">\n",
       "  <thead>\n",
       "    <tr style=\"text-align: right;\">\n",
       "      <th></th>\n",
       "      <th>User_ID</th>\n",
       "      <th>Purchase</th>\n",
       "    </tr>\n",
       "  </thead>\n",
       "  <tbody>\n",
       "    <tr>\n",
       "      <th>count</th>\n",
       "      <td>7.836670e+05</td>\n",
       "      <td>550068.000000</td>\n",
       "    </tr>\n",
       "    <tr>\n",
       "      <th>mean</th>\n",
       "      <td>1.003029e+06</td>\n",
       "      <td>9263.968713</td>\n",
       "    </tr>\n",
       "    <tr>\n",
       "      <th>std</th>\n",
       "      <td>1.727267e+03</td>\n",
       "      <td>5023.065394</td>\n",
       "    </tr>\n",
       "    <tr>\n",
       "      <th>min</th>\n",
       "      <td>1.000001e+06</td>\n",
       "      <td>12.000000</td>\n",
       "    </tr>\n",
       "    <tr>\n",
       "      <th>25%</th>\n",
       "      <td>1.001519e+06</td>\n",
       "      <td>5823.000000</td>\n",
       "    </tr>\n",
       "    <tr>\n",
       "      <th>50%</th>\n",
       "      <td>1.003075e+06</td>\n",
       "      <td>8047.000000</td>\n",
       "    </tr>\n",
       "    <tr>\n",
       "      <th>75%</th>\n",
       "      <td>1.004478e+06</td>\n",
       "      <td>12054.000000</td>\n",
       "    </tr>\n",
       "    <tr>\n",
       "      <th>max</th>\n",
       "      <td>1.006040e+06</td>\n",
       "      <td>23961.000000</td>\n",
       "    </tr>\n",
       "  </tbody>\n",
       "</table>\n",
       "</div>"
      ],
      "text/plain": [
       "            User_ID       Purchase\n",
       "count  7.836670e+05  550068.000000\n",
       "mean   1.003029e+06    9263.968713\n",
       "std    1.727267e+03    5023.065394\n",
       "min    1.000001e+06      12.000000\n",
       "25%    1.001519e+06    5823.000000\n",
       "50%    1.003075e+06    8047.000000\n",
       "75%    1.004478e+06   12054.000000\n",
       "max    1.006040e+06   23961.000000"
      ]
     },
     "execution_count": 390,
     "metadata": {},
     "output_type": "execute_result"
    }
   ],
   "source": [
    "#here we describe the new data set to view all stastical measures\n",
    "combine.describe()"
   ]
  },
  {
   "cell_type": "markdown",
   "metadata": {},
   "source": [
    "From the above data the Purchase needs to be observed carefull. \n"
   ]
  },
  {
   "cell_type": "markdown",
   "metadata": {},
   "source": [
    "<h5>Then we want to find out the number of missing values in the data set </h5>"
   ]
  },
  {
   "cell_type": "code",
   "execution_count": 391,
   "metadata": {
    "ExecuteTime": {
     "end_time": "2021-09-23T09:51:58.252642Z",
     "start_time": "2021-09-23T09:51:58.175358Z"
    }
   },
   "outputs": [
    {
     "data": {
      "text/plain": [
       "User_ID                            0\n",
       "Product_ID                         0\n",
       "Gender                             0\n",
       "Age                                0\n",
       "Occupation                         0\n",
       "City_Category                      0\n",
       "Stay_In_Current_City_Years         0\n",
       "Marital_Status                     0\n",
       "Product_Category_1                 0\n",
       "Product_Category_2            245982\n",
       "Product_Category_3            545809\n",
       "Purchase                      233599\n",
       "kind                               0\n",
       "dtype: int64"
      ]
     },
     "execution_count": 391,
     "metadata": {},
     "output_type": "execute_result"
    }
   ],
   "source": [
    "#identify null values\n",
    "combine.isnull().sum()"
   ]
  },
  {
   "cell_type": "markdown",
   "metadata": {},
   "source": [
    "<h5>Visualizing the dataset with missing value library \"Missingno\"  </h5>\n",
    "With the aid of this library. the whole data set caan be viewed in a holistic manner. Viewing all the basic data variables, showing misisng and enpty variable set. "
   ]
  },
  {
   "cell_type": "code",
   "execution_count": 392,
   "metadata": {
    "ExecuteTime": {
     "end_time": "2021-09-23T09:52:06.918232Z",
     "start_time": "2021-09-23T09:52:04.940909Z"
    }
   },
   "outputs": [
    {
     "data": {
      "image/png": "[encoded data removed]",
      "text/plain": [
       "<Figure size 1800x720 with 2 Axes>"
      ]
     },
     "metadata": {
      "needs_background": "light"
     },
     "output_type": "display_data"
    }
   ],
   "source": [
    "#combine and visualize the missing values\n",
    "msno.matrix(combine);"
   ]
  },
  {
   "cell_type": "code",
   "execution_count": 393,
   "metadata": {
    "ExecuteTime": {
     "end_time": "2021-09-23T09:52:49.612585Z",
     "start_time": "2021-09-23T09:52:49.448724Z"
    }
   },
   "outputs": [],
   "source": [
    "#bring back the test and train from the combine just for EDA\n",
    "train = combine[combine['kind'] == 'train']\n",
    "test = combine[combine['kind'] == 'test']"
   ]
  },
  {
   "cell_type": "markdown",
   "metadata": {},
   "source": [
    "<h2>3. EDA</h2>\n",
    "let's try to see the relation between the labels and the target"
   ]
  },
  {
   "cell_type": "markdown",
   "metadata": {},
   "source": [
    "<h3> Univarite Analysis Categorical</h3>\n",
    "The data count in all variables, this will show the total variation among thee data set cleaarly seeing the categorical data set in a graphical (Barchart view)"
   ]
  },
  {
   "cell_type": "code",
   "execution_count": null,
   "metadata": {
    "ExecuteTime": {
     "end_time": "2021-09-23T05:09:45.648243Z",
     "start_time": "2021-09-23T05:09:45.645696Z"
    }
   },
   "outputs": [],
   "source": [
    "cat = ['Gender','City_Category','Marital_Status','Occupation','Product_Category_1','Product_Category_2','Product_Category_3']\n",
    "numerical = ['Purchase','User_ID']"
   ]
  },
  {
   "cell_type": "code",
   "execution_count": null,
   "metadata": {
    "ExecuteTime": {
     "end_time": "2021-09-23T05:09:45.657219Z",
     "start_time": "2021-09-23T05:09:45.650050Z"
    }
   },
   "outputs": [],
   "source": [
    "def Explore_Cat_Data( data, var_group):\n",
    "    '''\n",
    "    This function is aimed to count the number of unique values in a group of categorical variable \n",
    "    '''\n",
    "    \n",
    "    size = len(var_group)\n",
    "    plt.figure(figsize = (7*size,5), dpi = 100)\n",
    "\n",
    "    for j,i in enumerate(var_group):\n",
    "        count = data[i].value_counts()\n",
    "        u_count = data[i].nunique()\n",
    "        mode = data[i].mode()\n",
    "        \n",
    "        norm_count = data[i].value_counts(normalize = True)\n",
    "        n_uni = data[i].nunique()\n",
    "       \n",
    "        x=norm_count\n",
    "        y=norm_count.index\n",
    "        plt.subplot(1,size,j+1)\n",
    "        sns.barplot(x=x, y=y, order = norm_count.index)\n",
    "        plt.xlabel('fraction/percent', fontsize = 20)\n",
    "        plt.ylabel('{}'.format(i), fontsize = 20)\n",
    "        plt.title('n_uniques = {} \\n value counts \\n {}% '.format(n_uni,norm_count*100))\n",
    "        \n",
    "        print(i)\n",
    "        a = len(count)\n",
    "        #for i in range(0,a):\n",
    "            #print ('the number of unique in {} is {}'.format((count[:a].index[i]),(count[:a].values[i])))\n",
    "\n",
    "\n",
    "        "
   ]
  },
  {
   "cell_type": "code",
   "execution_count": null,
   "metadata": {
    "ExecuteTime": {
     "end_time": "2021-09-23T05:09:47.741932Z",
     "start_time": "2021-09-23T05:09:45.659378Z"
    }
   },
   "outputs": [],
   "source": [
    "Explore_Cat_Data(train,cat)"
   ]
  },
  {
   "cell_type": "markdown",
   "metadata": {},
   "source": [
    "### Summary\n",
    "* **Gender**\n",
    "    * The unique value is 2 \n",
    "    * Males is 75%\n",
    "    * Females is 25%\n",
    "* **City Category**\n",
    "    * From the data Stay in city category \n",
    "    * i) A - 27%\n",
    "    * ii) B - 42%\n",
    "    * iii) C - 31%\n",
    "* **Marital Status** \n",
    "    * There are two unique marital status\n",
    "    * 59% - Single \n",
    "    * 40% - Married\n",
    "* **Prouduct Category 1-3**\n",
    "    * Best selling in category 1 is 5\n",
    "    * Best selling in category 2 is 8\n",
    "    * Best selling in category 3 is 16"
   ]
  },
  {
   "cell_type": "markdown",
   "metadata": {},
   "source": [
    "### Categorical variable Count\n",
    "You can also view the categorical variables count. "
   ]
  },
  {
   "cell_type": "code",
   "execution_count": null,
   "metadata": {
    "ExecuteTime": {
     "end_time": "2021-09-23T05:09:47.755355Z",
     "start_time": "2021-09-23T05:09:47.751652Z"
    }
   },
   "outputs": [],
   "source": [
    "#make the prediction and target column \n",
    "target = 'Purchase'\n",
    "cat_col = ['Age', 'City_Category', 'Gender', 'Marital_Status', 'Stay_In_Current_City_Years',\n",
    "           'Occupation', 'Product_Category_1', 'Product_Category_2', 'Product_Category_3']"
   ]
  },
  {
   "cell_type": "code",
   "execution_count": null,
   "metadata": {
    "ExecuteTime": {
     "end_time": "2021-09-23T05:09:49.683826Z",
     "start_time": "2021-09-23T05:09:47.760941Z"
    }
   },
   "outputs": [],
   "source": [
    "#Visualize the data in a barchart\n",
    "fig, ax = plt.subplots(5,2, figsize=(15,18))\n",
    "ax.flat[-1].set_visible(False) # to remove last plot\n",
    "for i,col in enumerate(cat_col):\n",
    "    plt.subplot(5,2,i+1)\n",
    "    sns.countplot(x=col, data=train)\n",
    "    plt.xlabel(col)"
   ]
  },
  {
   "cell_type": "code",
   "execution_count": null,
   "metadata": {
    "ExecuteTime": {
     "end_time": "2021-09-23T05:09:49.722260Z",
     "start_time": "2021-09-23T05:09:49.686276Z"
    }
   },
   "outputs": [],
   "source": [
    "a = (train[['Product_Category_1','Product_Category_2','Product_Category_3','Purchase']].groupby('Product_Category_1', as_index =True).agg({\"Purchase\":\"sum\"}).round(2)).sum() \n",
    "b = (train[['Product_Category_1','Product_Category_2','Product_Category_3','Purchase']].groupby('Product_Category_2', as_index =True).agg({\"Purchase\":\"sum\"}).round(2)).sum()\n",
    "c = (train[['Product_Category_1','Product_Category_2','Product_Category_3','Purchase']].groupby('Product_Category_3', as_index =True).agg({\"Purchase\":\"sum\"}).round(2)).sum()\n",
    "\n"
   ]
  },
  {
   "cell_type": "code",
   "execution_count": null,
   "metadata": {
    "ExecuteTime": {
     "end_time": "2021-09-23T05:09:49.728724Z",
     "start_time": "2021-09-23T05:09:49.723860Z"
    }
   },
   "outputs": [],
   "source": [
    "a, b, c"
   ]
  },
  {
   "cell_type": "markdown",
   "metadata": {},
   "source": [
    "### Summary\n",
    "* **Product category**\n",
    "    * Product 1 sell more products \n",
    "* **City category** \n",
    "    * Only people in the city within one year buy more  why?\\\n",
    "* **GenderMen**\n",
    "    * Shop more in this store\n",
    "* **main shoppers** \n",
    "    * are withing 25- 36 years"
   ]
  },
  {
   "cell_type": "markdown",
   "metadata": {},
   "source": [
    "<h3>Ploting Unique product by age group and Age group distribution.</h3>\n",
    "The plot show us the comparation between age group per unique product sold and the age group distribution on the data set. "
   ]
  },
  {
   "cell_type": "code",
   "execution_count": null,
   "metadata": {
    "ExecuteTime": {
     "end_time": "2021-09-23T05:09:50.805703Z",
     "start_time": "2021-09-23T05:09:49.730304Z"
    }
   },
   "outputs": [],
   "source": [
    "#visualize how age is distributed\n",
    "prod_byage = train.groupby('Age').nunique()['Product_ID']\n",
    "\n",
    "fig,ax = plt.subplots(1,2,figsize=(10,4))\n",
    "ax = ax.ravel()\n",
    "\n",
    "sns.countplot(train['Age'].sort_values(),ax=ax[0], palette=\"Blues_d\")\n",
    "ax[0].set_xlabel('Age Group')\n",
    "ax[0].set_title('Age Group Distribution')\n",
    "sns.barplot(x=prod_byage.index,y=prod_byage.values,ax=ax[1], palette=\"Blues_d\")\n",
    "ax[1].set_xlabel('Age Group')\n",
    "ax[1].set_title('Unique Products by Age')\n",
    "\n",
    "plt.show()"
   ]
  },
  {
   "cell_type": "markdown",
   "metadata": {},
   "source": [
    "<h3>Occupation Distribution  </h3>"
   ]
  },
  {
   "cell_type": "code",
   "execution_count": null,
   "metadata": {
    "ExecuteTime": {
     "end_time": "2021-09-23T05:09:51.040807Z",
     "start_time": "2021-09-23T05:09:50.808226Z"
    }
   },
   "outputs": [],
   "source": [
    "#view occupied Distribution\n",
    "plt.figure(figsize=(12,6))\n",
    "sns.countplot(train['Occupation'])\n",
    "plt.title('Occupation Distribution')\n",
    "plt.show()"
   ]
  },
  {
   "cell_type": "markdown",
   "metadata": {},
   "source": [
    "### Summary\n"
   ]
  },
  {
   "cell_type": "code",
   "execution_count": null,
   "metadata": {},
   "outputs": [],
   "source": []
  },
  {
   "cell_type": "markdown",
   "metadata": {},
   "source": [
    "### Univariate Numerical"
   ]
  },
  {
   "cell_type": "code",
   "execution_count": null,
   "metadata": {
    "ExecuteTime": {
     "end_time": "2021-09-23T05:09:51.048740Z",
     "start_time": "2021-09-23T05:09:51.042550Z"
    }
   },
   "outputs": [],
   "source": [
    "# custom function for easy and efficient analysis of numerical univariate\n",
    "\n",
    "def Explore_numeric_Data(data, var_group):\n",
    "  '''\n",
    "  Univariate_Analysis_numeric\n",
    "  takes a group of variables (INTEGER and FLOAT) and plot/print all the descriptives and properties along with KDE.\n",
    "\n",
    "  Runs a loop: calculate all the descriptives of i(th) variable and plot/print it\n",
    "  '''\n",
    "\n",
    "  size = len(var_group)\n",
    "  plt.figure(figsize = (7*size,3), dpi = 100)\n",
    "  \n",
    "  #looping for each variable\n",
    "  for j,i in enumerate(var_group):\n",
    "    \n",
    "    # calculating descriptives of variable\n",
    "    mini = data[i].min()\n",
    "    maxi = data[i].max()\n",
    "    ran = data[i].max()-data[i].min()\n",
    "    mean = data[i].mean()\n",
    "    median = data[i].median()\n",
    "    st_dev = data[i].std()\n",
    "    skew = data[i].skew()\n",
    "    kurt = data[i].kurtosis()\n",
    "\n",
    "    # calculating points of standard deviation\n",
    "    points = mean-st_dev, mean+st_dev\n",
    "\n",
    "    #Plotting the variable with every information\n",
    "    plt.subplot(1,size,j+1)\n",
    "    sns.kdeplot(data[i], shade=True)\n",
    "    sns.lineplot(points, [0,0], color = 'black', label = \"std_dev\")\n",
    "    sns.scatterplot([mini,maxi], [0,0], color = 'orange', label = \"min/max\")\n",
    "    sns.scatterplot([mean], [0], color = 'red', label = \"mean\")\n",
    "    sns.scatterplot([median], [0], color = 'blue', label = \"median\")\n",
    "    plt.xlabel('{}'.format(i), fontsize = 20)\n",
    "    plt.ylabel('density')\n",
    "    plt.title('std_dev = {}; kurtosis = {};\\nskew = {}; range = {}\\nmean = {}; median = {}'.format((round(points[0],2),round(points[1],2)),\n",
    "                                                                                                   round(kurt,2),\n",
    "                                                                                                   round(skew,2),\n",
    "                                                                                                   (round(mini,2),round(maxi,2),round(ran,2)),\n",
    "                                                                                                   round(mean,2),\n",
    "                                                                                                   round(median,2)))"
   ]
  },
  {
   "cell_type": "code",
   "execution_count": null,
   "metadata": {
    "ExecuteTime": {
     "end_time": "2021-09-23T05:09:55.597474Z",
     "start_time": "2021-09-23T05:09:51.050624Z"
    }
   },
   "outputs": [],
   "source": [
    "Explore_numeric_Data(train,numerical)"
   ]
  },
  {
   "cell_type": "markdown",
   "metadata": {},
   "source": [
    "### Summary\n",
    "* **Purchae**\n",
    "    *    **Most customers purchase between USD4240.9 to USD14287.03**\n",
    "    *    skewness 0.6 : Purchase is **negligibly biased towards lower purchased**\n",
    "    *    **kurtosis = -0.34**; very less likely to have extreme/outlier values.\n",
    "* **User_ID** \n",
    "    * variable is **unique for every customer, Hence uniform** distribution.\n",
    "    * This variable **does not contribute any information**\n",
    "    * Can be eliminated from data"
   ]
  },
  {
   "cell_type": "markdown",
   "metadata": {},
   "source": [
    "### MultiVariate Analysis on  Numerical - Categorical"
   ]
  },
  {
   "cell_type": "markdown",
   "metadata": {},
   "source": [
    "<h3>Ploting categories by purchase made.</h3>\n",
    "This shows the Gender categories per purchase made in different city category. A clear view of what happens in different city distribution. the male in city category C. shows a little lead, follow by the Males in city category B. This means that our result will have some significant be impact.\n"
   ]
  },
  {
   "cell_type": "code",
   "execution_count": null,
   "metadata": {
    "ExecuteTime": {
     "end_time": "2021-09-23T05:10:00.267678Z",
     "start_time": "2021-09-23T05:09:55.600330Z"
    }
   },
   "outputs": [],
   "source": [
    "#gender distribution for different categories\n",
    "g = sns.FacetGrid(train,col=\"City_Category\")\n",
    "g.map(sns.barplot, \"Gender\", \"Purchase\");"
   ]
  },
  {
   "cell_type": "markdown",
   "metadata": {},
   "source": [
    "### Summary\n",
    "* **City category**\n",
    "    * In A: The difference between the male and female isn't much\n",
    "    * In B: The difference is quite significant Male bought more\n",
    "    * In C: There id significant differnce Also, Male bought the highest"
   ]
  },
  {
   "cell_type": "markdown",
   "metadata": {},
   "source": [
    "<h3>Purchase against stay in city category.</h3>\n",
    "This clearly hows the distribution of purchases, according to marital status by their cities. "
   ]
  },
  {
   "cell_type": "code",
   "execution_count": null,
   "metadata": {
    "ExecuteTime": {
     "end_time": "2021-09-23T05:10:01.305612Z",
     "start_time": "2021-09-23T05:10:00.270790Z"
    }
   },
   "outputs": [],
   "source": [
    "#violine chart for marital status on different city category\n",
    "sns.violinplot(x='City_Category',y='Purchase',hue='Marital_Status', data=train)"
   ]
  },
  {
   "cell_type": "markdown",
   "metadata": {},
   "source": [
    "<h3>Box Plot of Purchases according to their ages.</h3>\n",
    "The box plot show the purchases by age group. There are outliers ofcourse it can be seen clearly. "
   ]
  },
  {
   "cell_type": "code",
   "execution_count": null,
   "metadata": {
    "ExecuteTime": {
     "end_time": "2021-09-23T05:10:01.512178Z",
     "start_time": "2021-09-23T05:10:01.307845Z"
    }
   },
   "outputs": [],
   "source": [
    "#box plot to view outliers\n",
    "sns.boxplot('Age','Purchase', data = train)\n",
    "plt.show()"
   ]
  },
  {
   "cell_type": "markdown",
   "metadata": {},
   "source": [
    "### Summary\n",
    "* **Age**\n",
    "    * Lot of missing values visible"
   ]
  },
  {
   "cell_type": "markdown",
   "metadata": {},
   "source": [
    "<h3>Next dive deep into the product categories to find the categories purchase per sub category</h3>"
   ]
  },
  {
   "cell_type": "code",
   "execution_count": null,
   "metadata": {
    "ExecuteTime": {
     "end_time": "2021-09-23T05:10:01.518668Z",
     "start_time": "2021-09-23T05:10:01.514705Z"
    }
   },
   "outputs": [],
   "source": [
    "def find_category(Cat):\n",
    "    SubCategory = []\n",
    "    mean_purchase = []\n",
    "\n",
    "    for i in train[Cat].unique():\n",
    "        SubCategory.append(i)\n",
    "    SubCategory.sort()\n",
    "\n",
    "    for e in SubCategory:\n",
    "        mean_purchase.append(train[train[Cat]==e]['Purchase'].mean())\n",
    "\n",
    "    plt.figure(figsize=(10,5))\n",
    "\n",
    "    sns.barplot(x=SubCategory,y=mean_purchase)\n",
    "    plt.title('Mean of the Purchases per SubCategory')\n",
    "\n",
    "    plt.xlabel(Cat, rotation=0)\n",
    "    plt.ylabel('Mean Purchase')\n",
    "    plt.show()"
   ]
  },
  {
   "cell_type": "code",
   "execution_count": null,
   "metadata": {
    "ExecuteTime": {
     "end_time": "2021-09-23T05:10:02.515369Z",
     "start_time": "2021-09-23T05:10:01.520649Z"
    }
   },
   "outputs": [],
   "source": [
    "find_category('Product_Category_1') \n",
    "find_category('Product_Category_2')\n",
    "find_category('Product_Category_3')"
   ]
  },
  {
   "cell_type": "markdown",
   "metadata": {},
   "source": [
    " "
   ]
  },
  {
   "cell_type": "markdown",
   "metadata": {},
   "source": [
    "### Summary\n",
    "* **Mean Purchase**\n",
    "  * **Product Category 1**\n",
    "    - On Average Product 10 peformed better\n",
    "    - On Average the worst seller is Product 19\n",
    "  * **Product Category 2**\n",
    "    - On Average Product 10 peformed better\n",
    "    - On Average the worst sellers include 7,12 and 14   \n",
    "  * **Product Category 3**\n",
    "    - On Average Product 3 peformed better\n",
    "    - On Average the worst seller is product 12"
   ]
  },
  {
   "cell_type": "markdown",
   "metadata": {},
   "source": [
    "### MultiVariate Analysis on  Categorical - Categorical"
   ]
  },
  {
   "cell_type": "markdown",
   "metadata": {},
   "source": [
    "<h3>Marital status against the stay in city.</h3>\n"
   ]
  },
  {
   "cell_type": "code",
   "execution_count": null,
   "metadata": {
    "ExecuteTime": {
     "end_time": "2021-09-23T05:10:08.425937Z",
     "start_time": "2021-09-23T05:10:02.517761Z"
    }
   },
   "outputs": [],
   "source": [
    "#marrital status for amount of years stayes in city\n",
    "g = sns.FacetGrid(train,col=\"Stay_In_Current_City_Years\")\n",
    "g.map(sns.barplot, \"Marital_Status\", \"Purchase\");"
   ]
  },
  {
   "cell_type": "markdown",
   "metadata": {},
   "source": [
    "<h3>Correlation heat map between the variables  </h3>\n",
    "This is used to view the correlation between the continous variables. Most of which are non corrolated to each other, the product categories show the most sign of corellation."
   ]
  },
  {
   "cell_type": "code",
   "execution_count": null,
   "metadata": {
    "ExecuteTime": {
     "end_time": "2021-09-23T05:10:08.598682Z",
     "start_time": "2021-09-23T05:10:08.427903Z"
    }
   },
   "outputs": [],
   "source": [
    "#Check the corrolation of the train data\n",
    "corrmat = train.corr()\n",
    "fig,ax = plt.subplots(figsize = (12,9))\n",
    "sns.heatmap(corrmat, vmax=1.0, square=True)"
   ]
  },
  {
   "cell_type": "markdown",
   "metadata": {},
   "source": [
    "### Summary\n",
    "* **Correlation**\n",
    "-The related data just include the product category. \\\n",
    "The others have little or no correlation"
   ]
  },
  {
   "cell_type": "markdown",
   "metadata": {},
   "source": [
    "<h2>Feature Engineering</h2>"
   ]
  },
  {
   "cell_type": "markdown",
   "metadata": {},
   "source": [
    "The Age category, Gender, stay category and the city category are classified accordingly"
   ]
  },
  {
   "cell_type": "code",
   "execution_count": 394,
   "metadata": {
    "ExecuteTime": {
     "end_time": "2021-09-23T09:53:04.100750Z",
     "start_time": "2021-09-23T09:53:04.084801Z"
    }
   },
   "outputs": [],
   "source": [
    "#Create a new category integer for age and city\n",
    "age_cat = {'0-17':0, '18-25':1, '26-35':2, '36-45':3, '46-50':4, '51-55':5, '55+':6}\n",
    "combine['Age'] = combine['Age'].map(age_cat)\n",
    "\n",
    "stay_age = {'0':0, '1':1, '2':2, '3':3, '4+':4}\n",
    "combine['Stay_In_Current_City_Years'] = combine['Stay_In_Current_City_Years'].map(stay_age)\n",
    "\n",
    "city_cat = {'A':1, 'B':2, 'C':3}\n",
    "combine['City_Category'] = combine['City_Category'].map(city_cat)\n",
    "\n",
    "gender_cat = {'M':0, 'F':1}\n",
    "combine['Gender'] = combine['Gender'].map(gender_cat)"
   ]
  },
  {
   "cell_type": "code",
   "execution_count": 395,
   "metadata": {
    "ExecuteTime": {
     "end_time": "2021-09-23T09:53:06.879718Z",
     "start_time": "2021-09-23T09:53:06.778238Z"
    }
   },
   "outputs": [
    {
     "name": "stdout",
     "output_type": "stream",
     "text": [
      "<class 'pandas.core.frame.DataFrame'>\n",
      "Int64Index: 783667 entries, 0 to 233598\n",
      "Data columns (total 13 columns):\n",
      " #   Column                      Non-Null Count   Dtype   \n",
      "---  ------                      --------------   -----   \n",
      " 0   User_ID                     783667 non-null  int64   \n",
      " 1   Product_ID                  783667 non-null  object  \n",
      " 2   Gender                      783667 non-null  category\n",
      " 3   Age                         783667 non-null  category\n",
      " 4   Occupation                  783667 non-null  category\n",
      " 5   City_Category               783667 non-null  category\n",
      " 6   Stay_In_Current_City_Years  783667 non-null  category\n",
      " 7   Marital_Status              783667 non-null  category\n",
      " 8   Product_Category_1          783667 non-null  category\n",
      " 9   Product_Category_2          537685 non-null  category\n",
      " 10  Product_Category_3          237858 non-null  category\n",
      " 11  Purchase                    550068 non-null  float64 \n",
      " 12  kind                        783667 non-null  object  \n",
      "dtypes: category(9), float64(1), int64(1), object(2)\n",
      "memory usage: 36.6+ MB\n"
     ]
    }
   ],
   "source": [
    "#view the type of data in each column\n",
    "combine.info()"
   ]
  },
  {
   "cell_type": "markdown",
   "metadata": {},
   "source": [
    "<h3>Create some more variable </h3>"
   ]
  },
  {
   "cell_type": "markdown",
   "metadata": {},
   "source": [
    "<h4>Price</h4>\n",
    "Although this variable isn't given, it is clear it has impact on the prediction. the price is gotten from the minimum purchase value of a particular Product_ID. Assuming that is the price. \n",
    "Dictionary of product IDs with minimum purchase"
   ]
  },
  {
   "cell_type": "code",
   "execution_count": 396,
   "metadata": {
    "ExecuteTime": {
     "end_time": "2021-09-23T09:53:13.047244Z",
     "start_time": "2021-09-23T09:53:11.798223Z"
    }
   },
   "outputs": [],
   "source": [
    "prod_prices = combine.groupby('Product_ID').min()['Purchase'].to_dict()"
   ]
  },
  {
   "cell_type": "code",
   "execution_count": 397,
   "metadata": {
    "ExecuteTime": {
     "end_time": "2021-09-23T09:53:18.073902Z",
     "start_time": "2021-09-23T09:53:13.498230Z"
    }
   },
   "outputs": [],
   "source": [
    "# Find price from the minimun of price of all category\n",
    "def find_price(row):\n",
    "    prod = row['Product_ID']\n",
    "    return prod_prices[prod]\n",
    "\n",
    "combine['Price'] = combine.apply(find_price,axis=1)"
   ]
  },
  {
   "cell_type": "markdown",
   "metadata": {},
   "source": [
    "<h3>Bachelor/Spintser</h3>\n",
    "This variable is derived form the single marital status at a particular age group. "
   ]
  },
  {
   "cell_type": "code",
   "execution_count": 398,
   "metadata": {
    "ExecuteTime": {
     "end_time": "2021-09-23T09:53:21.480061Z",
     "start_time": "2021-09-23T09:53:21.460339Z"
    }
   },
   "outputs": [],
   "source": [
    "combine['Bachelor']=((combine.Age == 2) & (combine.Marital_Status == 0) & (combine.Gender == 1)).astype(int)\n",
    "combine['Spintser']=((combine.Age == 2) & (combine.Marital_Status == 0) & (combine.Gender == 0)).astype(int)"
   ]
  },
  {
   "cell_type": "markdown",
   "metadata": {},
   "source": [
    "<h3>Dependent/working/retired </h3>\n",
    "This variable is derived form the age and marital status at a age group 1, 2-5 and 6. "
   ]
  },
  {
   "cell_type": "code",
   "execution_count": 399,
   "metadata": {
    "ExecuteTime": {
     "end_time": "2021-09-23T09:53:25.512585Z",
     "start_time": "2021-09-23T09:53:25.480006Z"
    }
   },
   "outputs": [],
   "source": [
    "combine['Dependent']=((combine.Age == 0)).astype(int)\n",
    "combine['Employed']=((combine.Age == 2) | (combine.Age == 3) | (combine.Age == 4) | (combine.Age == 5)).astype(int)\n",
    "combine['Working']=((combine.Age == 2) | (combine.Age == 3) | (combine.Age == 4) | (combine.Age == 5) & ((combine.Occupation != 10)|(combine.Occupation != 16))).astype(int)\n",
    "combine['Retired']= ((combine.Age == 6) ).astype(int)"
   ]
  },
  {
   "cell_type": "markdown",
   "metadata": {},
   "source": [
    "### Using Missing Values\n",
    "Here i will just add two columns to specify the row that got missing value, so 1 if the row is missing and 0 if not\n",
    "and i will use them as a features"
   ]
  },
  {
   "cell_type": "code",
   "execution_count": 400,
   "metadata": {
    "ExecuteTime": {
     "end_time": "2021-09-23T09:53:35.275864Z",
     "start_time": "2021-09-23T09:53:35.267689Z"
    }
   },
   "outputs": [],
   "source": [
    "#combine['Product_Category_3'].fillna(value='missing')\n",
    "#combine['Product_Category_3'].isnull()\n",
    "combine['Product_Category_3'] = (combine['Product_Category_3'].isnull()).astype('int')\n",
    "#combine['Product_Category_2'] = (combine['Product_Category_2'].isnull()).astype('int')\n",
    "#combine['Product_Category_3'] = (combine['Product_Category_3'].isnull()).astype('int')\n",
    "#combine['Product_Category_3']"
   ]
  },
  {
   "cell_type": "code",
   "execution_count": 401,
   "metadata": {
    "ExecuteTime": {
     "end_time": "2021-09-23T09:53:43.505442Z",
     "start_time": "2021-09-23T09:53:42.649697Z"
    }
   },
   "outputs": [],
   "source": [
    "#create misisng value column to identify which have misisng values\n",
    "#using backfill method for the missing values \n",
    "data = combine\n",
    "data['miss_1'] = [1 if x!=x else 0 for x in combine['Product_Category_1']]\n",
    "data['miss_2'] = [1 if x!=x else 0 for x in combine['Product_Category_2']]\n",
    "data['miss_3'] = [1 if x!=x else 0 for x in combine['Product_Category_3']]\n",
    "data['promo'] =  [1 if x!=x else 0 for x in combine['Price']]"
   ]
  },
  {
   "cell_type": "code",
   "execution_count": 402,
   "metadata": {
    "ExecuteTime": {
     "end_time": "2021-09-23T09:53:50.296691Z",
     "start_time": "2021-09-23T09:53:50.286192Z"
    }
   },
   "outputs": [],
   "source": [
    "combine['Price'] = combine['Price'].fillna(value =0)"
   ]
  },
  {
   "cell_type": "code",
   "execution_count": 403,
   "metadata": {
    "ExecuteTime": {
     "end_time": "2021-09-23T09:53:53.106871Z",
     "start_time": "2021-09-23T09:53:53.063411Z"
    }
   },
   "outputs": [],
   "source": [
    "combine['Mean_Price'] = combine.groupby('User_ID')['Price'].mean()"
   ]
  },
  {
   "cell_type": "code",
   "execution_count": 404,
   "metadata": {
    "ExecuteTime": {
     "end_time": "2021-09-23T09:53:59.992084Z",
     "start_time": "2021-09-23T09:53:59.970536Z"
    }
   },
   "outputs": [],
   "source": [
    "a =combine.groupby('User_ID')['Price'].mean().reset_index()\n",
    "a.columns = ['User_ID','Mean_Price']"
   ]
  },
  {
   "cell_type": "code",
   "execution_count": 405,
   "metadata": {
    "ExecuteTime": {
     "end_time": "2021-09-23T09:54:14.213110Z",
     "start_time": "2021-09-23T09:54:14.194090Z"
    }
   },
   "outputs": [],
   "source": [
    "combine['Mean_Price'] = combine.loc[:,'User_ID'].map(a.set_index('User_ID')['Mean_Price']).round(2)"
   ]
  },
  {
   "cell_type": "code",
   "execution_count": 406,
   "metadata": {
    "ExecuteTime": {
     "end_time": "2021-09-23T09:54:15.588177Z",
     "start_time": "2021-09-23T09:54:15.456275Z"
    }
   },
   "outputs": [
    {
     "data": {
      "text/html": [
       "<div>\n",
       "<style scoped>\n",
       "    .dataframe tbody tr th:only-of-type {\n",
       "        vertical-align: middle;\n",
       "    }\n",
       "\n",
       "    .dataframe tbody tr th {\n",
       "        vertical-align: top;\n",
       "    }\n",
       "\n",
       "    .dataframe thead th {\n",
       "        text-align: right;\n",
       "    }\n",
       "</style>\n",
       "<table border=\"1\" class=\"dataframe\">\n",
       "  <thead>\n",
       "    <tr style=\"text-align: right;\">\n",
       "      <th></th>\n",
       "      <th>User_ID</th>\n",
       "      <th>Price</th>\n",
       "      <th>Mean_Price</th>\n",
       "    </tr>\n",
       "  </thead>\n",
       "  <tbody>\n",
       "    <tr>\n",
       "      <th>0</th>\n",
       "      <td>1000001</td>\n",
       "      <td>2648.0</td>\n",
       "      <td>2356.89</td>\n",
       "    </tr>\n",
       "    <tr>\n",
       "      <th>1</th>\n",
       "      <td>1000001</td>\n",
       "      <td>3880.0</td>\n",
       "      <td>2356.89</td>\n",
       "    </tr>\n",
       "    <tr>\n",
       "      <th>2</th>\n",
       "      <td>1000001</td>\n",
       "      <td>343.0</td>\n",
       "      <td>2356.89</td>\n",
       "    </tr>\n",
       "    <tr>\n",
       "      <th>3</th>\n",
       "      <td>1000001</td>\n",
       "      <td>365.0</td>\n",
       "      <td>2356.89</td>\n",
       "    </tr>\n",
       "    <tr>\n",
       "      <th>4</th>\n",
       "      <td>1000002</td>\n",
       "      <td>3920.0</td>\n",
       "      <td>3028.56</td>\n",
       "    </tr>\n",
       "    <tr>\n",
       "      <th>...</th>\n",
       "      <td>...</td>\n",
       "      <td>...</td>\n",
       "      <td>...</td>\n",
       "    </tr>\n",
       "    <tr>\n",
       "      <th>233594</th>\n",
       "      <td>1006036</td>\n",
       "      <td>2058.0</td>\n",
       "      <td>2756.15</td>\n",
       "    </tr>\n",
       "    <tr>\n",
       "      <th>233595</th>\n",
       "      <td>1006036</td>\n",
       "      <td>1795.0</td>\n",
       "      <td>2756.15</td>\n",
       "    </tr>\n",
       "    <tr>\n",
       "      <th>233596</th>\n",
       "      <td>1006036</td>\n",
       "      <td>3795.0</td>\n",
       "      <td>2756.15</td>\n",
       "    </tr>\n",
       "    <tr>\n",
       "      <th>233597</th>\n",
       "      <td>1006037</td>\n",
       "      <td>5016.0</td>\n",
       "      <td>2756.69</td>\n",
       "    </tr>\n",
       "    <tr>\n",
       "      <th>233598</th>\n",
       "      <td>1006039</td>\n",
       "      <td>714.0</td>\n",
       "      <td>2161.31</td>\n",
       "    </tr>\n",
       "  </tbody>\n",
       "</table>\n",
       "<p>783667 rows × 3 columns</p>\n",
       "</div>"
      ],
      "text/plain": [
       "        User_ID   Price  Mean_Price\n",
       "0       1000001  2648.0     2356.89\n",
       "1       1000001  3880.0     2356.89\n",
       "2       1000001   343.0     2356.89\n",
       "3       1000001   365.0     2356.89\n",
       "4       1000002  3920.0     3028.56\n",
       "...         ...     ...         ...\n",
       "233594  1006036  2058.0     2756.15\n",
       "233595  1006036  1795.0     2756.15\n",
       "233596  1006036  3795.0     2756.15\n",
       "233597  1006037  5016.0     2756.69\n",
       "233598  1006039   714.0     2161.31\n",
       "\n",
       "[783667 rows x 3 columns]"
      ]
     },
     "execution_count": 406,
     "metadata": {},
     "output_type": "execute_result"
    }
   ],
   "source": [
    "combine[['User_ID','Price','Mean_Price']]"
   ]
  },
  {
   "cell_type": "markdown",
   "metadata": {},
   "source": [
    "### Create Price Clusters"
   ]
  },
  {
   "cell_type": "code",
   "execution_count": 407,
   "metadata": {
    "ExecuteTime": {
     "end_time": "2021-09-23T09:54:22.492706Z",
     "start_time": "2021-09-23T09:54:22.484434Z"
    }
   },
   "outputs": [],
   "source": [
    "def cluster(df,column):\n",
    "    coords = np.vstack((df[column].values))\n",
    "\n",
    "    sample_ind = np.random.permutation(len(coords))[:500000]\n",
    "\n",
    "    #first scale data then find the optimal scale using bseline model kmeans\n",
    "    scaler = StandardScaler()\n",
    "    scaled_features = scaler.fit_transform(coords[sample_ind])\n",
    "    kmeans_kwargs = {\n",
    "    \"init\": \"random\",\n",
    "    \"n_init\": 10,\n",
    "    \"max_iter\": 300,\n",
    "    \"random_state\": 42,\n",
    "    }\n",
    "\n",
    "    ### A list holds the SSE values for each k\n",
    "    sse = []\n",
    "    for k in range(1, 50):\n",
    "        kmeans = KMeans(n_clusters=k, **kmeans_kwargs)\n",
    "        kmeans.fit(scaled_features)\n",
    "        sse.append(kmeans.inertia_)\n",
    "    \n",
    "    #rather than eyeballing lets use the Knee locator to find the optimal clusters.\n",
    "    kl = KneeLocator(range(1, 50), sse, curve=\"convex\", direction=\"decreasing\")\n",
    "    \n",
    "    kmeans = MiniBatchKMeans(n_clusters=kl.elbow, batch_size=10000).fit(coords[sample_ind])\n",
    "    df.loc[:, ('{}_cluster'.format(column))] = kmeans.predict(df[[column]])"
   ]
  },
  {
   "cell_type": "code",
   "execution_count": 409,
   "metadata": {
    "ExecuteTime": {
     "end_time": "2021-09-23T09:54:52.642268Z",
     "start_time": "2021-09-23T09:54:52.638257Z"
    }
   },
   "outputs": [],
   "source": [
    "#function for ordering cluster numbers\n",
    "def order_cluster(cluster_field_name, target_field_name,df,ascending):\n",
    "    new_cluster_field_name = 'new_' + cluster_field_name\n",
    "    df_new = df.groupby(cluster_field_name)[target_field_name].mean().reset_index()\n",
    "    df_new = df_new.sort_values(by=target_field_name,ascending=ascending).reset_index(drop=True)\n",
    "    df_new['index'] = df_new.index\n",
    "    df_final = pd.merge(df,df_new[[cluster_field_name,'index']], on=cluster_field_name)\n",
    "    df_final = df_final.drop([cluster_field_name],axis=1)\n",
    "    df_final = df_final.rename(columns={\"index\":cluster_field_name})\n",
    "    return df_final\n"
   ]
  },
  {
   "cell_type": "code",
   "execution_count": null,
   "metadata": {
    "ExecuteTime": {
     "end_time": "2021-09-23T06:12:01.915755Z",
     "start_time": "2021-09-23T06:11:55.921854Z"
    }
   },
   "outputs": [],
   "source": []
  },
  {
   "cell_type": "code",
   "execution_count": null,
   "metadata": {
    "ExecuteTime": {
     "end_time": "2021-09-23T05:35:49.861291Z",
     "start_time": "2021-09-23T05:35:49.777561Z"
    }
   },
   "outputs": [],
   "source": [
    "copy=combine.copy()"
   ]
  },
  {
   "cell_type": "markdown",
   "metadata": {},
   "source": [
    "## Create Price cluster "
   ]
  },
  {
   "cell_type": "code",
   "execution_count": 410,
   "metadata": {
    "ExecuteTime": {
     "end_time": "2021-09-23T09:59:45.959884Z",
     "start_time": "2021-09-23T09:55:49.832611Z"
    }
   },
   "outputs": [
    {
     "data": {
      "text/html": [
       "<div>\n",
       "<style scoped>\n",
       "    .dataframe tbody tr th:only-of-type {\n",
       "        vertical-align: middle;\n",
       "    }\n",
       "\n",
       "    .dataframe tbody tr th {\n",
       "        vertical-align: top;\n",
       "    }\n",
       "\n",
       "    .dataframe thead th {\n",
       "        text-align: right;\n",
       "    }\n",
       "</style>\n",
       "<table border=\"1\" class=\"dataframe\">\n",
       "  <thead>\n",
       "    <tr style=\"text-align: right;\">\n",
       "      <th></th>\n",
       "      <th>Price_cluster</th>\n",
       "      <th>Price</th>\n",
       "    </tr>\n",
       "  </thead>\n",
       "  <tbody>\n",
       "    <tr>\n",
       "      <th>339561</th>\n",
       "      <td>0</td>\n",
       "      <td>343.0</td>\n",
       "    </tr>\n",
       "    <tr>\n",
       "      <th>339562</th>\n",
       "      <td>0</td>\n",
       "      <td>365.0</td>\n",
       "    </tr>\n",
       "    <tr>\n",
       "      <th>339563</th>\n",
       "      <td>0</td>\n",
       "      <td>689.0</td>\n",
       "    </tr>\n",
       "    <tr>\n",
       "      <th>339564</th>\n",
       "      <td>0</td>\n",
       "      <td>793.0</td>\n",
       "    </tr>\n",
       "    <tr>\n",
       "      <th>339565</th>\n",
       "      <td>0</td>\n",
       "      <td>692.0</td>\n",
       "    </tr>\n",
       "    <tr>\n",
       "      <th>...</th>\n",
       "      <td>...</td>\n",
       "      <td>...</td>\n",
       "    </tr>\n",
       "    <tr>\n",
       "      <th>377916</th>\n",
       "      <td>0</td>\n",
       "      <td>693.0</td>\n",
       "    </tr>\n",
       "    <tr>\n",
       "      <th>377917</th>\n",
       "      <td>0</td>\n",
       "      <td>343.0</td>\n",
       "    </tr>\n",
       "    <tr>\n",
       "      <th>377918</th>\n",
       "      <td>0</td>\n",
       "      <td>714.0</td>\n",
       "    </tr>\n",
       "    <tr>\n",
       "      <th>377919</th>\n",
       "      <td>0</td>\n",
       "      <td>685.0</td>\n",
       "    </tr>\n",
       "    <tr>\n",
       "      <th>377920</th>\n",
       "      <td>0</td>\n",
       "      <td>714.0</td>\n",
       "    </tr>\n",
       "  </tbody>\n",
       "</table>\n",
       "<p>38360 rows × 2 columns</p>\n",
       "</div>"
      ],
      "text/plain": [
       "        Price_cluster  Price\n",
       "339561              0  343.0\n",
       "339562              0  365.0\n",
       "339563              0  689.0\n",
       "339564              0  793.0\n",
       "339565              0  692.0\n",
       "...               ...    ...\n",
       "377916              0  693.0\n",
       "377917              0  343.0\n",
       "377918              0  714.0\n",
       "377919              0  685.0\n",
       "377920              0  714.0\n",
       "\n",
       "[38360 rows x 2 columns]"
      ]
     },
     "execution_count": 410,
     "metadata": {},
     "output_type": "execute_result"
    }
   ],
   "source": [
    "cluster(combine,'Price')\n",
    "combine = order_cluster('Price_cluster','Price',combine,True)\n",
    "combine[['Price_cluster','Price']].loc[(combine['Price_cluster'])==0]"
   ]
  },
  {
   "cell_type": "markdown",
   "metadata": {},
   "source": [
    "## Create Frequency cluster "
   ]
  },
  {
   "cell_type": "code",
   "execution_count": 411,
   "metadata": {
    "ExecuteTime": {
     "end_time": "2021-09-23T09:59:45.997008Z",
     "start_time": "2021-09-23T09:59:45.962151Z"
    }
   },
   "outputs": [],
   "source": [
    "#get order counts for each user and create a dataframe with it\n",
    "frequency = train.groupby('User_ID').Purchase.count().reset_index()\n",
    "frequency.columns = ['User_ID','Frequency']\n",
    "combine['Frequency'] = combine.loc[:, 'User_ID'].map(frequency.set_index('User_ID')['Frequency'])"
   ]
  },
  {
   "cell_type": "code",
   "execution_count": 412,
   "metadata": {
    "ExecuteTime": {
     "end_time": "2021-09-23T10:03:30.847569Z",
     "start_time": "2021-09-23T09:59:45.999102Z"
    }
   },
   "outputs": [],
   "source": [
    "#cluster Frequency\n",
    "cluster(combine,'Frequency')\n",
    "combine = order_cluster('Frequency_cluster','Frequency',combine,True)"
   ]
  },
  {
   "cell_type": "markdown",
   "metadata": {},
   "source": [
    "### Create monetary value cluster"
   ]
  },
  {
   "cell_type": "code",
   "execution_count": 413,
   "metadata": {
    "ExecuteTime": {
     "end_time": "2021-09-23T10:03:30.889795Z",
     "start_time": "2021-09-23T10:03:30.850022Z"
    }
   },
   "outputs": [],
   "source": [
    "#get sum for each user and create a dataframe with it\n",
    "monetry = train.groupby('User_ID').Purchase.sum().reset_index()\n",
    "monetry.columns = ['User_ID','Life_Value']\n",
    "combine['Life_Value'] = combine.loc[:, 'User_ID'].map(monetry.set_index('User_ID')['Life_Value'])"
   ]
  },
  {
   "cell_type": "code",
   "execution_count": 414,
   "metadata": {
    "ExecuteTime": {
     "end_time": "2021-09-23T10:03:31.113322Z",
     "start_time": "2021-09-23T10:03:30.891650Z"
    }
   },
   "outputs": [
    {
     "data": {
      "text/html": [
       "<div>\n",
       "<style scoped>\n",
       "    .dataframe tbody tr th:only-of-type {\n",
       "        vertical-align: middle;\n",
       "    }\n",
       "\n",
       "    .dataframe tbody tr th {\n",
       "        vertical-align: top;\n",
       "    }\n",
       "\n",
       "    .dataframe thead th {\n",
       "        text-align: right;\n",
       "    }\n",
       "</style>\n",
       "<table border=\"1\" class=\"dataframe\">\n",
       "  <thead>\n",
       "    <tr style=\"text-align: right;\">\n",
       "      <th></th>\n",
       "      <th>User_ID</th>\n",
       "      <th>Product_ID</th>\n",
       "      <th>Gender</th>\n",
       "      <th>Age</th>\n",
       "      <th>Occupation</th>\n",
       "      <th>City_Category</th>\n",
       "      <th>Stay_In_Current_City_Years</th>\n",
       "      <th>Marital_Status</th>\n",
       "      <th>Product_Category_1</th>\n",
       "      <th>Product_Category_2</th>\n",
       "      <th>...</th>\n",
       "      <th>Retired</th>\n",
       "      <th>miss_1</th>\n",
       "      <th>miss_2</th>\n",
       "      <th>miss_3</th>\n",
       "      <th>promo</th>\n",
       "      <th>Mean_Price</th>\n",
       "      <th>Price_cluster</th>\n",
       "      <th>Frequency</th>\n",
       "      <th>Frequency_cluster</th>\n",
       "      <th>Life_Value</th>\n",
       "    </tr>\n",
       "  </thead>\n",
       "  <tbody>\n",
       "    <tr>\n",
       "      <th>0</th>\n",
       "      <td>1000001</td>\n",
       "      <td>P00069042</td>\n",
       "      <td>1</td>\n",
       "      <td>0</td>\n",
       "      <td>10</td>\n",
       "      <td>1</td>\n",
       "      <td>2</td>\n",
       "      <td>0</td>\n",
       "      <td>3</td>\n",
       "      <td>NaN</td>\n",
       "      <td>...</td>\n",
       "      <td>0</td>\n",
       "      <td>0</td>\n",
       "      <td>1</td>\n",
       "      <td>0</td>\n",
       "      <td>0</td>\n",
       "      <td>2356.89</td>\n",
       "      <td>2</td>\n",
       "      <td>35</td>\n",
       "      <td>0</td>\n",
       "      <td>334093.0</td>\n",
       "    </tr>\n",
       "    <tr>\n",
       "      <th>1</th>\n",
       "      <td>1000006</td>\n",
       "      <td>P0096642</td>\n",
       "      <td>1</td>\n",
       "      <td>5</td>\n",
       "      <td>9</td>\n",
       "      <td>1</td>\n",
       "      <td>1</td>\n",
       "      <td>0</td>\n",
       "      <td>2</td>\n",
       "      <td>3.0</td>\n",
       "      <td>...</td>\n",
       "      <td>0</td>\n",
       "      <td>0</td>\n",
       "      <td>0</td>\n",
       "      <td>0</td>\n",
       "      <td>0</td>\n",
       "      <td>2077.31</td>\n",
       "      <td>2</td>\n",
       "      <td>47</td>\n",
       "      <td>0</td>\n",
       "      <td>379930.0</td>\n",
       "    </tr>\n",
       "    <tr>\n",
       "      <th>2</th>\n",
       "      <td>1000021</td>\n",
       "      <td>P00220242</td>\n",
       "      <td>0</td>\n",
       "      <td>1</td>\n",
       "      <td>16</td>\n",
       "      <td>2</td>\n",
       "      <td>0</td>\n",
       "      <td>0</td>\n",
       "      <td>3</td>\n",
       "      <td>12.0</td>\n",
       "      <td>...</td>\n",
       "      <td>0</td>\n",
       "      <td>0</td>\n",
       "      <td>0</td>\n",
       "      <td>0</td>\n",
       "      <td>0</td>\n",
       "      <td>2805.25</td>\n",
       "      <td>2</td>\n",
       "      <td>14</td>\n",
       "      <td>0</td>\n",
       "      <td>127099.0</td>\n",
       "    </tr>\n",
       "    <tr>\n",
       "      <th>3</th>\n",
       "      <td>1000027</td>\n",
       "      <td>P00116342</td>\n",
       "      <td>0</td>\n",
       "      <td>2</td>\n",
       "      <td>11</td>\n",
       "      <td>3</td>\n",
       "      <td>1</td>\n",
       "      <td>1</td>\n",
       "      <td>2</td>\n",
       "      <td>NaN</td>\n",
       "      <td>...</td>\n",
       "      <td>0</td>\n",
       "      <td>0</td>\n",
       "      <td>1</td>\n",
       "      <td>0</td>\n",
       "      <td>0</td>\n",
       "      <td>2882.05</td>\n",
       "      <td>2</td>\n",
       "      <td>42</td>\n",
       "      <td>0</td>\n",
       "      <td>448934.0</td>\n",
       "    </tr>\n",
       "    <tr>\n",
       "      <th>4</th>\n",
       "      <td>1000031</td>\n",
       "      <td>P00322042</td>\n",
       "      <td>0</td>\n",
       "      <td>6</td>\n",
       "      <td>7</td>\n",
       "      <td>3</td>\n",
       "      <td>2</td>\n",
       "      <td>0</td>\n",
       "      <td>5</td>\n",
       "      <td>8.0</td>\n",
       "      <td>...</td>\n",
       "      <td>1</td>\n",
       "      <td>0</td>\n",
       "      <td>0</td>\n",
       "      <td>0</td>\n",
       "      <td>0</td>\n",
       "      <td>2251.08</td>\n",
       "      <td>2</td>\n",
       "      <td>64</td>\n",
       "      <td>0</td>\n",
       "      <td>496154.0</td>\n",
       "    </tr>\n",
       "    <tr>\n",
       "      <th>...</th>\n",
       "      <td>...</td>\n",
       "      <td>...</td>\n",
       "      <td>...</td>\n",
       "      <td>...</td>\n",
       "      <td>...</td>\n",
       "      <td>...</td>\n",
       "      <td>...</td>\n",
       "      <td>...</td>\n",
       "      <td>...</td>\n",
       "      <td>...</td>\n",
       "      <td>...</td>\n",
       "      <td>...</td>\n",
       "      <td>...</td>\n",
       "      <td>...</td>\n",
       "      <td>...</td>\n",
       "      <td>...</td>\n",
       "      <td>...</td>\n",
       "      <td>...</td>\n",
       "      <td>...</td>\n",
       "      <td>...</td>\n",
       "      <td>...</td>\n",
       "    </tr>\n",
       "    <tr>\n",
       "      <th>783662</th>\n",
       "      <td>1003618</td>\n",
       "      <td>P00088242</td>\n",
       "      <td>0</td>\n",
       "      <td>6</td>\n",
       "      <td>17</td>\n",
       "      <td>1</td>\n",
       "      <td>4</td>\n",
       "      <td>1</td>\n",
       "      <td>6</td>\n",
       "      <td>10.0</td>\n",
       "      <td>...</td>\n",
       "      <td>1</td>\n",
       "      <td>0</td>\n",
       "      <td>0</td>\n",
       "      <td>0</td>\n",
       "      <td>0</td>\n",
       "      <td>2785.14</td>\n",
       "      <td>4</td>\n",
       "      <td>767</td>\n",
       "      <td>4</td>\n",
       "      <td>5962012.0</td>\n",
       "    </tr>\n",
       "    <tr>\n",
       "      <th>783663</th>\n",
       "      <td>1002909</td>\n",
       "      <td>P00253342</td>\n",
       "      <td>0</td>\n",
       "      <td>2</td>\n",
       "      <td>7</td>\n",
       "      <td>1</td>\n",
       "      <td>1</td>\n",
       "      <td>0</td>\n",
       "      <td>1</td>\n",
       "      <td>NaN</td>\n",
       "      <td>...</td>\n",
       "      <td>0</td>\n",
       "      <td>0</td>\n",
       "      <td>1</td>\n",
       "      <td>0</td>\n",
       "      <td>0</td>\n",
       "      <td>2878.71</td>\n",
       "      <td>4</td>\n",
       "      <td>718</td>\n",
       "      <td>4</td>\n",
       "      <td>7577756.0</td>\n",
       "    </tr>\n",
       "    <tr>\n",
       "      <th>783664</th>\n",
       "      <td>1001181</td>\n",
       "      <td>P00153942</td>\n",
       "      <td>0</td>\n",
       "      <td>3</td>\n",
       "      <td>7</td>\n",
       "      <td>1</td>\n",
       "      <td>3</td>\n",
       "      <td>1</td>\n",
       "      <td>6</td>\n",
       "      <td>16.0</td>\n",
       "      <td>...</td>\n",
       "      <td>0</td>\n",
       "      <td>0</td>\n",
       "      <td>0</td>\n",
       "      <td>0</td>\n",
       "      <td>0</td>\n",
       "      <td>2796.51</td>\n",
       "      <td>4</td>\n",
       "      <td>862</td>\n",
       "      <td>4</td>\n",
       "      <td>6387961.0</td>\n",
       "    </tr>\n",
       "    <tr>\n",
       "      <th>783665</th>\n",
       "      <td>1001941</td>\n",
       "      <td>P00255242</td>\n",
       "      <td>0</td>\n",
       "      <td>3</td>\n",
       "      <td>17</td>\n",
       "      <td>1</td>\n",
       "      <td>1</td>\n",
       "      <td>0</td>\n",
       "      <td>1</td>\n",
       "      <td>NaN</td>\n",
       "      <td>...</td>\n",
       "      <td>0</td>\n",
       "      <td>0</td>\n",
       "      <td>1</td>\n",
       "      <td>0</td>\n",
       "      <td>0</td>\n",
       "      <td>2550.63</td>\n",
       "      <td>4</td>\n",
       "      <td>898</td>\n",
       "      <td>4</td>\n",
       "      <td>6817493.0</td>\n",
       "    </tr>\n",
       "    <tr>\n",
       "      <th>783666</th>\n",
       "      <td>1003841</td>\n",
       "      <td>P00314342</td>\n",
       "      <td>0</td>\n",
       "      <td>4</td>\n",
       "      <td>18</td>\n",
       "      <td>1</td>\n",
       "      <td>4</td>\n",
       "      <td>0</td>\n",
       "      <td>1</td>\n",
       "      <td>17.0</td>\n",
       "      <td>...</td>\n",
       "      <td>0</td>\n",
       "      <td>0</td>\n",
       "      <td>0</td>\n",
       "      <td>0</td>\n",
       "      <td>0</td>\n",
       "      <td>2784.86</td>\n",
       "      <td>4</td>\n",
       "      <td>698</td>\n",
       "      <td>4</td>\n",
       "      <td>6044415.0</td>\n",
       "    </tr>\n",
       "  </tbody>\n",
       "</table>\n",
       "<p>783667 rows × 29 columns</p>\n",
       "</div>"
      ],
      "text/plain": [
       "        User_ID Product_ID Gender Age Occupation City_Category  \\\n",
       "0       1000001  P00069042      1   0         10             1   \n",
       "1       1000006   P0096642      1   5          9             1   \n",
       "2       1000021  P00220242      0   1         16             2   \n",
       "3       1000027  P00116342      0   2         11             3   \n",
       "4       1000031  P00322042      0   6          7             3   \n",
       "...         ...        ...    ...  ..        ...           ...   \n",
       "783662  1003618  P00088242      0   6         17             1   \n",
       "783663  1002909  P00253342      0   2          7             1   \n",
       "783664  1001181  P00153942      0   3          7             1   \n",
       "783665  1001941  P00255242      0   3         17             1   \n",
       "783666  1003841  P00314342      0   4         18             1   \n",
       "\n",
       "       Stay_In_Current_City_Years Marital_Status Product_Category_1  \\\n",
       "0                               2              0                  3   \n",
       "1                               1              0                  2   \n",
       "2                               0              0                  3   \n",
       "3                               1              1                  2   \n",
       "4                               2              0                  5   \n",
       "...                           ...            ...                ...   \n",
       "783662                          4              1                  6   \n",
       "783663                          1              0                  1   \n",
       "783664                          3              1                  6   \n",
       "783665                          1              0                  1   \n",
       "783666                          4              0                  1   \n",
       "\n",
       "       Product_Category_2  ...  Retired  miss_1 miss_2  miss_3  promo  \\\n",
       "0                     NaN  ...        0       0      1       0      0   \n",
       "1                     3.0  ...        0       0      0       0      0   \n",
       "2                    12.0  ...        0       0      0       0      0   \n",
       "3                     NaN  ...        0       0      1       0      0   \n",
       "4                     8.0  ...        1       0      0       0      0   \n",
       "...                   ...  ...      ...     ...    ...     ...    ...   \n",
       "783662               10.0  ...        1       0      0       0      0   \n",
       "783663                NaN  ...        0       0      1       0      0   \n",
       "783664               16.0  ...        0       0      0       0      0   \n",
       "783665                NaN  ...        0       0      1       0      0   \n",
       "783666               17.0  ...        0       0      0       0      0   \n",
       "\n",
       "        Mean_Price  Price_cluster  Frequency  Frequency_cluster  Life_Value  \n",
       "0          2356.89              2         35                  0    334093.0  \n",
       "1          2077.31              2         47                  0    379930.0  \n",
       "2          2805.25              2         14                  0    127099.0  \n",
       "3          2882.05              2         42                  0    448934.0  \n",
       "4          2251.08              2         64                  0    496154.0  \n",
       "...            ...            ...        ...                ...         ...  \n",
       "783662     2785.14              4        767                  4   5962012.0  \n",
       "783663     2878.71              4        718                  4   7577756.0  \n",
       "783664     2796.51              4        862                  4   6387961.0  \n",
       "783665     2550.63              4        898                  4   6817493.0  \n",
       "783666     2784.86              4        698                  4   6044415.0  \n",
       "\n",
       "[783667 rows x 29 columns]"
      ]
     },
     "execution_count": 414,
     "metadata": {},
     "output_type": "execute_result"
    }
   ],
   "source": [
    "combine"
   ]
  },
  {
   "cell_type": "code",
   "execution_count": 415,
   "metadata": {
    "ExecuteTime": {
     "end_time": "2021-09-23T10:08:51.032937Z",
     "start_time": "2021-09-23T10:03:31.115341Z"
    }
   },
   "outputs": [],
   "source": [
    "#cluster motery value\n",
    "cluster(combine,'Life_Value')"
   ]
  },
  {
   "cell_type": "code",
   "execution_count": 416,
   "metadata": {
    "ExecuteTime": {
     "end_time": "2021-09-23T10:08:51.778098Z",
     "start_time": "2021-09-23T10:08:51.036362Z"
    }
   },
   "outputs": [],
   "source": [
    "combine = order_cluster('Life_Value_cluster','Life_Value',combine,True)"
   ]
  },
  {
   "cell_type": "code",
   "execution_count": 417,
   "metadata": {
    "ExecuteTime": {
     "end_time": "2021-09-23T10:08:51.786883Z",
     "start_time": "2021-09-23T10:08:51.780438Z"
    }
   },
   "outputs": [],
   "source": [
    "#calculate overall score and use mean() to see details\n",
    "combine['Customer_Score'] = combine['Frequency_cluster'] + combine['Life_Value_cluster']"
   ]
  },
  {
   "cell_type": "code",
   "execution_count": 418,
   "metadata": {
    "ExecuteTime": {
     "end_time": "2021-09-23T10:08:51.979495Z",
     "start_time": "2021-09-23T10:08:51.788752Z"
    }
   },
   "outputs": [
    {
     "data": {
      "text/html": [
       "<div>\n",
       "<style scoped>\n",
       "    .dataframe tbody tr th:only-of-type {\n",
       "        vertical-align: middle;\n",
       "    }\n",
       "\n",
       "    .dataframe tbody tr th {\n",
       "        vertical-align: top;\n",
       "    }\n",
       "\n",
       "    .dataframe thead th {\n",
       "        text-align: right;\n",
       "    }\n",
       "</style>\n",
       "<table border=\"1\" class=\"dataframe\">\n",
       "  <thead>\n",
       "    <tr style=\"text-align: right;\">\n",
       "      <th></th>\n",
       "      <th>Frequency</th>\n",
       "      <th>Life_Value</th>\n",
       "    </tr>\n",
       "    <tr>\n",
       "      <th>Customer_Score</th>\n",
       "      <th></th>\n",
       "      <th></th>\n",
       "    </tr>\n",
       "  </thead>\n",
       "  <tbody>\n",
       "    <tr>\n",
       "      <th>0</th>\n",
       "      <td>52.651821</td>\n",
       "      <td>4.898357e+05</td>\n",
       "    </tr>\n",
       "    <tr>\n",
       "      <th>1</th>\n",
       "      <td>97.723382</td>\n",
       "      <td>1.025067e+06</td>\n",
       "    </tr>\n",
       "    <tr>\n",
       "      <th>2</th>\n",
       "      <td>157.285969</td>\n",
       "      <td>1.419781e+06</td>\n",
       "    </tr>\n",
       "    <tr>\n",
       "      <th>3</th>\n",
       "      <td>212.067668</td>\n",
       "      <td>2.055919e+06</td>\n",
       "    </tr>\n",
       "    <tr>\n",
       "      <th>4</th>\n",
       "      <td>293.550862</td>\n",
       "      <td>2.555386e+06</td>\n",
       "    </tr>\n",
       "    <tr>\n",
       "      <th>5</th>\n",
       "      <td>375.318281</td>\n",
       "      <td>3.351651e+06</td>\n",
       "    </tr>\n",
       "    <tr>\n",
       "      <th>6</th>\n",
       "      <td>476.028888</td>\n",
       "      <td>4.092164e+06</td>\n",
       "    </tr>\n",
       "    <tr>\n",
       "      <th>7</th>\n",
       "      <td>657.322862</td>\n",
       "      <td>5.331048e+06</td>\n",
       "    </tr>\n",
       "    <tr>\n",
       "      <th>8</th>\n",
       "      <td>769.617130</td>\n",
       "      <td>6.658517e+06</td>\n",
       "    </tr>\n",
       "  </tbody>\n",
       "</table>\n",
       "</div>"
      ],
      "text/plain": [
       "                 Frequency    Life_Value\n",
       "Customer_Score                          \n",
       "0                52.651821  4.898357e+05\n",
       "1                97.723382  1.025067e+06\n",
       "2               157.285969  1.419781e+06\n",
       "3               212.067668  2.055919e+06\n",
       "4               293.550862  2.555386e+06\n",
       "5               375.318281  3.351651e+06\n",
       "6               476.028888  4.092164e+06\n",
       "7               657.322862  5.331048e+06\n",
       "8               769.617130  6.658517e+06"
      ]
     },
     "execution_count": 418,
     "metadata": {},
     "output_type": "execute_result"
    }
   ],
   "source": [
    "combine.groupby('Customer_Score')['Frequency','Life_Value'].mean()"
   ]
  },
  {
   "cell_type": "markdown",
   "metadata": {},
   "source": [
    "We can use the above to score the customers based on the custmer score 0 is worst and x is best \n",
    "\n",
    "To keep things simple, better we name these scores:\n",
    "\n",
    "0 to 1: verylow Value\n",
    "2 to 3: low value\n",
    "4 to 6: Mid Value\n",
    "7+: High Value\n"
   ]
  },
  {
   "cell_type": "code",
   "execution_count": 419,
   "metadata": {
    "ExecuteTime": {
     "end_time": "2021-09-23T10:08:52.035729Z",
     "start_time": "2021-09-23T10:08:51.981686Z"
    }
   },
   "outputs": [],
   "source": [
    "combine['Segment'] = '1'\n",
    "combine.loc[combine['Customer_Score']>1,'Segment'] = '2' \n",
    "combine.loc[combine['Customer_Score']>3,'Segment'] = '3' \n",
    "combine.loc[combine['Customer_Score']>6,'Segment'] = '3' "
   ]
  },
  {
   "cell_type": "code",
   "execution_count": 420,
   "metadata": {
    "ExecuteTime": {
     "end_time": "2021-09-23T10:09:21.660954Z",
     "start_time": "2021-09-23T10:09:21.423162Z"
    }
   },
   "outputs": [
    {
     "data": {
      "text/html": [
       "<div>\n",
       "<style scoped>\n",
       "    .dataframe tbody tr th:only-of-type {\n",
       "        vertical-align: middle;\n",
       "    }\n",
       "\n",
       "    .dataframe tbody tr th {\n",
       "        vertical-align: top;\n",
       "    }\n",
       "\n",
       "    .dataframe thead th {\n",
       "        text-align: right;\n",
       "    }\n",
       "</style>\n",
       "<table border=\"1\" class=\"dataframe\">\n",
       "  <thead>\n",
       "    <tr style=\"text-align: right;\">\n",
       "      <th></th>\n",
       "      <th>User_ID</th>\n",
       "      <th>Product_ID</th>\n",
       "      <th>Gender</th>\n",
       "      <th>Age</th>\n",
       "      <th>Occupation</th>\n",
       "      <th>City_Category</th>\n",
       "      <th>Stay_In_Current_City_Years</th>\n",
       "      <th>Marital_Status</th>\n",
       "      <th>Product_Category_1</th>\n",
       "      <th>Product_Category_2</th>\n",
       "      <th>...</th>\n",
       "      <th>miss_3</th>\n",
       "      <th>promo</th>\n",
       "      <th>Mean_Price</th>\n",
       "      <th>Price_cluster</th>\n",
       "      <th>Frequency</th>\n",
       "      <th>Frequency_cluster</th>\n",
       "      <th>Life_Value</th>\n",
       "      <th>Life_Value_cluster</th>\n",
       "      <th>Customer_Score</th>\n",
       "      <th>Segment</th>\n",
       "    </tr>\n",
       "  </thead>\n",
       "  <tbody>\n",
       "    <tr>\n",
       "      <th>0</th>\n",
       "      <td>1000001</td>\n",
       "      <td>P00069042</td>\n",
       "      <td>1</td>\n",
       "      <td>0</td>\n",
       "      <td>10</td>\n",
       "      <td>1</td>\n",
       "      <td>2</td>\n",
       "      <td>0</td>\n",
       "      <td>3</td>\n",
       "      <td>NaN</td>\n",
       "      <td>...</td>\n",
       "      <td>0</td>\n",
       "      <td>0</td>\n",
       "      <td>2356.89</td>\n",
       "      <td>2</td>\n",
       "      <td>35</td>\n",
       "      <td>0</td>\n",
       "      <td>334093.0</td>\n",
       "      <td>0</td>\n",
       "      <td>0</td>\n",
       "      <td>1</td>\n",
       "    </tr>\n",
       "    <tr>\n",
       "      <th>1</th>\n",
       "      <td>1000006</td>\n",
       "      <td>P0096642</td>\n",
       "      <td>1</td>\n",
       "      <td>5</td>\n",
       "      <td>9</td>\n",
       "      <td>1</td>\n",
       "      <td>1</td>\n",
       "      <td>0</td>\n",
       "      <td>2</td>\n",
       "      <td>3.0</td>\n",
       "      <td>...</td>\n",
       "      <td>0</td>\n",
       "      <td>0</td>\n",
       "      <td>2077.31</td>\n",
       "      <td>2</td>\n",
       "      <td>47</td>\n",
       "      <td>0</td>\n",
       "      <td>379930.0</td>\n",
       "      <td>0</td>\n",
       "      <td>0</td>\n",
       "      <td>1</td>\n",
       "    </tr>\n",
       "    <tr>\n",
       "      <th>2</th>\n",
       "      <td>1000021</td>\n",
       "      <td>P00220242</td>\n",
       "      <td>0</td>\n",
       "      <td>1</td>\n",
       "      <td>16</td>\n",
       "      <td>2</td>\n",
       "      <td>0</td>\n",
       "      <td>0</td>\n",
       "      <td>3</td>\n",
       "      <td>12.0</td>\n",
       "      <td>...</td>\n",
       "      <td>0</td>\n",
       "      <td>0</td>\n",
       "      <td>2805.25</td>\n",
       "      <td>2</td>\n",
       "      <td>14</td>\n",
       "      <td>0</td>\n",
       "      <td>127099.0</td>\n",
       "      <td>0</td>\n",
       "      <td>0</td>\n",
       "      <td>1</td>\n",
       "    </tr>\n",
       "    <tr>\n",
       "      <th>3</th>\n",
       "      <td>1000027</td>\n",
       "      <td>P00116342</td>\n",
       "      <td>0</td>\n",
       "      <td>2</td>\n",
       "      <td>11</td>\n",
       "      <td>3</td>\n",
       "      <td>1</td>\n",
       "      <td>1</td>\n",
       "      <td>2</td>\n",
       "      <td>NaN</td>\n",
       "      <td>...</td>\n",
       "      <td>0</td>\n",
       "      <td>0</td>\n",
       "      <td>2882.05</td>\n",
       "      <td>2</td>\n",
       "      <td>42</td>\n",
       "      <td>0</td>\n",
       "      <td>448934.0</td>\n",
       "      <td>0</td>\n",
       "      <td>0</td>\n",
       "      <td>1</td>\n",
       "    </tr>\n",
       "    <tr>\n",
       "      <th>4</th>\n",
       "      <td>1000031</td>\n",
       "      <td>P00322042</td>\n",
       "      <td>0</td>\n",
       "      <td>6</td>\n",
       "      <td>7</td>\n",
       "      <td>3</td>\n",
       "      <td>2</td>\n",
       "      <td>0</td>\n",
       "      <td>5</td>\n",
       "      <td>8.0</td>\n",
       "      <td>...</td>\n",
       "      <td>0</td>\n",
       "      <td>0</td>\n",
       "      <td>2251.08</td>\n",
       "      <td>2</td>\n",
       "      <td>64</td>\n",
       "      <td>0</td>\n",
       "      <td>496154.0</td>\n",
       "      <td>0</td>\n",
       "      <td>0</td>\n",
       "      <td>1</td>\n",
       "    </tr>\n",
       "    <tr>\n",
       "      <th>...</th>\n",
       "      <td>...</td>\n",
       "      <td>...</td>\n",
       "      <td>...</td>\n",
       "      <td>...</td>\n",
       "      <td>...</td>\n",
       "      <td>...</td>\n",
       "      <td>...</td>\n",
       "      <td>...</td>\n",
       "      <td>...</td>\n",
       "      <td>...</td>\n",
       "      <td>...</td>\n",
       "      <td>...</td>\n",
       "      <td>...</td>\n",
       "      <td>...</td>\n",
       "      <td>...</td>\n",
       "      <td>...</td>\n",
       "      <td>...</td>\n",
       "      <td>...</td>\n",
       "      <td>...</td>\n",
       "      <td>...</td>\n",
       "      <td>...</td>\n",
       "    </tr>\n",
       "    <tr>\n",
       "      <th>783662</th>\n",
       "      <td>1003618</td>\n",
       "      <td>P00088242</td>\n",
       "      <td>0</td>\n",
       "      <td>6</td>\n",
       "      <td>17</td>\n",
       "      <td>1</td>\n",
       "      <td>4</td>\n",
       "      <td>1</td>\n",
       "      <td>6</td>\n",
       "      <td>10.0</td>\n",
       "      <td>...</td>\n",
       "      <td>0</td>\n",
       "      <td>0</td>\n",
       "      <td>2785.14</td>\n",
       "      <td>4</td>\n",
       "      <td>767</td>\n",
       "      <td>4</td>\n",
       "      <td>5962012.0</td>\n",
       "      <td>4</td>\n",
       "      <td>8</td>\n",
       "      <td>3</td>\n",
       "    </tr>\n",
       "    <tr>\n",
       "      <th>783663</th>\n",
       "      <td>1002909</td>\n",
       "      <td>P00253342</td>\n",
       "      <td>0</td>\n",
       "      <td>2</td>\n",
       "      <td>7</td>\n",
       "      <td>1</td>\n",
       "      <td>1</td>\n",
       "      <td>0</td>\n",
       "      <td>1</td>\n",
       "      <td>NaN</td>\n",
       "      <td>...</td>\n",
       "      <td>0</td>\n",
       "      <td>0</td>\n",
       "      <td>2878.71</td>\n",
       "      <td>4</td>\n",
       "      <td>718</td>\n",
       "      <td>4</td>\n",
       "      <td>7577756.0</td>\n",
       "      <td>4</td>\n",
       "      <td>8</td>\n",
       "      <td>3</td>\n",
       "    </tr>\n",
       "    <tr>\n",
       "      <th>783664</th>\n",
       "      <td>1001181</td>\n",
       "      <td>P00153942</td>\n",
       "      <td>0</td>\n",
       "      <td>3</td>\n",
       "      <td>7</td>\n",
       "      <td>1</td>\n",
       "      <td>3</td>\n",
       "      <td>1</td>\n",
       "      <td>6</td>\n",
       "      <td>16.0</td>\n",
       "      <td>...</td>\n",
       "      <td>0</td>\n",
       "      <td>0</td>\n",
       "      <td>2796.51</td>\n",
       "      <td>4</td>\n",
       "      <td>862</td>\n",
       "      <td>4</td>\n",
       "      <td>6387961.0</td>\n",
       "      <td>4</td>\n",
       "      <td>8</td>\n",
       "      <td>3</td>\n",
       "    </tr>\n",
       "    <tr>\n",
       "      <th>783665</th>\n",
       "      <td>1001941</td>\n",
       "      <td>P00255242</td>\n",
       "      <td>0</td>\n",
       "      <td>3</td>\n",
       "      <td>17</td>\n",
       "      <td>1</td>\n",
       "      <td>1</td>\n",
       "      <td>0</td>\n",
       "      <td>1</td>\n",
       "      <td>NaN</td>\n",
       "      <td>...</td>\n",
       "      <td>0</td>\n",
       "      <td>0</td>\n",
       "      <td>2550.63</td>\n",
       "      <td>4</td>\n",
       "      <td>898</td>\n",
       "      <td>4</td>\n",
       "      <td>6817493.0</td>\n",
       "      <td>4</td>\n",
       "      <td>8</td>\n",
       "      <td>3</td>\n",
       "    </tr>\n",
       "    <tr>\n",
       "      <th>783666</th>\n",
       "      <td>1003841</td>\n",
       "      <td>P00314342</td>\n",
       "      <td>0</td>\n",
       "      <td>4</td>\n",
       "      <td>18</td>\n",
       "      <td>1</td>\n",
       "      <td>4</td>\n",
       "      <td>0</td>\n",
       "      <td>1</td>\n",
       "      <td>17.0</td>\n",
       "      <td>...</td>\n",
       "      <td>0</td>\n",
       "      <td>0</td>\n",
       "      <td>2784.86</td>\n",
       "      <td>4</td>\n",
       "      <td>698</td>\n",
       "      <td>4</td>\n",
       "      <td>6044415.0</td>\n",
       "      <td>4</td>\n",
       "      <td>8</td>\n",
       "      <td>3</td>\n",
       "    </tr>\n",
       "  </tbody>\n",
       "</table>\n",
       "<p>783667 rows × 32 columns</p>\n",
       "</div>"
      ],
      "text/plain": [
       "        User_ID Product_ID Gender Age Occupation City_Category  \\\n",
       "0       1000001  P00069042      1   0         10             1   \n",
       "1       1000006   P0096642      1   5          9             1   \n",
       "2       1000021  P00220242      0   1         16             2   \n",
       "3       1000027  P00116342      0   2         11             3   \n",
       "4       1000031  P00322042      0   6          7             3   \n",
       "...         ...        ...    ...  ..        ...           ...   \n",
       "783662  1003618  P00088242      0   6         17             1   \n",
       "783663  1002909  P00253342      0   2          7             1   \n",
       "783664  1001181  P00153942      0   3          7             1   \n",
       "783665  1001941  P00255242      0   3         17             1   \n",
       "783666  1003841  P00314342      0   4         18             1   \n",
       "\n",
       "       Stay_In_Current_City_Years Marital_Status Product_Category_1  \\\n",
       "0                               2              0                  3   \n",
       "1                               1              0                  2   \n",
       "2                               0              0                  3   \n",
       "3                               1              1                  2   \n",
       "4                               2              0                  5   \n",
       "...                           ...            ...                ...   \n",
       "783662                          4              1                  6   \n",
       "783663                          1              0                  1   \n",
       "783664                          3              1                  6   \n",
       "783665                          1              0                  1   \n",
       "783666                          4              0                  1   \n",
       "\n",
       "       Product_Category_2  ...  miss_3  promo Mean_Price  Price_cluster  \\\n",
       "0                     NaN  ...       0      0    2356.89              2   \n",
       "1                     3.0  ...       0      0    2077.31              2   \n",
       "2                    12.0  ...       0      0    2805.25              2   \n",
       "3                     NaN  ...       0      0    2882.05              2   \n",
       "4                     8.0  ...       0      0    2251.08              2   \n",
       "...                   ...  ...     ...    ...        ...            ...   \n",
       "783662               10.0  ...       0      0    2785.14              4   \n",
       "783663                NaN  ...       0      0    2878.71              4   \n",
       "783664               16.0  ...       0      0    2796.51              4   \n",
       "783665                NaN  ...       0      0    2550.63              4   \n",
       "783666               17.0  ...       0      0    2784.86              4   \n",
       "\n",
       "        Frequency  Frequency_cluster  Life_Value  Life_Value_cluster  \\\n",
       "0              35                  0    334093.0                   0   \n",
       "1              47                  0    379930.0                   0   \n",
       "2              14                  0    127099.0                   0   \n",
       "3              42                  0    448934.0                   0   \n",
       "4              64                  0    496154.0                   0   \n",
       "...           ...                ...         ...                 ...   \n",
       "783662        767                  4   5962012.0                   4   \n",
       "783663        718                  4   7577756.0                   4   \n",
       "783664        862                  4   6387961.0                   4   \n",
       "783665        898                  4   6817493.0                   4   \n",
       "783666        698                  4   6044415.0                   4   \n",
       "\n",
       "        Customer_Score  Segment  \n",
       "0                    0        1  \n",
       "1                    0        1  \n",
       "2                    0        1  \n",
       "3                    0        1  \n",
       "4                    0        1  \n",
       "...                ...      ...  \n",
       "783662               8        3  \n",
       "783663               8        3  \n",
       "783664               8        3  \n",
       "783665               8        3  \n",
       "783666               8        3  \n",
       "\n",
       "[783667 rows x 32 columns]"
      ]
     },
     "execution_count": 420,
     "metadata": {},
     "output_type": "execute_result"
    }
   ],
   "source": [
    "combine"
   ]
  },
  {
   "cell_type": "markdown",
   "metadata": {},
   "source": [
    "<h3>View the missing data</h3>\n",
    "View the data one more time to make sure all is in order. "
   ]
  },
  {
   "cell_type": "code",
   "execution_count": 471,
   "metadata": {
    "ExecuteTime": {
     "end_time": "2021-09-23T10:28:31.116692Z",
     "start_time": "2021-09-23T10:28:26.632161Z"
    }
   },
   "outputs": [
    {
     "data": {
      "image/png": "[encoded data removed]",
      "text/plain": [
       "<Figure size 1800x720 with 2 Axes>"
      ]
     },
     "metadata": {
      "needs_background": "light"
     },
     "output_type": "display_data"
    }
   ],
   "source": [
    "msno.matrix(combine);"
   ]
  },
  {
   "cell_type": "code",
   "execution_count": 422,
   "metadata": {
    "ExecuteTime": {
     "end_time": "2021-09-23T10:09:34.286319Z",
     "start_time": "2021-09-23T10:09:33.483065Z"
    }
   },
   "outputs": [],
   "source": [
    "combine['User_ID'] = combine['User_ID'] - 1000000\n",
    "combine['Product_ID'] = combine['Product_ID'].apply(lambda x:  ('P00'+ x))\n",
    "\n",
    "#enc = LabelEncoder()\n",
    "train['User_ID'] = enc.fit_transform(train['User_ID'])\n",
    "test['User_ID'] = enc.transform(test['User_ID'])\n",
    "\n",
    "combine['Product_ID'] = combine['Product_ID'].str.replace('P00', '')\n",
    "\n",
    "\n",
    "#scaler = StandardScaler()\n",
    "#train['Product_ID'] = scaler.fit_transform(train['Product_ID'].values.reshape(-1, 1))\n",
    "#test['Product_ID'] = scaler.transform(test['Product_ID'].values.reshape(-1, 1))"
   ]
  },
  {
   "cell_type": "markdown",
   "metadata": {},
   "source": [
    "<h3> Separate the data</h3>"
   ]
  },
  {
   "cell_type": "code",
   "execution_count": 424,
   "metadata": {
    "ExecuteTime": {
     "end_time": "2021-09-23T10:09:44.479168Z",
     "start_time": "2021-09-23T10:09:44.116884Z"
    }
   },
   "outputs": [],
   "source": [
    "train = combine[combine['kind'] == 'train']\n",
    "test = combine[combine['kind'] == 'test']\n",
    "\n",
    "train.drop(['kind'], axis=1, inplace=True)\n",
    "test.drop(['kind','Purchase'], axis=1, inplace=True)"
   ]
  },
  {
   "cell_type": "markdown",
   "metadata": {},
   "source": [
    "### Outlier Analysis"
   ]
  },
  {
   "cell_type": "markdown",
   "metadata": {},
   "source": [
    "Check and Remove outlier from the data \n",
    "After creating the last variable price, it is then advised to remove the outlier form the this variable. "
   ]
  },
  {
   "cell_type": "code",
   "execution_count": 425,
   "metadata": {
    "ExecuteTime": {
     "end_time": "2021-09-23T10:09:48.998699Z",
     "start_time": "2021-09-23T10:09:48.797032Z"
    }
   },
   "outputs": [
    {
     "name": "stdout",
     "output_type": "stream",
     "text": [
      "Identified outliers: 5105\n",
      "Non-outlier observations: 544963\n"
     ]
    }
   ],
   "source": [
    "#identify outliers with standard deviation\n",
    "from numpy import mean\n",
    "from numpy import std\n",
    "# seed the random number generator\n",
    "d =train['Price']\n",
    "# calculate summary statistics\n",
    "data_mean, data_std = mean(d), std(d)\n",
    "# identify outliers\n",
    "cut_off = data_std * 3\n",
    "lower, upper = data_mean - cut_off, data_mean + cut_off\n",
    "# identify outliers\n",
    "outliers = [x for x in d if x < lower or x > upper]\n",
    "print('Identified outliers: %d' % len(outliers))\n",
    "# remove outliers\n",
    "outliers_removed = [x for x in d if x >= lower and x <= upper]\n",
    "print('Non-outlier observations: %d' % len(outliers_removed))"
   ]
  },
  {
   "cell_type": "code",
   "execution_count": 426,
   "metadata": {
    "ExecuteTime": {
     "end_time": "2021-09-23T10:09:51.173396Z",
     "start_time": "2021-09-23T10:09:50.966275Z"
    }
   },
   "outputs": [
    {
     "ename": "KeyError",
     "evalue": "'[16144.0, 15636.0, 12437.0, 12186.0, 12316.0, 14498.0, 12323.0, 12197.0, 12715.0, 13868.0, 12461.0, 12466.0, 14773.0, 12729.0, 16954.0, 16445.0, 12222.0, 15737.0, 12363.0, 13260.0, 12237.0, 14414.0, 16846.0, 12368.0, 16338.0, 12884.0, 12245.0, 13916.0, 15836.0, 15966.0, 12895.0, 15200.0, 16609.0, 12253.0, 12391.0, 17000.0, 12263.0, 12395.0, 12653.0, 12398.0, 15224.0, 13945.0, 16895.0] not in index'",
     "output_type": "error",
     "traceback": [
      "\u001b[0;31m---------------------------------------------------------------------------\u001b[0m",
      "\u001b[0;31mKeyError\u001b[0m                                  Traceback (most recent call last)",
      "\u001b[0;32m<ipython-input-426-c58c71ca4a44>\u001b[0m in \u001b[0;36m<module>\u001b[0;34m\u001b[0m\n\u001b[1;32m      1\u001b[0m \u001b[0;31m#locate the outlier in the data set\u001b[0m\u001b[0;34m\u001b[0m\u001b[0;34m\u001b[0m\u001b[0;34m\u001b[0m\u001b[0m\n\u001b[0;32m----> 2\u001b[0;31m \u001b[0md\u001b[0m\u001b[0;34m.\u001b[0m\u001b[0mloc\u001b[0m\u001b[0;34m[\u001b[0m\u001b[0moutliers\u001b[0m\u001b[0;34m]\u001b[0m \u001b[0;34m=\u001b[0m \u001b[0mnp\u001b[0m\u001b[0;34m.\u001b[0m\u001b[0mnan\u001b[0m\u001b[0;34m\u001b[0m\u001b[0;34m\u001b[0m\u001b[0m\n\u001b[0m\u001b[1;32m      3\u001b[0m \u001b[0mtrain\u001b[0m\u001b[0;34m.\u001b[0m\u001b[0misnull\u001b[0m\u001b[0;34m(\u001b[0m\u001b[0;34m)\u001b[0m\u001b[0;34m.\u001b[0m\u001b[0msum\u001b[0m\u001b[0;34m(\u001b[0m\u001b[0;34m)\u001b[0m\u001b[0;34m\u001b[0m\u001b[0;34m\u001b[0m\u001b[0m\n",
      "\u001b[0;32m~/opt/anaconda3/lib/python3.8/site-packages/pandas/core/indexing.py\u001b[0m in \u001b[0;36m__setitem__\u001b[0;34m(self, key, value)\u001b[0m\n\u001b[1;32m    686\u001b[0m         \u001b[0;32melse\u001b[0m\u001b[0;34m:\u001b[0m\u001b[0;34m\u001b[0m\u001b[0;34m\u001b[0m\u001b[0m\n\u001b[1;32m    687\u001b[0m             \u001b[0mkey\u001b[0m \u001b[0;34m=\u001b[0m \u001b[0mcom\u001b[0m\u001b[0;34m.\u001b[0m\u001b[0mapply_if_callable\u001b[0m\u001b[0;34m(\u001b[0m\u001b[0mkey\u001b[0m\u001b[0;34m,\u001b[0m \u001b[0mself\u001b[0m\u001b[0;34m.\u001b[0m\u001b[0mobj\u001b[0m\u001b[0;34m)\u001b[0m\u001b[0;34m\u001b[0m\u001b[0;34m\u001b[0m\u001b[0m\n\u001b[0;32m--> 688\u001b[0;31m         \u001b[0mindexer\u001b[0m \u001b[0;34m=\u001b[0m \u001b[0mself\u001b[0m\u001b[0;34m.\u001b[0m\u001b[0m_get_setitem_indexer\u001b[0m\u001b[0;34m(\u001b[0m\u001b[0mkey\u001b[0m\u001b[0;34m)\u001b[0m\u001b[0;34m\u001b[0m\u001b[0;34m\u001b[0m\u001b[0m\n\u001b[0m\u001b[1;32m    689\u001b[0m         \u001b[0mself\u001b[0m\u001b[0;34m.\u001b[0m\u001b[0m_has_valid_setitem_indexer\u001b[0m\u001b[0;34m(\u001b[0m\u001b[0mkey\u001b[0m\u001b[0;34m)\u001b[0m\u001b[0;34m\u001b[0m\u001b[0;34m\u001b[0m\u001b[0m\n\u001b[1;32m    690\u001b[0m \u001b[0;34m\u001b[0m\u001b[0m\n",
      "\u001b[0;32m~/opt/anaconda3/lib/python3.8/site-packages/pandas/core/indexing.py\u001b[0m in \u001b[0;36m_get_setitem_indexer\u001b[0;34m(self, key)\u001b[0m\n\u001b[1;32m    634\u001b[0m \u001b[0;34m\u001b[0m\u001b[0m\n\u001b[1;32m    635\u001b[0m         \u001b[0;32mtry\u001b[0m\u001b[0;34m:\u001b[0m\u001b[0;34m\u001b[0m\u001b[0;34m\u001b[0m\u001b[0m\n\u001b[0;32m--> 636\u001b[0;31m             \u001b[0;32mreturn\u001b[0m \u001b[0mself\u001b[0m\u001b[0;34m.\u001b[0m\u001b[0m_convert_to_indexer\u001b[0m\u001b[0;34m(\u001b[0m\u001b[0mkey\u001b[0m\u001b[0;34m,\u001b[0m \u001b[0maxis\u001b[0m\u001b[0;34m=\u001b[0m\u001b[0;36m0\u001b[0m\u001b[0;34m,\u001b[0m \u001b[0mis_setter\u001b[0m\u001b[0;34m=\u001b[0m\u001b[0;32mTrue\u001b[0m\u001b[0;34m)\u001b[0m\u001b[0;34m\u001b[0m\u001b[0;34m\u001b[0m\u001b[0m\n\u001b[0m\u001b[1;32m    637\u001b[0m         \u001b[0;32mexcept\u001b[0m \u001b[0mTypeError\u001b[0m \u001b[0;32mas\u001b[0m \u001b[0me\u001b[0m\u001b[0;34m:\u001b[0m\u001b[0;34m\u001b[0m\u001b[0;34m\u001b[0m\u001b[0m\n\u001b[1;32m    638\u001b[0m \u001b[0;34m\u001b[0m\u001b[0m\n",
      "\u001b[0;32m~/opt/anaconda3/lib/python3.8/site-packages/pandas/core/indexing.py\u001b[0m in \u001b[0;36m_convert_to_indexer\u001b[0;34m(self, key, axis, is_setter)\u001b[0m\n\u001b[1;32m   1210\u001b[0m             \u001b[0;32melse\u001b[0m\u001b[0;34m:\u001b[0m\u001b[0;34m\u001b[0m\u001b[0;34m\u001b[0m\u001b[0m\n\u001b[1;32m   1211\u001b[0m                 \u001b[0;31m# When setting, missing keys are not allowed, even with .loc:\u001b[0m\u001b[0;34m\u001b[0m\u001b[0;34m\u001b[0m\u001b[0;34m\u001b[0m\u001b[0m\n\u001b[0;32m-> 1212\u001b[0;31m                 \u001b[0;32mreturn\u001b[0m \u001b[0mself\u001b[0m\u001b[0;34m.\u001b[0m\u001b[0m_get_listlike_indexer\u001b[0m\u001b[0;34m(\u001b[0m\u001b[0mkey\u001b[0m\u001b[0;34m,\u001b[0m \u001b[0maxis\u001b[0m\u001b[0;34m,\u001b[0m \u001b[0mraise_missing\u001b[0m\u001b[0;34m=\u001b[0m\u001b[0;32mTrue\u001b[0m\u001b[0;34m)\u001b[0m\u001b[0;34m[\u001b[0m\u001b[0;36m1\u001b[0m\u001b[0;34m]\u001b[0m\u001b[0;34m\u001b[0m\u001b[0;34m\u001b[0m\u001b[0m\n\u001b[0m\u001b[1;32m   1213\u001b[0m         \u001b[0;32melse\u001b[0m\u001b[0;34m:\u001b[0m\u001b[0;34m\u001b[0m\u001b[0;34m\u001b[0m\u001b[0m\n\u001b[1;32m   1214\u001b[0m             \u001b[0;32mtry\u001b[0m\u001b[0;34m:\u001b[0m\u001b[0;34m\u001b[0m\u001b[0;34m\u001b[0m\u001b[0m\n",
      "\u001b[0;32m~/opt/anaconda3/lib/python3.8/site-packages/pandas/core/indexing.py\u001b[0m in \u001b[0;36m_get_listlike_indexer\u001b[0;34m(self, key, axis, raise_missing)\u001b[0m\n\u001b[1;32m   1264\u001b[0m             \u001b[0mkeyarr\u001b[0m\u001b[0;34m,\u001b[0m \u001b[0mindexer\u001b[0m\u001b[0;34m,\u001b[0m \u001b[0mnew_indexer\u001b[0m \u001b[0;34m=\u001b[0m \u001b[0max\u001b[0m\u001b[0;34m.\u001b[0m\u001b[0m_reindex_non_unique\u001b[0m\u001b[0;34m(\u001b[0m\u001b[0mkeyarr\u001b[0m\u001b[0;34m)\u001b[0m\u001b[0;34m\u001b[0m\u001b[0;34m\u001b[0m\u001b[0m\n\u001b[1;32m   1265\u001b[0m \u001b[0;34m\u001b[0m\u001b[0m\n\u001b[0;32m-> 1266\u001b[0;31m         \u001b[0mself\u001b[0m\u001b[0;34m.\u001b[0m\u001b[0m_validate_read_indexer\u001b[0m\u001b[0;34m(\u001b[0m\u001b[0mkeyarr\u001b[0m\u001b[0;34m,\u001b[0m \u001b[0mindexer\u001b[0m\u001b[0;34m,\u001b[0m \u001b[0maxis\u001b[0m\u001b[0;34m,\u001b[0m \u001b[0mraise_missing\u001b[0m\u001b[0;34m=\u001b[0m\u001b[0mraise_missing\u001b[0m\u001b[0;34m)\u001b[0m\u001b[0;34m\u001b[0m\u001b[0;34m\u001b[0m\u001b[0m\n\u001b[0m\u001b[1;32m   1267\u001b[0m         \u001b[0;32mreturn\u001b[0m \u001b[0mkeyarr\u001b[0m\u001b[0;34m,\u001b[0m \u001b[0mindexer\u001b[0m\u001b[0;34m\u001b[0m\u001b[0;34m\u001b[0m\u001b[0m\n\u001b[1;32m   1268\u001b[0m \u001b[0;34m\u001b[0m\u001b[0m\n",
      "\u001b[0;32m~/opt/anaconda3/lib/python3.8/site-packages/pandas/core/indexing.py\u001b[0m in \u001b[0;36m_validate_read_indexer\u001b[0;34m(self, key, indexer, axis, raise_missing)\u001b[0m\n\u001b[1;32m   1314\u001b[0m             \u001b[0;32mif\u001b[0m \u001b[0mraise_missing\u001b[0m\u001b[0;34m:\u001b[0m\u001b[0;34m\u001b[0m\u001b[0;34m\u001b[0m\u001b[0m\n\u001b[1;32m   1315\u001b[0m                 \u001b[0mnot_found\u001b[0m \u001b[0;34m=\u001b[0m \u001b[0mlist\u001b[0m\u001b[0;34m(\u001b[0m\u001b[0mset\u001b[0m\u001b[0;34m(\u001b[0m\u001b[0mkey\u001b[0m\u001b[0;34m)\u001b[0m \u001b[0;34m-\u001b[0m \u001b[0mset\u001b[0m\u001b[0;34m(\u001b[0m\u001b[0max\u001b[0m\u001b[0;34m)\u001b[0m\u001b[0;34m)\u001b[0m\u001b[0;34m\u001b[0m\u001b[0;34m\u001b[0m\u001b[0m\n\u001b[0;32m-> 1316\u001b[0;31m                 \u001b[0;32mraise\u001b[0m \u001b[0mKeyError\u001b[0m\u001b[0;34m(\u001b[0m\u001b[0;34mf\"{not_found} not in index\"\u001b[0m\u001b[0;34m)\u001b[0m\u001b[0;34m\u001b[0m\u001b[0;34m\u001b[0m\u001b[0m\n\u001b[0m\u001b[1;32m   1317\u001b[0m \u001b[0;34m\u001b[0m\u001b[0m\n\u001b[1;32m   1318\u001b[0m             \u001b[0mnot_found\u001b[0m \u001b[0;34m=\u001b[0m \u001b[0mkey\u001b[0m\u001b[0;34m[\u001b[0m\u001b[0mmissing_mask\u001b[0m\u001b[0;34m]\u001b[0m\u001b[0;34m\u001b[0m\u001b[0;34m\u001b[0m\u001b[0m\n",
      "\u001b[0;31mKeyError\u001b[0m: '[16144.0, 15636.0, 12437.0, 12186.0, 12316.0, 14498.0, 12323.0, 12197.0, 12715.0, 13868.0, 12461.0, 12466.0, 14773.0, 12729.0, 16954.0, 16445.0, 12222.0, 15737.0, 12363.0, 13260.0, 12237.0, 14414.0, 16846.0, 12368.0, 16338.0, 12884.0, 12245.0, 13916.0, 15836.0, 15966.0, 12895.0, 15200.0, 16609.0, 12253.0, 12391.0, 17000.0, 12263.0, 12395.0, 12653.0, 12398.0, 15224.0, 13945.0, 16895.0] not in index'"
     ]
    }
   ],
   "source": [
    "#locate the outlier in the data set\n",
    "d.loc[outliers] = np.nan \n",
    "train.isnull().sum()"
   ]
  },
  {
   "cell_type": "code",
   "execution_count": 314,
   "metadata": {
    "ExecuteTime": {
     "end_time": "2021-09-23T08:29:44.459112Z",
     "start_time": "2021-09-23T08:29:44.260230Z"
    }
   },
   "outputs": [
    {
     "data": {
      "text/plain": [
       "<AxesSubplot:>"
      ]
     },
     "execution_count": 314,
     "metadata": {},
     "output_type": "execute_result"
    },
    {
     "data": {
      "image/png": "[encoded data removed]",
      "text/plain": [
       "<Figure size 432x288 with 1 Axes>"
      ]
     },
     "metadata": {
      "needs_background": "light"
     },
     "output_type": "display_data"
    }
   ],
   "source": [
    "(combine['Price']).hist()"
   ]
  },
  {
   "cell_type": "code",
   "execution_count": 315,
   "metadata": {
    "ExecuteTime": {
     "end_time": "2021-09-23T08:29:46.871454Z",
     "start_time": "2021-09-23T08:29:46.710075Z"
    }
   },
   "outputs": [
    {
     "data": {
      "text/plain": [
       "<AxesSubplot:>"
      ]
     },
     "execution_count": 315,
     "metadata": {},
     "output_type": "execute_result"
    },
    {
     "data": {
      "image/png": "[encoded data removed]",
      "text/plain": [
       "<Figure size 432x288 with 1 Axes>"
      ]
     },
     "metadata": {
      "needs_background": "light"
     },
     "output_type": "display_data"
    }
   ],
   "source": [
    "(np.log(train['Price'])).hist()"
   ]
  },
  {
   "cell_type": "code",
   "execution_count": 478,
   "metadata": {
    "ExecuteTime": {
     "end_time": "2021-09-23T10:32:21.891658Z",
     "start_time": "2021-09-23T10:32:21.822342Z"
    }
   },
   "outputs": [
    {
     "data": {
      "text/plain": [
       "Product_Category_2            31.566643\n",
       "User_ID                        0.000000\n",
       "Employed                       0.000000\n",
       "Customer_Score                 0.000000\n",
       "Life_Value_cluster             0.000000\n",
       "Life_Value                     0.000000\n",
       "Frequency_cluster              0.000000\n",
       "Frequency                      0.000000\n",
       "Price_cluster                  0.000000\n",
       "Mean_Price                     0.000000\n",
       "promo                          0.000000\n",
       "miss_3                         0.000000\n",
       "miss_2                         0.000000\n",
       "miss_1                         0.000000\n",
       "Retired                        0.000000\n",
       "Working                        0.000000\n",
       "Dependent                      0.000000\n",
       "Product_ID                     0.000000\n",
       "Spintser                       0.000000\n",
       "Bachelor                       0.000000\n",
       "Price                          0.000000\n",
       "Purchase                       0.000000\n",
       "Product_Category_3             0.000000\n",
       "Product_Category_1             0.000000\n",
       "Marital_Status                 0.000000\n",
       "Stay_In_Current_City_Years     0.000000\n",
       "City_Category                  0.000000\n",
       "Occupation                     0.000000\n",
       "Age                            0.000000\n",
       "Gender                         0.000000\n",
       "Segment                        0.000000\n",
       "dtype: float64"
      ]
     },
     "execution_count": 478,
     "metadata": {},
     "output_type": "execute_result"
    }
   ],
   "source": [
    "#view the type of data in each column\n",
    "((train.isnull().sum()/train.shape[0])*100).sort_values(ascending = False)"
   ]
  },
  {
   "cell_type": "code",
   "execution_count": 437,
   "metadata": {
    "ExecuteTime": {
     "end_time": "2021-09-23T10:13:04.698070Z",
     "start_time": "2021-09-23T10:13:04.685834Z"
    }
   },
   "outputs": [],
   "source": [
    "#combine['Price'] = combine['Price'].interpolate(method='nearest')\n",
    "#combine['Product_Category_2'] = combine['Product_Category_2'].interpolate(method='bfill')\n",
    "#meanvaltr = train['Price'].mean()\n",
    "#meanvalts = test['Price'].mean()\n",
    "train['Price'] = train['Price'].fillna(value =0)\n",
    "test['Price'] = test['Price'].fillna(value =0)"
   ]
  },
  {
   "cell_type": "code",
   "execution_count": 463,
   "metadata": {
    "ExecuteTime": {
     "end_time": "2021-09-23T10:25:38.688303Z",
     "start_time": "2021-09-23T10:25:38.613037Z"
    }
   },
   "outputs": [],
   "source": [
    "combine['Productcat'] = combine.loc[:, 'Product_ID'].map(a.set_index('Product_ID')['Product_Category_3'])"
   ]
  },
  {
   "cell_type": "code",
   "execution_count": 455,
   "metadata": {
    "ExecuteTime": {
     "end_time": "2021-09-23T10:19:15.466688Z",
     "start_time": "2021-09-23T10:19:15.398825Z"
    }
   },
   "outputs": [
    {
     "data": {
      "text/plain": [
       "3631"
      ]
     },
     "execution_count": 455,
     "metadata": {},
     "output_type": "execute_result"
    }
   ],
   "source": [
    "train['Product_ID'].nunique()"
   ]
  },
  {
   "cell_type": "code",
   "execution_count": 479,
   "metadata": {
    "ExecuteTime": {
     "end_time": "2021-09-23T10:33:02.473613Z",
     "start_time": "2021-09-23T10:33:02.447978Z"
    }
   },
   "outputs": [],
   "source": [
    "modvaltr = train['Product_Category_2'].mode()[0]\n",
    "modvalts = test['Product_Category_2'].mode()[0]\n",
    "#train['Product_Category_2']=train['Product_Category_2'].astype('str')\n",
    "train['Product_Category_2'] = train['Product_Category_2'].fillna(value = modvaltr)\n",
    "train['Product_Category_2']=train['Product_Category_2'].astype('category')\n",
    "#test['Product_Category_2']=test['Product_Category_2'].astype('str')\n",
    "test['Product_Category_2'] = test['Product_Category_2'].fillna(value =modvalts)\n",
    "test['Product_Category_2']=test['Product_Category_2'].astype('category')\n"
   ]
  },
  {
   "cell_type": "markdown",
   "metadata": {},
   "source": [
    "As seen from the figure above the only misisng data is the purchase that will be predicted. the data is cleaned and ready to be modelled.\n",
    "We seperate the data once more then we are ready to creat our model. "
   ]
  },
  {
   "cell_type": "markdown",
   "metadata": {},
   "source": [
    " "
   ]
  },
  {
   "cell_type": "markdown",
   "metadata": {},
   "source": [
    "Remove the outliers"
   ]
  },
  {
   "cell_type": "code",
   "execution_count": 480,
   "metadata": {
    "ExecuteTime": {
     "end_time": "2021-09-23T10:33:05.452254Z",
     "start_time": "2021-09-23T10:33:05.378859Z"
    }
   },
   "outputs": [
    {
     "data": {
      "text/plain": [
       "User_ID                       0\n",
       "Product_ID                    0\n",
       "Gender                        0\n",
       "Age                           0\n",
       "Occupation                    0\n",
       "City_Category                 0\n",
       "Stay_In_Current_City_Years    0\n",
       "Marital_Status                0\n",
       "Product_Category_1            0\n",
       "Product_Category_2            0\n",
       "Product_Category_3            0\n",
       "Purchase                      0\n",
       "Price                         0\n",
       "Bachelor                      0\n",
       "Spintser                      0\n",
       "Dependent                     0\n",
       "Employed                      0\n",
       "Working                       0\n",
       "Retired                       0\n",
       "miss_1                        0\n",
       "miss_2                        0\n",
       "miss_3                        0\n",
       "promo                         0\n",
       "Mean_Price                    0\n",
       "Price_cluster                 0\n",
       "Frequency                     0\n",
       "Frequency_cluster             0\n",
       "Life_Value                    0\n",
       "Life_Value_cluster            0\n",
       "Customer_Score                0\n",
       "Segment                       0\n",
       "dtype: int64"
      ]
     },
     "execution_count": 480,
     "metadata": {},
     "output_type": "execute_result"
    }
   ],
   "source": [
    "#remove totally and view\n",
    "#train.dropna(subset=['Price'],inplace=True)\n",
    "train.isnull().sum()"
   ]
  },
  {
   "cell_type": "markdown",
   "metadata": {},
   "source": [
    " "
   ]
  },
  {
   "cell_type": "markdown",
   "metadata": {},
   "source": [
    "<h2>4.MODELLING</h2>"
   ]
  },
  {
   "cell_type": "code",
   "execution_count": 321,
   "metadata": {
    "ExecuteTime": {
     "end_time": "2021-09-23T08:29:58.548511Z",
     "start_time": "2021-09-23T08:29:58.513233Z"
    }
   },
   "outputs": [],
   "source": [
    "train['Age'] = pd.to_numeric(train['Age'])"
   ]
  },
  {
   "cell_type": "code",
   "execution_count": 481,
   "metadata": {
    "ExecuteTime": {
     "end_time": "2021-09-23T10:33:13.738907Z",
     "start_time": "2021-09-23T10:33:13.735944Z"
    }
   },
   "outputs": [],
   "source": [
    "#Dividing the data into test and train datasets\n",
    "#drop purchase \n",
    "target = ['Purchase']\n",
    "features = train.columns.drop(target)\n"
   ]
  },
  {
   "cell_type": "code",
   "execution_count": 482,
   "metadata": {
    "ExecuteTime": {
     "end_time": "2021-09-23T10:33:18.519314Z",
     "start_time": "2021-09-23T10:33:18.514636Z"
    }
   },
   "outputs": [
    {
     "data": {
      "text/plain": [
       "Index(['User_ID', 'Product_ID', 'Gender', 'Age', 'Occupation', 'City_Category',\n",
       "       'Stay_In_Current_City_Years', 'Marital_Status', 'Product_Category_1',\n",
       "       'Product_Category_2', 'Product_Category_3', 'Price', 'Bachelor',\n",
       "       'Spintser', 'Dependent', 'Employed', 'Working', 'Retired', 'miss_1',\n",
       "       'miss_2', 'miss_3', 'promo', 'Mean_Price', 'Price_cluster', 'Frequency',\n",
       "       'Frequency_cluster', 'Life_Value', 'Life_Value_cluster',\n",
       "       'Customer_Score', 'Segment'],\n",
       "      dtype='object')"
      ]
     },
     "execution_count": 482,
     "metadata": {},
     "output_type": "execute_result"
    }
   ],
   "source": [
    "features"
   ]
  },
  {
   "cell_type": "code",
   "execution_count": 483,
   "metadata": {
    "ExecuteTime": {
     "end_time": "2021-09-23T10:33:20.141230Z",
     "start_time": "2021-09-23T10:33:19.881770Z"
    }
   },
   "outputs": [
    {
     "data": {
      "text/html": [
       "<div>\n",
       "<style scoped>\n",
       "    .dataframe tbody tr th:only-of-type {\n",
       "        vertical-align: middle;\n",
       "    }\n",
       "\n",
       "    .dataframe tbody tr th {\n",
       "        vertical-align: top;\n",
       "    }\n",
       "\n",
       "    .dataframe thead th {\n",
       "        text-align: right;\n",
       "    }\n",
       "</style>\n",
       "<table border=\"1\" class=\"dataframe\">\n",
       "  <thead>\n",
       "    <tr style=\"text-align: right;\">\n",
       "      <th></th>\n",
       "      <th>User_ID</th>\n",
       "      <th>Product_ID</th>\n",
       "      <th>Gender</th>\n",
       "      <th>Age</th>\n",
       "      <th>Occupation</th>\n",
       "      <th>City_Category</th>\n",
       "      <th>Stay_In_Current_City_Years</th>\n",
       "      <th>Marital_Status</th>\n",
       "      <th>Product_Category_1</th>\n",
       "      <th>Product_Category_2</th>\n",
       "      <th>...</th>\n",
       "      <th>miss_3</th>\n",
       "      <th>promo</th>\n",
       "      <th>Mean_Price</th>\n",
       "      <th>Price_cluster</th>\n",
       "      <th>Frequency</th>\n",
       "      <th>Frequency_cluster</th>\n",
       "      <th>Life_Value</th>\n",
       "      <th>Life_Value_cluster</th>\n",
       "      <th>Customer_Score</th>\n",
       "      <th>Segment</th>\n",
       "    </tr>\n",
       "  </thead>\n",
       "  <tbody>\n",
       "    <tr>\n",
       "      <th>0</th>\n",
       "      <td>1</td>\n",
       "      <td>069042</td>\n",
       "      <td>1</td>\n",
       "      <td>0</td>\n",
       "      <td>10</td>\n",
       "      <td>1</td>\n",
       "      <td>2</td>\n",
       "      <td>0</td>\n",
       "      <td>3</td>\n",
       "      <td>8.0</td>\n",
       "      <td>...</td>\n",
       "      <td>0</td>\n",
       "      <td>0</td>\n",
       "      <td>2356.89</td>\n",
       "      <td>2</td>\n",
       "      <td>35</td>\n",
       "      <td>0</td>\n",
       "      <td>334093.0</td>\n",
       "      <td>0</td>\n",
       "      <td>0</td>\n",
       "      <td>1</td>\n",
       "    </tr>\n",
       "    <tr>\n",
       "      <th>1</th>\n",
       "      <td>6</td>\n",
       "      <td>96642</td>\n",
       "      <td>1</td>\n",
       "      <td>5</td>\n",
       "      <td>9</td>\n",
       "      <td>1</td>\n",
       "      <td>1</td>\n",
       "      <td>0</td>\n",
       "      <td>2</td>\n",
       "      <td>3.0</td>\n",
       "      <td>...</td>\n",
       "      <td>0</td>\n",
       "      <td>0</td>\n",
       "      <td>2077.31</td>\n",
       "      <td>2</td>\n",
       "      <td>47</td>\n",
       "      <td>0</td>\n",
       "      <td>379930.0</td>\n",
       "      <td>0</td>\n",
       "      <td>0</td>\n",
       "      <td>1</td>\n",
       "    </tr>\n",
       "    <tr>\n",
       "      <th>2</th>\n",
       "      <td>21</td>\n",
       "      <td>220242</td>\n",
       "      <td>0</td>\n",
       "      <td>1</td>\n",
       "      <td>16</td>\n",
       "      <td>2</td>\n",
       "      <td>0</td>\n",
       "      <td>0</td>\n",
       "      <td>3</td>\n",
       "      <td>12.0</td>\n",
       "      <td>...</td>\n",
       "      <td>0</td>\n",
       "      <td>0</td>\n",
       "      <td>2805.25</td>\n",
       "      <td>2</td>\n",
       "      <td>14</td>\n",
       "      <td>0</td>\n",
       "      <td>127099.0</td>\n",
       "      <td>0</td>\n",
       "      <td>0</td>\n",
       "      <td>1</td>\n",
       "    </tr>\n",
       "    <tr>\n",
       "      <th>3</th>\n",
       "      <td>27</td>\n",
       "      <td>116342</td>\n",
       "      <td>0</td>\n",
       "      <td>2</td>\n",
       "      <td>11</td>\n",
       "      <td>3</td>\n",
       "      <td>1</td>\n",
       "      <td>1</td>\n",
       "      <td>2</td>\n",
       "      <td>8.0</td>\n",
       "      <td>...</td>\n",
       "      <td>0</td>\n",
       "      <td>0</td>\n",
       "      <td>2882.05</td>\n",
       "      <td>2</td>\n",
       "      <td>42</td>\n",
       "      <td>0</td>\n",
       "      <td>448934.0</td>\n",
       "      <td>0</td>\n",
       "      <td>0</td>\n",
       "      <td>1</td>\n",
       "    </tr>\n",
       "    <tr>\n",
       "      <th>4</th>\n",
       "      <td>31</td>\n",
       "      <td>322042</td>\n",
       "      <td>0</td>\n",
       "      <td>6</td>\n",
       "      <td>7</td>\n",
       "      <td>3</td>\n",
       "      <td>2</td>\n",
       "      <td>0</td>\n",
       "      <td>5</td>\n",
       "      <td>8.0</td>\n",
       "      <td>...</td>\n",
       "      <td>0</td>\n",
       "      <td>0</td>\n",
       "      <td>2251.08</td>\n",
       "      <td>2</td>\n",
       "      <td>64</td>\n",
       "      <td>0</td>\n",
       "      <td>496154.0</td>\n",
       "      <td>0</td>\n",
       "      <td>0</td>\n",
       "      <td>1</td>\n",
       "    </tr>\n",
       "    <tr>\n",
       "      <th>...</th>\n",
       "      <td>...</td>\n",
       "      <td>...</td>\n",
       "      <td>...</td>\n",
       "      <td>...</td>\n",
       "      <td>...</td>\n",
       "      <td>...</td>\n",
       "      <td>...</td>\n",
       "      <td>...</td>\n",
       "      <td>...</td>\n",
       "      <td>...</td>\n",
       "      <td>...</td>\n",
       "      <td>...</td>\n",
       "      <td>...</td>\n",
       "      <td>...</td>\n",
       "      <td>...</td>\n",
       "      <td>...</td>\n",
       "      <td>...</td>\n",
       "      <td>...</td>\n",
       "      <td>...</td>\n",
       "      <td>...</td>\n",
       "      <td>...</td>\n",
       "    </tr>\n",
       "    <tr>\n",
       "      <th>783554</th>\n",
       "      <td>1980</td>\n",
       "      <td>261542</td>\n",
       "      <td>0</td>\n",
       "      <td>3</td>\n",
       "      <td>7</td>\n",
       "      <td>1</td>\n",
       "      <td>1</td>\n",
       "      <td>0</td>\n",
       "      <td>16</td>\n",
       "      <td>8.0</td>\n",
       "      <td>...</td>\n",
       "      <td>0</td>\n",
       "      <td>0</td>\n",
       "      <td>2458.33</td>\n",
       "      <td>4</td>\n",
       "      <td>685</td>\n",
       "      <td>4</td>\n",
       "      <td>5549865.0</td>\n",
       "      <td>4</td>\n",
       "      <td>8</td>\n",
       "      <td>3</td>\n",
       "    </tr>\n",
       "    <tr>\n",
       "      <th>783555</th>\n",
       "      <td>3841</td>\n",
       "      <td>081442</td>\n",
       "      <td>0</td>\n",
       "      <td>4</td>\n",
       "      <td>18</td>\n",
       "      <td>1</td>\n",
       "      <td>4</td>\n",
       "      <td>0</td>\n",
       "      <td>6</td>\n",
       "      <td>8.0</td>\n",
       "      <td>...</td>\n",
       "      <td>0</td>\n",
       "      <td>0</td>\n",
       "      <td>2784.86</td>\n",
       "      <td>4</td>\n",
       "      <td>698</td>\n",
       "      <td>4</td>\n",
       "      <td>6044415.0</td>\n",
       "      <td>4</td>\n",
       "      <td>8</td>\n",
       "      <td>3</td>\n",
       "    </tr>\n",
       "    <tr>\n",
       "      <th>783556</th>\n",
       "      <td>4277</td>\n",
       "      <td>014442</td>\n",
       "      <td>0</td>\n",
       "      <td>3</td>\n",
       "      <td>16</td>\n",
       "      <td>1</td>\n",
       "      <td>0</td>\n",
       "      <td>0</td>\n",
       "      <td>6</td>\n",
       "      <td>8.0</td>\n",
       "      <td>...</td>\n",
       "      <td>0</td>\n",
       "      <td>0</td>\n",
       "      <td>2976.80</td>\n",
       "      <td>4</td>\n",
       "      <td>979</td>\n",
       "      <td>4</td>\n",
       "      <td>10536909.0</td>\n",
       "      <td>4</td>\n",
       "      <td>8</td>\n",
       "      <td>3</td>\n",
       "    </tr>\n",
       "    <tr>\n",
       "      <th>783557</th>\n",
       "      <td>4277</td>\n",
       "      <td>161042</td>\n",
       "      <td>0</td>\n",
       "      <td>3</td>\n",
       "      <td>16</td>\n",
       "      <td>1</td>\n",
       "      <td>0</td>\n",
       "      <td>0</td>\n",
       "      <td>14</td>\n",
       "      <td>16.0</td>\n",
       "      <td>...</td>\n",
       "      <td>0</td>\n",
       "      <td>0</td>\n",
       "      <td>2976.80</td>\n",
       "      <td>4</td>\n",
       "      <td>979</td>\n",
       "      <td>4</td>\n",
       "      <td>10536909.0</td>\n",
       "      <td>4</td>\n",
       "      <td>8</td>\n",
       "      <td>3</td>\n",
       "    </tr>\n",
       "    <tr>\n",
       "      <th>783558</th>\n",
       "      <td>4344</td>\n",
       "      <td>343842</td>\n",
       "      <td>0</td>\n",
       "      <td>2</td>\n",
       "      <td>1</td>\n",
       "      <td>1</td>\n",
       "      <td>4</td>\n",
       "      <td>0</td>\n",
       "      <td>7</td>\n",
       "      <td>8.0</td>\n",
       "      <td>...</td>\n",
       "      <td>0</td>\n",
       "      <td>0</td>\n",
       "      <td>2560.82</td>\n",
       "      <td>4</td>\n",
       "      <td>705</td>\n",
       "      <td>4</td>\n",
       "      <td>5733683.0</td>\n",
       "      <td>4</td>\n",
       "      <td>8</td>\n",
       "      <td>3</td>\n",
       "    </tr>\n",
       "  </tbody>\n",
       "</table>\n",
       "<p>550068 rows × 30 columns</p>\n",
       "</div>"
      ],
      "text/plain": [
       "        User_ID Product_ID Gender Age Occupation City_Category  \\\n",
       "0             1     069042      1   0         10             1   \n",
       "1             6      96642      1   5          9             1   \n",
       "2            21     220242      0   1         16             2   \n",
       "3            27     116342      0   2         11             3   \n",
       "4            31     322042      0   6          7             3   \n",
       "...         ...        ...    ...  ..        ...           ...   \n",
       "783554     1980     261542      0   3          7             1   \n",
       "783555     3841     081442      0   4         18             1   \n",
       "783556     4277     014442      0   3         16             1   \n",
       "783557     4277     161042      0   3         16             1   \n",
       "783558     4344     343842      0   2          1             1   \n",
       "\n",
       "       Stay_In_Current_City_Years Marital_Status Product_Category_1  \\\n",
       "0                               2              0                  3   \n",
       "1                               1              0                  2   \n",
       "2                               0              0                  3   \n",
       "3                               1              1                  2   \n",
       "4                               2              0                  5   \n",
       "...                           ...            ...                ...   \n",
       "783554                          1              0                 16   \n",
       "783555                          4              0                  6   \n",
       "783556                          0              0                  6   \n",
       "783557                          0              0                 14   \n",
       "783558                          4              0                  7   \n",
       "\n",
       "       Product_Category_2  ...  miss_3  promo  Mean_Price  Price_cluster  \\\n",
       "0                     8.0  ...       0      0     2356.89              2   \n",
       "1                     3.0  ...       0      0     2077.31              2   \n",
       "2                    12.0  ...       0      0     2805.25              2   \n",
       "3                     8.0  ...       0      0     2882.05              2   \n",
       "4                     8.0  ...       0      0     2251.08              2   \n",
       "...                   ...  ...     ...    ...         ...            ...   \n",
       "783554                8.0  ...       0      0     2458.33              4   \n",
       "783555                8.0  ...       0      0     2784.86              4   \n",
       "783556                8.0  ...       0      0     2976.80              4   \n",
       "783557               16.0  ...       0      0     2976.80              4   \n",
       "783558                8.0  ...       0      0     2560.82              4   \n",
       "\n",
       "        Frequency  Frequency_cluster  Life_Value  Life_Value_cluster  \\\n",
       "0              35                  0    334093.0                   0   \n",
       "1              47                  0    379930.0                   0   \n",
       "2              14                  0    127099.0                   0   \n",
       "3              42                  0    448934.0                   0   \n",
       "4              64                  0    496154.0                   0   \n",
       "...           ...                ...         ...                 ...   \n",
       "783554        685                  4   5549865.0                   4   \n",
       "783555        698                  4   6044415.0                   4   \n",
       "783556        979                  4  10536909.0                   4   \n",
       "783557        979                  4  10536909.0                   4   \n",
       "783558        705                  4   5733683.0                   4   \n",
       "\n",
       "        Customer_Score  Segment  \n",
       "0                    0        1  \n",
       "1                    0        1  \n",
       "2                    0        1  \n",
       "3                    0        1  \n",
       "4                    0        1  \n",
       "...                ...      ...  \n",
       "783554               8        3  \n",
       "783555               8        3  \n",
       "783556               8        3  \n",
       "783557               8        3  \n",
       "783558               8        3  \n",
       "\n",
       "[550068 rows x 30 columns]"
      ]
     },
     "execution_count": 483,
     "metadata": {},
     "output_type": "execute_result"
    }
   ],
   "source": [
    "train[features]"
   ]
  },
  {
   "cell_type": "code",
   "execution_count": 484,
   "metadata": {
    "ExecuteTime": {
     "end_time": "2021-09-23T10:33:28.236363Z",
     "start_time": "2021-09-23T10:33:24.685997Z"
    }
   },
   "outputs": [],
   "source": [
    "\n",
    "#scaler = StandardScaler()\n",
    "\n",
    "#train[features] = scaler.fit_transform(train[features])\n",
    "\n",
    "\n",
    "X = train[features].values\n",
    "Y = train[target].values\n",
    "# Create the bins.  My `y` variable has\n",
    "# 550068 observations, and I want 50 bins.\n",
    "\n",
    "bins = np.linspace(0, 500000, 50)\n",
    "\n",
    "# Save your Y values in a new numpy array,\n",
    "# broken down by the bins created above.\n",
    "x_bin = np.digitize(X[:,11], bins)\n",
    "\n",
    "# Pass y_binned to the stratify argument,\n",
    "# and sklearn will handle the rest\n",
    "\n",
    "X_train, X_test, Y_train, Y_test = train_test_split(X, Y, test_size = 0.2, random_state = 42, stratify=x_bin)"
   ]
  },
  {
   "cell_type": "code",
   "execution_count": 326,
   "metadata": {
    "ExecuteTime": {
     "end_time": "2021-09-23T08:30:54.860187Z",
     "start_time": "2021-09-23T08:30:54.817190Z"
    }
   },
   "outputs": [],
   "source": [
    "del data\n",
    "del copy\n",
    "#del combine\n",
    "del d\n",
    "del train\n",
    "del kmeans"
   ]
  },
  {
   "cell_type": "code",
   "execution_count": 327,
   "metadata": {
    "ExecuteTime": {
     "end_time": "2021-09-23T08:38:22.604778Z",
     "start_time": "2021-09-23T08:30:59.494992Z"
    }
   },
   "outputs": [
    {
     "name": "stdout",
     "output_type": "stream",
     "text": [
      "Feature: 0, Score: 0.03836\n",
      "Feature: 1, Score: 0.06032\n",
      "Feature: 2, Score: 0.00377\n",
      "Feature: 3, Score: 0.01075\n",
      "Feature: 4, Score: 0.02126\n",
      "Feature: 5, Score: 0.00671\n",
      "Feature: 6, Score: 0.01269\n",
      "Feature: 7, Score: 0.00416\n",
      "Feature: 8, Score: 0.03090\n",
      "Feature: 9, Score: 0.01716\n",
      "Feature: 10, Score: 0.00000\n",
      "Feature: 11, Score: 0.60286\n",
      "Feature: 12, Score: 0.00146\n",
      "Feature: 13, Score: 0.00311\n",
      "Feature: 14, Score: 0.00074\n",
      "Feature: 15, Score: 0.00169\n",
      "Feature: 16, Score: 0.00167\n",
      "Feature: 17, Score: 0.00055\n",
      "Feature: 18, Score: 0.00000\n",
      "Feature: 19, Score: 0.00185\n",
      "Feature: 20, Score: 0.00000\n",
      "Feature: 21, Score: 0.00000\n",
      "Feature: 22, Score: 0.00014\n",
      "Feature: 23, Score: 0.00030\n",
      "Feature: 24, Score: 0.04161\n",
      "Feature: 25, Score: 0.00108\n",
      "Feature: 26, Score: 0.04364\n",
      "Feature: 27, Score: 0.04958\n",
      "Feature: 28, Score: 0.00102\n",
      "Feature: 29, Score: 0.00174\n",
      "Feature: 30, Score: 0.00060\n",
      "Feature: 31, Score: 0.04027\n"
     ]
    }
   ],
   "source": [
    "model = RandomForestRegressor()\n",
    "# fit the model\n",
    "model.fit(X, Y)\n",
    "# get importance\n",
    "importance = model.feature_importances_\n",
    "# summarize feature importance\n",
    "for i,v in enumerate(importance):\n",
    "\tprint('Feature: %0d, Score: %.5f' % (i,v))\n"
   ]
  },
  {
   "cell_type": "code",
   "execution_count": 328,
   "metadata": {
    "ExecuteTime": {
     "end_time": "2021-09-23T08:38:22.804694Z",
     "start_time": "2021-09-23T08:38:22.609033Z"
    }
   },
   "outputs": [
    {
     "data": {
      "image/png": "[encoded data removed]",
      "text/plain": [
       "<Figure size 432x288 with 1 Axes>"
      ]
     },
     "metadata": {
      "needs_background": "light"
     },
     "output_type": "display_data"
    }
   ],
   "source": [
    "# plot feature importance\n",
    "plt.bar([x for x in range(len(importance))], importance)\n",
    "plt.show()"
   ]
  },
  {
   "cell_type": "markdown",
   "metadata": {},
   "source": [
    "<h3>Decision Trees</h3>"
   ]
  },
  {
   "cell_type": "markdown",
   "metadata": {},
   "source": [
    "A decision tree is built top-down from a root node and involves partitioning the data into subsets that contain instances with similar values. \n",
    "Decision tree builds models in the form of a tree structure. It breaks down a dataset into smaller and smaller subsets while at the same time an associated \n",
    "decision tree is incrementally developed. The final result is a tree with decision nodes and leaf nodes. A decision node (e.g., Outlook) has two or more branches \n",
    "(e.g., Sunny, Overcast and Rainy), each representing values for the attribute tested. Leaf node (e.g., Hours Played) represents a decision on the numerical target. \n",
    "The topmost decision node in a tree which corresponds to the best predictor called root node. Decision trees can handle both categorical and numerical data. \n",
    "Decision trees where the target variable can take continuous values (typically real numbers) are called regression trees. \n",
    "If the maximum depth of the tree is set too high, the decision trees learn too fine details of the training data and learn from the noise, i.e. they overfit."
   ]
  },
  {
   "attachments": {
    "weatherdectree_z31gh5.gif": {
     "image/gif": "[encoded data removed]"
    }
   },
   "cell_type": "markdown",
   "metadata": {},
   "source": [
    "![weatherdectree_z31gh5.gif](attachment:weatherdectree_z31gh5.gif)"
   ]
  },
  {
   "cell_type": "markdown",
   "metadata": {},
   "source": [
    "<h3>DRegresssion</h3>"
   ]
  },
  {
   "cell_type": "markdown",
   "metadata": {},
   "source": [
    "Regression is to examine two things: (1) does a set of predictor variables do a good job of predicting an outcome (dependent) variable? (2) Which variables, \n",
    "in particular, are significant predictors of the outcome variable, and in what way do they–indicated by the magnitude and sign of the beta estimates–impact the \n",
    "outcome variable? These regression estimates are used to explain the relationship between one dependent variable and one or more independent variables. The simplest form of the regression equation with one dependent and one independent variable is defined by the formula y = c + b*x, where y = estimated dependent variable score,\n",
    "c = constant, b = regression coefficient, and x = score on the independent variable.\n"
   ]
  },
  {
   "attachments": {
    "LR2_k6s9rx.jpg": {
     "image/jpeg": "[encoded data removed]"
    }
   },
   "cell_type": "markdown",
   "metadata": {},
   "source": [
    "![LR2_k6s9rx.jpg](attachment:LR2_k6s9rx.jpg)"
   ]
  },
  {
   "cell_type": "markdown",
   "metadata": {},
   "source": [
    "<h3>Ramdom forest</h3>"
   ]
  },
  {
   "cell_type": "markdown",
   "metadata": {},
   "source": [
    "A random forest is an estimator that fits a number of classifying decision trees on various sub-samples of the dataset \n",
    "and use averaging to improve the predictive accuracy and control over-fitting. The sub-sample size is always the same as the original input sample size but the samples are drawn with replacement if bootstrap=True. The idea behind this technique is to decorrelate the several trees. It generates on the different bootstrapped samples(i.e. self-generated samples) from training Data. And then we reduce the Variance in the Trees by averaging them. Hence, in this approach, it creates a large number of decision trees in python or R.The random forest model is very good at handling tabular data with numerical features, or categorical features with fewer than hundreds of categories. \n",
    "Random forests have the ability to capture the non-linear interaction between the features and the target.\n",
    "Note:-Tree based models are not designed to work with very sparse features. When dealing with sparse input data, we can either pre-process the sparse features to generate numerical statistics or switch to a linear model, which is better suited for such scenarios."
   ]
  },
  {
   "attachments": {
    "1_i0o8mjFfCn-uD79-F1Cqkw_svubdz.png": {
     "image/png": "[encoded data removed]"
    }
   },
   "cell_type": "markdown",
   "metadata": {},
   "source": [
    "![1_i0o8mjFfCn-uD79-F1Cqkw_svubdz.png](attachment:1_i0o8mjFfCn-uD79-F1Cqkw_svubdz.png)"
   ]
  },
  {
   "cell_type": "markdown",
   "metadata": {},
   "source": [
    "<h3>Gradient Boosting</h3>"
   ]
  },
  {
   "cell_type": "markdown",
   "metadata": {},
   "source": [
    "Gradient boosting is a machine learning technique for regression and classification problems, which produces a prediction model in the form of an ensemble of \n",
    "weak prediction models, typically decision trees. It builds the model in a stage-wise fashion like other boosting methods do, and it generalizes them by allowing \n",
    "optimization of an arbitrary differentiable loss function. Boosting can be interpreted as an optimization algorithm on a suitable cost function. The latter two papers \n",
    "introduced the view of boosting algorithms as iterative functional gradient descent algorithms. That is, algorithms that optimize a cost function over function space \n",
    "by iteratively choosing a function (weak hypothesis) that points in the negative gradient direction. This functional gradient view of boosting has led to the \n",
    "development of boosting algorithms in many areas of machine learning and statistics beyond regression and classification.gradient boosting combines weak \"learners\" \n",
    "into a single strong learner in an iterative fashion. It is easiest to explain in the least-squares regression setting, where the goal is to \"teach\" a model F to \n",
    "predict values of the form y ^ = F ( x ) by minimizing the mean squared error.\n"
   ]
  },
  {
   "attachments": {
    "gd_byggqw.jpg": {
     "image/jpeg": "[encoded data removed]"
    }
   },
   "cell_type": "markdown",
   "metadata": {},
   "source": [
    "![gd_byggqw.jpg](attachment:gd_byggqw.jpg)"
   ]
  },
  {
   "cell_type": "markdown",
   "metadata": {},
   "source": [
    "<h3> Assigning the variables </h3>\n",
    "Next we will assign the functions to variables to be called later"
   ]
  },
  {
   "cell_type": "code",
   "execution_count": 485,
   "metadata": {
    "ExecuteTime": {
     "end_time": "2021-09-23T10:34:14.184319Z",
     "start_time": "2021-09-23T10:34:14.181233Z"
    }
   },
   "outputs": [],
   "source": [
    "lr    = LinearRegression()\n",
    "dtr   = DecisionTreeRegressor()\n",
    "rfr   = RandomForestRegressor()\n",
    "gbr   = GradientBoostingRegressor()\n",
    "xgb_r = xgb.XGBRegressor()\n"
   ]
  },
  {
   "cell_type": "markdown",
   "metadata": {},
   "source": [
    "<h3> train the model and do the fitting </h3>\n",
    "Here we fit training data to Random Forest Regressor to the training data set. THe models below represent all the models used. "
   ]
  },
  {
   "cell_type": "code",
   "execution_count": 486,
   "metadata": {
    "ExecuteTime": {
     "end_time": "2021-09-23T10:44:31.213407Z",
     "start_time": "2021-09-23T10:34:16.293562Z"
    }
   },
   "outputs": [],
   "source": [
    "fit1 = lr.fit(X_train,Y_train)    #Here we fit training data to linear regressor\n",
    "fit2 = dtr.fit(X_train,Y_train)   #Here we fit training data to Decision Tree Regressor\n",
    "fit3 = rfr.fit(X_train,Y_train)   #Here we fit training data to Random forest Regressor\n",
    "fit4 = gbr.fit(X_train,Y_train)   #Here we fit training data to Gradient Boosting Regressor\n",
    "fit5 = xgb_r.fit(X_train, Y_train)#Here we fit training data to XGBoosting Regressor"
   ]
  },
  {
   "cell_type": "markdown",
   "metadata": {},
   "source": [
    "<h2> Print the Accuracy score  </h2>"
   ]
  },
  {
   "cell_type": "code",
   "execution_count": 487,
   "metadata": {
    "ExecuteTime": {
     "end_time": "2021-09-23T10:44:40.277008Z",
     "start_time": "2021-09-23T10:44:31.215919Z"
    }
   },
   "outputs": [
    {
     "name": "stdout",
     "output_type": "stream",
     "text": [
      "Accuracy Score of Linear regression on test set 60.492808409711486\n",
      "Accuracy Score of Decision Tree on test set 45.74837972654377\n",
      "Accuracy Score of Random Forests on test set 72.66064222762193\n",
      "Accuracy Score of Gradient Boosting on testset 67.7188861495075\n",
      "Accuracy Score of XGBoost on testset 74.48560805685919\n"
     ]
    }
   ],
   "source": [
    "print(\"Accuracy Score of Linear regression on test set\",fit1.score(X_test,Y_test)*100)\n",
    "print(\"Accuracy Score of Decision Tree on test set\",fit2.score(X_test,Y_test)*100)\n",
    "print(\"Accuracy Score of Random Forests on test set\",fit3.score(X_test,Y_test)*100)\n",
    "print(\"Accuracy Score of Gradient Boosting on testset\",fit4.score(X_test,Y_test)*100)\n",
    "print(\"Accuracy Score of XGBoost on testset\",fit5.score(X_test,Y_test)*100)"
   ]
  },
  {
   "cell_type": "markdown",
   "metadata": {},
   "source": [
    "<h2> RMSE Score for all models </h2>"
   ]
  },
  {
   "cell_type": "code",
   "execution_count": 488,
   "metadata": {
    "ExecuteTime": {
     "end_time": "2021-09-23T10:44:48.354867Z",
     "start_time": "2021-09-23T10:44:40.280182Z"
    }
   },
   "outputs": [],
   "source": [
    "#Linear Regression RMSE\n",
    "PredLR = fit1.predict(X_test)\n",
    "rmseLr = np.sqrt(mean_squared_error(PredLR,Y_test,))\n",
    "#Decision Tree\n",
    "PredDt = fit2.predict(X_test)\n",
    "rmseDt = np.sqrt(mean_squared_error(PredDt,Y_test,))\n",
    "#Random Forests\n",
    "PredRF = fit3.predict(X_test)\n",
    "rmseRf = np.sqrt(mean_squared_error(PredRF,Y_test,))\n",
    "#Gradient bosting\n",
    "predBxt = fit4.predict(X_test)\n",
    "rmseGb  = np.sqrt(mean_squared_error(predBxt,Y_test))\n",
    "#XG bosting\n",
    "predXg = fit5.predict(X_test)\n",
    "rmseXg   = np.sqrt(mean_squared_error(predXg,Y_test))"
   ]
  },
  {
   "cell_type": "code",
   "execution_count": 489,
   "metadata": {
    "ExecuteTime": {
     "end_time": "2021-09-23T10:44:48.361397Z",
     "start_time": "2021-09-23T10:44:48.357143Z"
    }
   },
   "outputs": [
    {
     "name": "stdout",
     "output_type": "stream",
     "text": [
      " The RMSE Score for PredLR model is 3155.4180787770842\n",
      " The RMSE Score for PredDt model is 3697.644773349679\n",
      " The RMSE Score for PredRF model is 2624.9013388821754\n",
      " The RMSE Score for PredBxt model is 2852.286103155106\n",
      " The RMSE Score for PredXg model is 2535.779237388484\n"
     ]
    }
   ],
   "source": [
    "print(' The RMSE Score for {} model is {}'.format(('PredLR'),(rmseLr)))\n",
    "print(' The RMSE Score for {} model is {}'.format(('PredDt'),(rmseDt)))\n",
    "print(' The RMSE Score for {} model is {}'.format(('PredRF'),(rmseRf)))\n",
    "print(' The RMSE Score for {} model is {}'.format(('PredBxt'),(rmseGb)))\n",
    "print(' The RMSE Score for {} model is {}'.format(('PredXg'),(rmseXg)))"
   ]
  },
  {
   "cell_type": "markdown",
   "metadata": {},
   "source": [
    "## Esemble Model\n",
    "We will choose the best three models\n"
   ]
  },
  {
   "cell_type": "code",
   "execution_count": 490,
   "metadata": {
    "ExecuteTime": {
     "end_time": "2021-09-23T10:44:55.872709Z",
     "start_time": "2021-09-23T10:44:48.363426Z"
    }
   },
   "outputs": [],
   "source": [
    "\n",
    "m3_score= fit3.score(X_test,Y_test)\n",
    "m4_score= fit4.score(X_test,Y_test)\n",
    "m5_score= fit5.score(X_test,Y_test)\n",
    "#m6_score= fit6.score(X_test,Y_test)"
   ]
  },
  {
   "cell_type": "code",
   "execution_count": 491,
   "metadata": {
    "ExecuteTime": {
     "end_time": "2021-09-23T10:44:55.882145Z",
     "start_time": "2021-09-23T10:44:55.874373Z"
    }
   },
   "outputs": [
    {
     "data": {
      "text/html": [
       "<div>\n",
       "<style scoped>\n",
       "    .dataframe tbody tr th:only-of-type {\n",
       "        vertical-align: middle;\n",
       "    }\n",
       "\n",
       "    .dataframe tbody tr th {\n",
       "        vertical-align: top;\n",
       "    }\n",
       "\n",
       "    .dataframe thead th {\n",
       "        text-align: right;\n",
       "    }\n",
       "</style>\n",
       "<table border=\"1\" class=\"dataframe\">\n",
       "  <thead>\n",
       "    <tr style=\"text-align: right;\">\n",
       "      <th></th>\n",
       "      <th>score</th>\n",
       "    </tr>\n",
       "  </thead>\n",
       "  <tbody>\n",
       "    <tr>\n",
       "      <th>1</th>\n",
       "      <td>0.726606</td>\n",
       "    </tr>\n",
       "    <tr>\n",
       "      <th>2</th>\n",
       "      <td>0.677189</td>\n",
       "    </tr>\n",
       "    <tr>\n",
       "      <th>3</th>\n",
       "      <td>0.744856</td>\n",
       "    </tr>\n",
       "  </tbody>\n",
       "</table>\n",
       "</div>"
      ],
      "text/plain": [
       "      score\n",
       "1  0.726606\n",
       "2  0.677189\n",
       "3  0.744856"
      ]
     },
     "execution_count": 491,
     "metadata": {},
     "output_type": "execute_result"
    }
   ],
   "source": [
    "index_ = [1,2,3,]\n",
    "valid_r2 = [m3_score,m4_score,m5_score]\n",
    "\n",
    "rank_eval = pd.DataFrame({\n",
    "    'score':valid_r2\n",
    "}, index = index_)\n",
    "rank_eval"
   ]
  },
  {
   "cell_type": "code",
   "execution_count": 492,
   "metadata": {
    "ExecuteTime": {
     "end_time": "2021-09-23T10:44:55.890294Z",
     "start_time": "2021-09-23T10:44:55.883991Z"
    }
   },
   "outputs": [
    {
     "data": {
      "text/html": [
       "<div>\n",
       "<style scoped>\n",
       "    .dataframe tbody tr th:only-of-type {\n",
       "        vertical-align: middle;\n",
       "    }\n",
       "\n",
       "    .dataframe tbody tr th {\n",
       "        vertical-align: top;\n",
       "    }\n",
       "\n",
       "    .dataframe thead th {\n",
       "        text-align: right;\n",
       "    }\n",
       "</style>\n",
       "<table border=\"1\" class=\"dataframe\">\n",
       "  <thead>\n",
       "    <tr style=\"text-align: right;\">\n",
       "      <th></th>\n",
       "      <th>score</th>\n",
       "    </tr>\n",
       "  </thead>\n",
       "  <tbody>\n",
       "    <tr>\n",
       "      <th>2</th>\n",
       "      <td>0.677189</td>\n",
       "    </tr>\n",
       "    <tr>\n",
       "      <th>1</th>\n",
       "      <td>0.726606</td>\n",
       "    </tr>\n",
       "    <tr>\n",
       "      <th>3</th>\n",
       "      <td>0.744856</td>\n",
       "    </tr>\n",
       "  </tbody>\n",
       "</table>\n",
       "</div>"
      ],
      "text/plain": [
       "      score\n",
       "2  0.677189\n",
       "1  0.726606\n",
       "3  0.744856"
      ]
     },
     "execution_count": 492,
     "metadata": {},
     "output_type": "execute_result"
    }
   ],
   "source": [
    "sorted_rank = rank_eval.sort_values('score')\n",
    "sorted_rank"
   ]
  },
  {
   "cell_type": "code",
   "execution_count": 493,
   "metadata": {
    "ExecuteTime": {
     "end_time": "2021-09-23T10:44:55.901683Z",
     "start_time": "2021-09-23T10:44:55.894436Z"
    }
   },
   "outputs": [
    {
     "data": {
      "text/html": [
       "<div>\n",
       "<style scoped>\n",
       "    .dataframe tbody tr th:only-of-type {\n",
       "        vertical-align: middle;\n",
       "    }\n",
       "\n",
       "    .dataframe tbody tr th {\n",
       "        vertical-align: top;\n",
       "    }\n",
       "\n",
       "    .dataframe thead th {\n",
       "        text-align: right;\n",
       "    }\n",
       "</style>\n",
       "<table border=\"1\" class=\"dataframe\">\n",
       "  <thead>\n",
       "    <tr style=\"text-align: right;\">\n",
       "      <th></th>\n",
       "      <th>score</th>\n",
       "      <th>rank</th>\n",
       "    </tr>\n",
       "  </thead>\n",
       "  <tbody>\n",
       "    <tr>\n",
       "      <th>2</th>\n",
       "      <td>0.677189</td>\n",
       "      <td>1</td>\n",
       "    </tr>\n",
       "    <tr>\n",
       "      <th>1</th>\n",
       "      <td>0.726606</td>\n",
       "      <td>2</td>\n",
       "    </tr>\n",
       "    <tr>\n",
       "      <th>3</th>\n",
       "      <td>0.744856</td>\n",
       "      <td>3</td>\n",
       "    </tr>\n",
       "  </tbody>\n",
       "</table>\n",
       "</div>"
      ],
      "text/plain": [
       "      score  rank\n",
       "2  0.677189     1\n",
       "1  0.726606     2\n",
       "3  0.744856     3"
      ]
     },
     "execution_count": 493,
     "metadata": {},
     "output_type": "execute_result"
    }
   ],
   "source": [
    "sorted_rank['rank'] = [i for i in range(1,4)]\n",
    "sorted_rank"
   ]
  },
  {
   "cell_type": "code",
   "execution_count": 494,
   "metadata": {
    "ExecuteTime": {
     "end_time": "2021-09-23T10:44:55.912714Z",
     "start_time": "2021-09-23T10:44:55.904846Z"
    }
   },
   "outputs": [
    {
     "data": {
      "text/html": [
       "<div>\n",
       "<style scoped>\n",
       "    .dataframe tbody tr th:only-of-type {\n",
       "        vertical-align: middle;\n",
       "    }\n",
       "\n",
       "    .dataframe tbody tr th {\n",
       "        vertical-align: top;\n",
       "    }\n",
       "\n",
       "    .dataframe thead th {\n",
       "        text-align: right;\n",
       "    }\n",
       "</style>\n",
       "<table border=\"1\" class=\"dataframe\">\n",
       "  <thead>\n",
       "    <tr style=\"text-align: right;\">\n",
       "      <th></th>\n",
       "      <th>score</th>\n",
       "      <th>rank</th>\n",
       "      <th>weight</th>\n",
       "    </tr>\n",
       "  </thead>\n",
       "  <tbody>\n",
       "    <tr>\n",
       "      <th>2</th>\n",
       "      <td>0.677189</td>\n",
       "      <td>1</td>\n",
       "      <td>0.166667</td>\n",
       "    </tr>\n",
       "    <tr>\n",
       "      <th>1</th>\n",
       "      <td>0.726606</td>\n",
       "      <td>2</td>\n",
       "      <td>0.333333</td>\n",
       "    </tr>\n",
       "    <tr>\n",
       "      <th>3</th>\n",
       "      <td>0.744856</td>\n",
       "      <td>3</td>\n",
       "      <td>0.500000</td>\n",
       "    </tr>\n",
       "  </tbody>\n",
       "</table>\n",
       "</div>"
      ],
      "text/plain": [
       "      score  rank    weight\n",
       "2  0.677189     1  0.166667\n",
       "1  0.726606     2  0.333333\n",
       "3  0.744856     3  0.500000"
      ]
     },
     "execution_count": 494,
     "metadata": {},
     "output_type": "execute_result"
    }
   ],
   "source": [
    "sorted_rank['weight'] = sorted_rank['rank']/sorted_rank['rank'].sum()\n",
    "sorted_rank"
   ]
  },
  {
   "cell_type": "code",
   "execution_count": 495,
   "metadata": {
    "ExecuteTime": {
     "end_time": "2021-09-23T10:44:55.925704Z",
     "start_time": "2021-09-23T10:44:55.914671Z"
    }
   },
   "outputs": [
    {
     "data": {
      "text/plain": [
       "array([6727.52211746, 4390.23933401, 7496.00889022, ..., 7014.44975916,\n",
       "       7074.04298592, 9737.83537328])"
      ]
     },
     "execution_count": 495,
     "metadata": {},
     "output_type": "execute_result"
    }
   ],
   "source": [
    "\n",
    "wt_pred3 = PredRF*float(sorted_rank.loc[[1],['weight']].values)\n",
    "wt_pred4 = predBxt*float(sorted_rank.loc[[2],['weight']].values)\n",
    "wt_pred5 = predXg*float(sorted_rank.loc[[3],['weight']].values)\n",
    "ranked_prediction = wt_pred3 + wt_pred4 + wt_pred5\n",
    "ranked_prediction"
   ]
  },
  {
   "cell_type": "code",
   "execution_count": 496,
   "metadata": {
    "ExecuteTime": {
     "end_time": "2021-09-23T10:44:55.929803Z",
     "start_time": "2021-09-23T10:44:55.927570Z"
    }
   },
   "outputs": [],
   "source": [
    "from sklearn.metrics import r2_score"
   ]
  },
  {
   "cell_type": "code",
   "execution_count": 497,
   "metadata": {
    "ExecuteTime": {
     "end_time": "2021-09-23T10:44:55.937790Z",
     "start_time": "2021-09-23T10:44:55.931735Z"
    }
   },
   "outputs": [
    {
     "data": {
      "text/plain": [
       "0.7432766615043853"
      ]
     },
     "execution_count": 497,
     "metadata": {},
     "output_type": "execute_result"
    }
   ],
   "source": [
    "r2_score(Y_test, ranked_prediction)"
   ]
  },
  {
   "cell_type": "code",
   "execution_count": 498,
   "metadata": {
    "ExecuteTime": {
     "end_time": "2021-09-23T10:44:55.944154Z",
     "start_time": "2021-09-23T10:44:55.939655Z"
    }
   },
   "outputs": [
    {
     "data": {
      "text/plain": [
       "2543.615753843744"
      ]
     },
     "execution_count": 498,
     "metadata": {},
     "output_type": "execute_result"
    }
   ],
   "source": [
    "rmsees = np.sqrt(mean_squared_error(ranked_prediction,Y_test))\n",
    "rmsees"
   ]
  },
  {
   "cell_type": "code",
   "execution_count": null,
   "metadata": {},
   "outputs": [],
   "source": []
  },
  {
   "cell_type": "markdown",
   "metadata": {},
   "source": [
    "<H2>5.MODEL SELECTION AND PREDICTION</H2>\n",
    "    We choose the XGBoosting Modelbecause it has the lowest RMSE. the next task is to optimise the model using it unique parameters. "
   ]
  },
  {
   "cell_type": "markdown",
   "metadata": {},
   "source": [
    "<H3>Try eXtreem Gradient Boosting</H3>\n",
    "First the convertion of the data into data matrix."
   ]
  },
  {
   "cell_type": "code",
   "execution_count": 499,
   "metadata": {
    "ExecuteTime": {
     "end_time": "2021-09-23T10:44:56.621133Z",
     "start_time": "2021-09-23T10:44:55.945960Z"
    }
   },
   "outputs": [],
   "source": [
    "data_dmatrix = xgb.DMatrix(data=X,label=Y)"
   ]
  },
  {
   "cell_type": "markdown",
   "metadata": {},
   "source": [
    "Then the split the data set to get the training and the testing data in a ration of 80% to 20%\n",
    "Create the XGBoost parameters in the function, focusing on the learning rate, maximum dept and min child weight, then colsample tree."
   ]
  },
  {
   "cell_type": "code",
   "execution_count": 500,
   "metadata": {
    "ExecuteTime": {
     "end_time": "2021-09-23T10:44:59.687090Z",
     "start_time": "2021-09-23T10:44:56.622926Z"
    }
   },
   "outputs": [],
   "source": [
    "\n",
    "bins = np.linspace(0, 500000, 50)\n",
    "x_bin = np.digitize(X[:,11], bins)\n",
    "\n",
    "X_trainX, X_testX, y_trainX, y_testX = train_test_split(X, Y, test_size=0.2, random_state=42, stratify =x_bin)"
   ]
  },
  {
   "cell_type": "code",
   "execution_count": 350,
   "metadata": {
    "ExecuteTime": {
     "end_time": "2021-09-23T09:36:02.869617Z",
     "start_time": "2021-09-23T09:35:54.637041Z"
    }
   },
   "outputs": [
    {
     "ename": "KeyboardInterrupt",
     "evalue": "",
     "output_type": "error",
     "traceback": [
      "\u001b[0;31m---------------------------------------------------------------------------\u001b[0m",
      "\u001b[0;31mKeyboardInterrupt\u001b[0m                         Traceback (most recent call last)",
      "\u001b[0;32m<ipython-input-350-88a108fec4bc>\u001b[0m in \u001b[0;36m<module>\u001b[0;34m\u001b[0m\n\u001b[1;32m     21\u001b[0m     gsearch1 = GridSearchCV(estimator = xgb.XGBRegressor(), \n\u001b[1;32m     22\u001b[0m     param_grid = param_test1, scoring='accuracy',n_jobs=-1, cv=2)\n\u001b[0;32m---> 23\u001b[0;31m     \u001b[0mgsearch1\u001b[0m\u001b[0;34m.\u001b[0m\u001b[0mfit\u001b[0m\u001b[0;34m(\u001b[0m\u001b[0mX_train\u001b[0m\u001b[0;34m,\u001b[0m\u001b[0mY_train\u001b[0m\u001b[0;34m)\u001b[0m\u001b[0;34m\u001b[0m\u001b[0;34m\u001b[0m\u001b[0m\n\u001b[0m\u001b[1;32m     24\u001b[0m     \u001b[0mi\u001b[0m\u001b[0;34m,\u001b[0m \u001b[0mgsearch1\u001b[0m\u001b[0;34m.\u001b[0m\u001b[0mbest_params_\u001b[0m\u001b[0;34m,\u001b[0m \u001b[0mgsearch1\u001b[0m\u001b[0;34m.\u001b[0m\u001b[0mbest_score_\u001b[0m\u001b[0;34m\u001b[0m\u001b[0;34m\u001b[0m\u001b[0m\n",
      "\u001b[0;32m~/opt/anaconda3/lib/python3.8/site-packages/sklearn/utils/validation.py\u001b[0m in \u001b[0;36minner_f\u001b[0;34m(*args, **kwargs)\u001b[0m\n\u001b[1;32m     61\u001b[0m             \u001b[0mextra_args\u001b[0m \u001b[0;34m=\u001b[0m \u001b[0mlen\u001b[0m\u001b[0;34m(\u001b[0m\u001b[0margs\u001b[0m\u001b[0;34m)\u001b[0m \u001b[0;34m-\u001b[0m \u001b[0mlen\u001b[0m\u001b[0;34m(\u001b[0m\u001b[0mall_args\u001b[0m\u001b[0;34m)\u001b[0m\u001b[0;34m\u001b[0m\u001b[0;34m\u001b[0m\u001b[0m\n\u001b[1;32m     62\u001b[0m             \u001b[0;32mif\u001b[0m \u001b[0mextra_args\u001b[0m \u001b[0;34m<=\u001b[0m \u001b[0;36m0\u001b[0m\u001b[0;34m:\u001b[0m\u001b[0;34m\u001b[0m\u001b[0;34m\u001b[0m\u001b[0m\n\u001b[0;32m---> 63\u001b[0;31m                 \u001b[0;32mreturn\u001b[0m \u001b[0mf\u001b[0m\u001b[0;34m(\u001b[0m\u001b[0;34m*\u001b[0m\u001b[0margs\u001b[0m\u001b[0;34m,\u001b[0m \u001b[0;34m**\u001b[0m\u001b[0mkwargs\u001b[0m\u001b[0;34m)\u001b[0m\u001b[0;34m\u001b[0m\u001b[0;34m\u001b[0m\u001b[0m\n\u001b[0m\u001b[1;32m     64\u001b[0m \u001b[0;34m\u001b[0m\u001b[0m\n\u001b[1;32m     65\u001b[0m             \u001b[0;31m# extra_args > 0\u001b[0m\u001b[0;34m\u001b[0m\u001b[0;34m\u001b[0m\u001b[0;34m\u001b[0m\u001b[0m\n",
      "\u001b[0;32m~/opt/anaconda3/lib/python3.8/site-packages/sklearn/model_selection/_search.py\u001b[0m in \u001b[0;36mfit\u001b[0;34m(self, X, y, groups, **fit_params)\u001b[0m\n\u001b[1;32m    839\u001b[0m                 \u001b[0;32mreturn\u001b[0m \u001b[0mresults\u001b[0m\u001b[0;34m\u001b[0m\u001b[0;34m\u001b[0m\u001b[0m\n\u001b[1;32m    840\u001b[0m \u001b[0;34m\u001b[0m\u001b[0m\n\u001b[0;32m--> 841\u001b[0;31m             \u001b[0mself\u001b[0m\u001b[0;34m.\u001b[0m\u001b[0m_run_search\u001b[0m\u001b[0;34m(\u001b[0m\u001b[0mevaluate_candidates\u001b[0m\u001b[0;34m)\u001b[0m\u001b[0;34m\u001b[0m\u001b[0;34m\u001b[0m\u001b[0m\n\u001b[0m\u001b[1;32m    842\u001b[0m \u001b[0;34m\u001b[0m\u001b[0m\n\u001b[1;32m    843\u001b[0m             \u001b[0;31m# multimetric is determined here because in the case of a callable\u001b[0m\u001b[0;34m\u001b[0m\u001b[0;34m\u001b[0m\u001b[0;34m\u001b[0m\u001b[0m\n",
      "\u001b[0;32m~/opt/anaconda3/lib/python3.8/site-packages/sklearn/model_selection/_search.py\u001b[0m in \u001b[0;36m_run_search\u001b[0;34m(self, evaluate_candidates)\u001b[0m\n\u001b[1;32m   1294\u001b[0m     \u001b[0;32mdef\u001b[0m \u001b[0m_run_search\u001b[0m\u001b[0;34m(\u001b[0m\u001b[0mself\u001b[0m\u001b[0;34m,\u001b[0m \u001b[0mevaluate_candidates\u001b[0m\u001b[0;34m)\u001b[0m\u001b[0;34m:\u001b[0m\u001b[0;34m\u001b[0m\u001b[0;34m\u001b[0m\u001b[0m\n\u001b[1;32m   1295\u001b[0m         \u001b[0;34m\"\"\"Search all candidates in param_grid\"\"\"\u001b[0m\u001b[0;34m\u001b[0m\u001b[0;34m\u001b[0m\u001b[0m\n\u001b[0;32m-> 1296\u001b[0;31m         \u001b[0mevaluate_candidates\u001b[0m\u001b[0;34m(\u001b[0m\u001b[0mParameterGrid\u001b[0m\u001b[0;34m(\u001b[0m\u001b[0mself\u001b[0m\u001b[0;34m.\u001b[0m\u001b[0mparam_grid\u001b[0m\u001b[0;34m)\u001b[0m\u001b[0;34m)\u001b[0m\u001b[0;34m\u001b[0m\u001b[0;34m\u001b[0m\u001b[0m\n\u001b[0m\u001b[1;32m   1297\u001b[0m \u001b[0;34m\u001b[0m\u001b[0m\n\u001b[1;32m   1298\u001b[0m \u001b[0;34m\u001b[0m\u001b[0m\n",
      "\u001b[0;32m~/opt/anaconda3/lib/python3.8/site-packages/sklearn/model_selection/_search.py\u001b[0m in \u001b[0;36mevaluate_candidates\u001b[0;34m(candidate_params, cv, more_results)\u001b[0m\n\u001b[1;32m    793\u001b[0m                               n_splits, n_candidates, n_candidates * n_splits))\n\u001b[1;32m    794\u001b[0m \u001b[0;34m\u001b[0m\u001b[0m\n\u001b[0;32m--> 795\u001b[0;31m                 out = parallel(delayed(_fit_and_score)(clone(base_estimator),\n\u001b[0m\u001b[1;32m    796\u001b[0m                                                        \u001b[0mX\u001b[0m\u001b[0;34m,\u001b[0m \u001b[0my\u001b[0m\u001b[0;34m,\u001b[0m\u001b[0;34m\u001b[0m\u001b[0;34m\u001b[0m\u001b[0m\n\u001b[1;32m    797\u001b[0m                                                        \u001b[0mtrain\u001b[0m\u001b[0;34m=\u001b[0m\u001b[0mtrain\u001b[0m\u001b[0;34m,\u001b[0m \u001b[0mtest\u001b[0m\u001b[0;34m=\u001b[0m\u001b[0mtest\u001b[0m\u001b[0;34m,\u001b[0m\u001b[0;34m\u001b[0m\u001b[0;34m\u001b[0m\u001b[0m\n",
      "\u001b[0;32m~/opt/anaconda3/lib/python3.8/site-packages/joblib/parallel.py\u001b[0m in \u001b[0;36m__call__\u001b[0;34m(self, iterable)\u001b[0m\n\u001b[1;32m   1052\u001b[0m \u001b[0;34m\u001b[0m\u001b[0m\n\u001b[1;32m   1053\u001b[0m             \u001b[0;32mwith\u001b[0m \u001b[0mself\u001b[0m\u001b[0;34m.\u001b[0m\u001b[0m_backend\u001b[0m\u001b[0;34m.\u001b[0m\u001b[0mretrieval_context\u001b[0m\u001b[0;34m(\u001b[0m\u001b[0;34m)\u001b[0m\u001b[0;34m:\u001b[0m\u001b[0;34m\u001b[0m\u001b[0;34m\u001b[0m\u001b[0m\n\u001b[0;32m-> 1054\u001b[0;31m                 \u001b[0mself\u001b[0m\u001b[0;34m.\u001b[0m\u001b[0mretrieve\u001b[0m\u001b[0;34m(\u001b[0m\u001b[0;34m)\u001b[0m\u001b[0;34m\u001b[0m\u001b[0;34m\u001b[0m\u001b[0m\n\u001b[0m\u001b[1;32m   1055\u001b[0m             \u001b[0;31m# Make sure that we get a last message telling us we are done\u001b[0m\u001b[0;34m\u001b[0m\u001b[0;34m\u001b[0m\u001b[0;34m\u001b[0m\u001b[0m\n\u001b[1;32m   1056\u001b[0m             \u001b[0melapsed_time\u001b[0m \u001b[0;34m=\u001b[0m \u001b[0mtime\u001b[0m\u001b[0;34m.\u001b[0m\u001b[0mtime\u001b[0m\u001b[0;34m(\u001b[0m\u001b[0;34m)\u001b[0m \u001b[0;34m-\u001b[0m \u001b[0mself\u001b[0m\u001b[0;34m.\u001b[0m\u001b[0m_start_time\u001b[0m\u001b[0;34m\u001b[0m\u001b[0;34m\u001b[0m\u001b[0m\n",
      "\u001b[0;32m~/opt/anaconda3/lib/python3.8/site-packages/joblib/parallel.py\u001b[0m in \u001b[0;36mretrieve\u001b[0;34m(self)\u001b[0m\n\u001b[1;32m    931\u001b[0m             \u001b[0;32mtry\u001b[0m\u001b[0;34m:\u001b[0m\u001b[0;34m\u001b[0m\u001b[0;34m\u001b[0m\u001b[0m\n\u001b[1;32m    932\u001b[0m                 \u001b[0;32mif\u001b[0m \u001b[0mgetattr\u001b[0m\u001b[0;34m(\u001b[0m\u001b[0mself\u001b[0m\u001b[0;34m.\u001b[0m\u001b[0m_backend\u001b[0m\u001b[0;34m,\u001b[0m \u001b[0;34m'supports_timeout'\u001b[0m\u001b[0;34m,\u001b[0m \u001b[0;32mFalse\u001b[0m\u001b[0;34m)\u001b[0m\u001b[0;34m:\u001b[0m\u001b[0;34m\u001b[0m\u001b[0;34m\u001b[0m\u001b[0m\n\u001b[0;32m--> 933\u001b[0;31m                     \u001b[0mself\u001b[0m\u001b[0;34m.\u001b[0m\u001b[0m_output\u001b[0m\u001b[0;34m.\u001b[0m\u001b[0mextend\u001b[0m\u001b[0;34m(\u001b[0m\u001b[0mjob\u001b[0m\u001b[0;34m.\u001b[0m\u001b[0mget\u001b[0m\u001b[0;34m(\u001b[0m\u001b[0mtimeout\u001b[0m\u001b[0;34m=\u001b[0m\u001b[0mself\u001b[0m\u001b[0;34m.\u001b[0m\u001b[0mtimeout\u001b[0m\u001b[0;34m)\u001b[0m\u001b[0;34m)\u001b[0m\u001b[0;34m\u001b[0m\u001b[0;34m\u001b[0m\u001b[0m\n\u001b[0m\u001b[1;32m    934\u001b[0m                 \u001b[0;32melse\u001b[0m\u001b[0;34m:\u001b[0m\u001b[0;34m\u001b[0m\u001b[0;34m\u001b[0m\u001b[0m\n\u001b[1;32m    935\u001b[0m                     \u001b[0mself\u001b[0m\u001b[0;34m.\u001b[0m\u001b[0m_output\u001b[0m\u001b[0;34m.\u001b[0m\u001b[0mextend\u001b[0m\u001b[0;34m(\u001b[0m\u001b[0mjob\u001b[0m\u001b[0;34m.\u001b[0m\u001b[0mget\u001b[0m\u001b[0;34m(\u001b[0m\u001b[0;34m)\u001b[0m\u001b[0;34m)\u001b[0m\u001b[0;34m\u001b[0m\u001b[0;34m\u001b[0m\u001b[0m\n",
      "\u001b[0;32m~/opt/anaconda3/lib/python3.8/site-packages/joblib/_parallel_backends.py\u001b[0m in \u001b[0;36mwrap_future_result\u001b[0;34m(future, timeout)\u001b[0m\n\u001b[1;32m    540\u001b[0m         AsyncResults.get from multiprocessing.\"\"\"\n\u001b[1;32m    541\u001b[0m         \u001b[0;32mtry\u001b[0m\u001b[0;34m:\u001b[0m\u001b[0;34m\u001b[0m\u001b[0;34m\u001b[0m\u001b[0m\n\u001b[0;32m--> 542\u001b[0;31m             \u001b[0;32mreturn\u001b[0m \u001b[0mfuture\u001b[0m\u001b[0;34m.\u001b[0m\u001b[0mresult\u001b[0m\u001b[0;34m(\u001b[0m\u001b[0mtimeout\u001b[0m\u001b[0;34m=\u001b[0m\u001b[0mtimeout\u001b[0m\u001b[0;34m)\u001b[0m\u001b[0;34m\u001b[0m\u001b[0;34m\u001b[0m\u001b[0m\n\u001b[0m\u001b[1;32m    543\u001b[0m         \u001b[0;32mexcept\u001b[0m \u001b[0mCfTimeoutError\u001b[0m \u001b[0;32mas\u001b[0m \u001b[0me\u001b[0m\u001b[0;34m:\u001b[0m\u001b[0;34m\u001b[0m\u001b[0;34m\u001b[0m\u001b[0m\n\u001b[1;32m    544\u001b[0m             \u001b[0;32mraise\u001b[0m \u001b[0mTimeoutError\u001b[0m \u001b[0;32mfrom\u001b[0m \u001b[0me\u001b[0m\u001b[0;34m\u001b[0m\u001b[0;34m\u001b[0m\u001b[0m\n",
      "\u001b[0;32m~/opt/anaconda3/lib/python3.8/concurrent/futures/_base.py\u001b[0m in \u001b[0;36mresult\u001b[0;34m(self, timeout)\u001b[0m\n\u001b[1;32m    432\u001b[0m                 \u001b[0;32mreturn\u001b[0m \u001b[0mself\u001b[0m\u001b[0;34m.\u001b[0m\u001b[0m__get_result\u001b[0m\u001b[0;34m(\u001b[0m\u001b[0;34m)\u001b[0m\u001b[0;34m\u001b[0m\u001b[0;34m\u001b[0m\u001b[0m\n\u001b[1;32m    433\u001b[0m \u001b[0;34m\u001b[0m\u001b[0m\n\u001b[0;32m--> 434\u001b[0;31m             \u001b[0mself\u001b[0m\u001b[0;34m.\u001b[0m\u001b[0m_condition\u001b[0m\u001b[0;34m.\u001b[0m\u001b[0mwait\u001b[0m\u001b[0;34m(\u001b[0m\u001b[0mtimeout\u001b[0m\u001b[0;34m)\u001b[0m\u001b[0;34m\u001b[0m\u001b[0;34m\u001b[0m\u001b[0m\n\u001b[0m\u001b[1;32m    435\u001b[0m \u001b[0;34m\u001b[0m\u001b[0m\n\u001b[1;32m    436\u001b[0m             \u001b[0;32mif\u001b[0m \u001b[0mself\u001b[0m\u001b[0;34m.\u001b[0m\u001b[0m_state\u001b[0m \u001b[0;32min\u001b[0m \u001b[0;34m[\u001b[0m\u001b[0mCANCELLED\u001b[0m\u001b[0;34m,\u001b[0m \u001b[0mCANCELLED_AND_NOTIFIED\u001b[0m\u001b[0;34m]\u001b[0m\u001b[0;34m:\u001b[0m\u001b[0;34m\u001b[0m\u001b[0;34m\u001b[0m\u001b[0m\n",
      "\u001b[0;32m~/opt/anaconda3/lib/python3.8/threading.py\u001b[0m in \u001b[0;36mwait\u001b[0;34m(self, timeout)\u001b[0m\n\u001b[1;32m    300\u001b[0m         \u001b[0;32mtry\u001b[0m\u001b[0;34m:\u001b[0m    \u001b[0;31m# restore state no matter what (e.g., KeyboardInterrupt)\u001b[0m\u001b[0;34m\u001b[0m\u001b[0;34m\u001b[0m\u001b[0m\n\u001b[1;32m    301\u001b[0m             \u001b[0;32mif\u001b[0m \u001b[0mtimeout\u001b[0m \u001b[0;32mis\u001b[0m \u001b[0;32mNone\u001b[0m\u001b[0;34m:\u001b[0m\u001b[0;34m\u001b[0m\u001b[0;34m\u001b[0m\u001b[0m\n\u001b[0;32m--> 302\u001b[0;31m                 \u001b[0mwaiter\u001b[0m\u001b[0;34m.\u001b[0m\u001b[0macquire\u001b[0m\u001b[0;34m(\u001b[0m\u001b[0;34m)\u001b[0m\u001b[0;34m\u001b[0m\u001b[0;34m\u001b[0m\u001b[0m\n\u001b[0m\u001b[1;32m    303\u001b[0m                 \u001b[0mgotit\u001b[0m \u001b[0;34m=\u001b[0m \u001b[0;32mTrue\u001b[0m\u001b[0;34m\u001b[0m\u001b[0;34m\u001b[0m\u001b[0m\n\u001b[1;32m    304\u001b[0m             \u001b[0;32melse\u001b[0m\u001b[0;34m:\u001b[0m\u001b[0;34m\u001b[0m\u001b[0;34m\u001b[0m\u001b[0m\n",
      "\u001b[0;31mKeyboardInterrupt\u001b[0m: "
     ]
    }
   ],
   "source": [
    "#from sklearn.model_selection import GridSearchCV\n",
    "\n",
    "lr    = LinearRegression()\n",
    "dtr   = DecisionTreeRegressor()\n",
    "rfr   = RandomForestRegressor()\n",
    "gbr   = GradientBoostingRegressor()\n",
    "xgb_r = xgb.XGBRegressor()\n",
    "\n",
    "\n",
    "\n",
    "models = [dtr,rfr,gbr,xgb_r]\n",
    "param_test1 = {\n",
    " 'max_depth':range(5,50,5),\n",
    " 'min_child_weight':range(5,50,5),\n",
    " 'learning_rate': [0.8, 1.0],\n",
    " 'min_samples_split': [300,350,400,500]\n",
    " \n",
    "}\n",
    "\n",
    "for i in models:\n",
    "    gsearch1 = GridSearchCV(estimator = xgb.XGBRegressor(), \n",
    "    param_grid = param_test1, scoring='accuracy',n_jobs=-1, cv=2)\n",
    "    gsearch1.fit(X_train,Y_train)\n",
    "    i, gsearch1.best_params_, gsearch1.best_score_"
   ]
  },
  {
   "cell_type": "code",
   "execution_count": 501,
   "metadata": {
    "ExecuteTime": {
     "end_time": "2021-09-23T10:44:59.692220Z",
     "start_time": "2021-09-23T10:44:59.689336Z"
    }
   },
   "outputs": [],
   "source": [
    "xg_reg = xgb.XGBRegressor(learning_rate=1.0, max_depth=6, min_child_weight=40, seed=1)"
   ]
  },
  {
   "cell_type": "code",
   "execution_count": 502,
   "metadata": {
    "ExecuteTime": {
     "end_time": "2021-09-23T10:45:24.447557Z",
     "start_time": "2021-09-23T10:44:59.694425Z"
    }
   },
   "outputs": [],
   "source": [
    "#train the model\n",
    "FitXG = xg_reg.fit(X_trainX,y_trainX)\n",
    "\n",
    "predXg = FitXG.predict(X_testX)"
   ]
  },
  {
   "cell_type": "code",
   "execution_count": 503,
   "metadata": {
    "ExecuteTime": {
     "end_time": "2021-09-23T10:45:24.771286Z",
     "start_time": "2021-09-23T10:45:24.450405Z"
    }
   },
   "outputs": [
    {
     "name": "stdout",
     "output_type": "stream",
     "text": [
      "Accuracy Score of XGBoost on testset 74.03334798106148\n"
     ]
    }
   ],
   "source": [
    "#perform accuracy score for the predictions\n",
    "print(\"Accuracy Score of XGBoost on testset\",FitXG.score(X_testX,y_testX)*100)"
   ]
  },
  {
   "cell_type": "code",
   "execution_count": 504,
   "metadata": {
    "ExecuteTime": {
     "end_time": "2021-09-23T10:45:24.778072Z",
     "start_time": "2021-09-23T10:45:24.773592Z"
    }
   },
   "outputs": [
    {
     "name": "stdout",
     "output_type": "stream",
     "text": [
      "RMSE: 2558.154730\n"
     ]
    }
   ],
   "source": [
    "#Validate the model using the rootmeansquared method \n",
    "rmse = np.sqrt(mean_squared_error(y_testX, predXg))\n",
    "print(\"RMSE: %f\" % (rmse))"
   ]
  },
  {
   "cell_type": "code",
   "execution_count": 505,
   "metadata": {
    "ExecuteTime": {
     "end_time": "2021-09-23T10:48:55.495087Z",
     "start_time": "2021-09-23T10:45:24.780401Z"
    }
   },
   "outputs": [
    {
     "name": "stdout",
     "output_type": "stream",
     "text": [
      "Accuracy Score of GBoost on testset 64.4398462397277\n"
     ]
    }
   ],
   "source": [
    "gbr = GradientBoostingRegressor(learning_rate=1.0, min_samples_split=500,max_depth=50,n_estimators= 25, subsample=0.8,random_state = 20)\n",
    "FitGB= gbr.fit(X_train,Y_train)   #Here we fit training data to Gradient Boosting Regressor\n",
    "predGb = FitGB.predict(X_testX)\n",
    "#perform accuracy score for the predictions\n",
    "print(\"Accuracy Score of GBoost on testset\",FitGB.score(X_testX,y_testX)*100)"
   ]
  },
  {
   "cell_type": "code",
   "execution_count": 506,
   "metadata": {
    "ExecuteTime": {
     "end_time": "2021-09-23T10:50:23.870096Z",
     "start_time": "2021-09-23T10:48:55.497786Z"
    }
   },
   "outputs": [
    {
     "name": "stdout",
     "output_type": "stream",
     "text": [
      "Accuracy Score of RF on testset 71.26864357367401\n"
     ]
    }
   ],
   "source": [
    "rfr   = RandomForestRegressor( min_samples_split=500,max_depth=50,n_estimators= 30,random_state = 20)\n",
    "FitRF= rfr.fit(X_train,Y_train)   #Here we fit training data to Gradient Boosting Regressor\n",
    "predRF = FitRF.predict(X_testX)\n",
    "print(\"Accuracy Score of RF on testset\",FitRF.score(X_testX,y_testX)*100)"
   ]
  },
  {
   "cell_type": "markdown",
   "metadata": {},
   "source": [
    "## Essemble model on Tunned Parms"
   ]
  },
  {
   "cell_type": "code",
   "execution_count": 507,
   "metadata": {
    "ExecuteTime": {
     "end_time": "2021-09-23T10:50:25.319699Z",
     "start_time": "2021-09-23T10:50:23.872745Z"
    }
   },
   "outputs": [
    {
     "data": {
      "text/html": [
       "<div>\n",
       "<style scoped>\n",
       "    .dataframe tbody tr th:only-of-type {\n",
       "        vertical-align: middle;\n",
       "    }\n",
       "\n",
       "    .dataframe tbody tr th {\n",
       "        vertical-align: top;\n",
       "    }\n",
       "\n",
       "    .dataframe thead th {\n",
       "        text-align: right;\n",
       "    }\n",
       "</style>\n",
       "<table border=\"1\" class=\"dataframe\">\n",
       "  <thead>\n",
       "    <tr style=\"text-align: right;\">\n",
       "      <th></th>\n",
       "      <th>score</th>\n",
       "    </tr>\n",
       "  </thead>\n",
       "  <tbody>\n",
       "    <tr>\n",
       "      <th>1</th>\n",
       "      <td>0.712686</td>\n",
       "    </tr>\n",
       "    <tr>\n",
       "      <th>2</th>\n",
       "      <td>0.644398</td>\n",
       "    </tr>\n",
       "    <tr>\n",
       "      <th>3</th>\n",
       "      <td>0.740333</td>\n",
       "    </tr>\n",
       "  </tbody>\n",
       "</table>\n",
       "</div>"
      ],
      "text/plain": [
       "      score\n",
       "1  0.712686\n",
       "2  0.644398\n",
       "3  0.740333"
      ]
     },
     "execution_count": 507,
     "metadata": {},
     "output_type": "execute_result"
    }
   ],
   "source": [
    "m6_score = FitRF.score(X_testX,y_testX)\n",
    "m7_score = FitGB.score(X_testX,y_testX)\n",
    "m8_score = FitXG.score(X_testX,y_testX)\n",
    "\n",
    "\n",
    "index_ = [1,2,3]\n",
    "valid_r2 = [m6_score,m7_score,m8_score]\n",
    "\n",
    "rank_eval = pd.DataFrame({\n",
    "    'score':valid_r2\n",
    "}, index = index_)\n",
    "rank_eval"
   ]
  },
  {
   "cell_type": "code",
   "execution_count": 508,
   "metadata": {
    "ExecuteTime": {
     "end_time": "2021-09-23T10:50:25.336113Z",
     "start_time": "2021-09-23T10:50:25.326083Z"
    }
   },
   "outputs": [
    {
     "data": {
      "text/html": [
       "<div>\n",
       "<style scoped>\n",
       "    .dataframe tbody tr th:only-of-type {\n",
       "        vertical-align: middle;\n",
       "    }\n",
       "\n",
       "    .dataframe tbody tr th {\n",
       "        vertical-align: top;\n",
       "    }\n",
       "\n",
       "    .dataframe thead th {\n",
       "        text-align: right;\n",
       "    }\n",
       "</style>\n",
       "<table border=\"1\" class=\"dataframe\">\n",
       "  <thead>\n",
       "    <tr style=\"text-align: right;\">\n",
       "      <th></th>\n",
       "      <th>score</th>\n",
       "      <th>rank</th>\n",
       "      <th>weight</th>\n",
       "    </tr>\n",
       "  </thead>\n",
       "  <tbody>\n",
       "    <tr>\n",
       "      <th>2</th>\n",
       "      <td>0.644398</td>\n",
       "      <td>1</td>\n",
       "      <td>0.166667</td>\n",
       "    </tr>\n",
       "    <tr>\n",
       "      <th>1</th>\n",
       "      <td>0.712686</td>\n",
       "      <td>2</td>\n",
       "      <td>0.333333</td>\n",
       "    </tr>\n",
       "    <tr>\n",
       "      <th>3</th>\n",
       "      <td>0.740333</td>\n",
       "      <td>3</td>\n",
       "      <td>0.500000</td>\n",
       "    </tr>\n",
       "  </tbody>\n",
       "</table>\n",
       "</div>"
      ],
      "text/plain": [
       "      score  rank    weight\n",
       "2  0.644398     1  0.166667\n",
       "1  0.712686     2  0.333333\n",
       "3  0.740333     3  0.500000"
      ]
     },
     "execution_count": 508,
     "metadata": {},
     "output_type": "execute_result"
    }
   ],
   "source": [
    "sorted_rank = rank_eval.sort_values('score')\n",
    "sorted_rank\n",
    "sorted_rank['rank'] = [i for i in range(1,4)]\n",
    "sorted_rank\n",
    "\n",
    "sorted_rank['weight'] = sorted_rank['rank']/sorted_rank['rank'].sum()\n",
    "sorted_rank"
   ]
  },
  {
   "cell_type": "code",
   "execution_count": 509,
   "metadata": {
    "ExecuteTime": {
     "end_time": "2021-09-23T10:50:25.353427Z",
     "start_time": "2021-09-23T10:50:25.338978Z"
    }
   },
   "outputs": [],
   "source": [
    "wt_pred6 = predGb*float(sorted_rank.loc[[1],['weight']].values)\n",
    "wt_pred7 = predRF*float(sorted_rank.loc[[2],['weight']].values)\n",
    "wt_pred8 = predXg*float(sorted_rank.loc[[3],['weight']].values)\n",
    "\n",
    "ranked_prediction = wt_pred6 + wt_pred7 + wt_pred8\n"
   ]
  },
  {
   "cell_type": "code",
   "execution_count": 512,
   "metadata": {
    "ExecuteTime": {
     "end_time": "2021-09-23T10:51:37.459866Z",
     "start_time": "2021-09-23T10:51:37.453867Z"
    }
   },
   "outputs": [
    {
     "data": {
      "text/plain": [
       "0.7443177357909578"
      ]
     },
     "execution_count": 512,
     "metadata": {},
     "output_type": "execute_result"
    }
   ],
   "source": [
    "ranked_prediction\n",
    "r2_score(y_testX, ranked_prediction)"
   ]
  },
  {
   "cell_type": "code",
   "execution_count": 513,
   "metadata": {
    "ExecuteTime": {
     "end_time": "2021-09-23T10:51:38.891989Z",
     "start_time": "2021-09-23T10:51:38.886664Z"
    }
   },
   "outputs": [
    {
     "data": {
      "text/plain": [
       "2538.453030635542"
      ]
     },
     "execution_count": 513,
     "metadata": {},
     "output_type": "execute_result"
    }
   ],
   "source": [
    "rmsees = np.sqrt(mean_squared_error(ranked_prediction,y_testX))\n",
    "rmsees"
   ]
  },
  {
   "cell_type": "code",
   "execution_count": null,
   "metadata": {},
   "outputs": [],
   "source": []
  },
  {
   "cell_type": "markdown",
   "metadata": {},
   "source": [
    "<h3>Apply the model on test </h3>\n",
    "Next is to apply the model to our test data, to get our predictions. "
   ]
  },
  {
   "cell_type": "code",
   "execution_count": 538,
   "metadata": {
    "ExecuteTime": {
     "end_time": "2021-09-23T10:58:15.171930Z",
     "start_time": "2021-09-23T10:58:14.940994Z"
    }
   },
   "outputs": [],
   "source": [
    "features = test.columns\n",
    "#test[features] = scaler.fit_transform(test[features])\n",
    "XT=test[features].values"
   ]
  },
  {
   "cell_type": "code",
   "execution_count": 539,
   "metadata": {
    "ExecuteTime": {
     "end_time": "2021-09-23T10:58:15.723488Z",
     "start_time": "2021-09-23T10:58:15.719189Z"
    }
   },
   "outputs": [
    {
     "data": {
      "text/plain": [
       "array([[9, '113442', 0, ..., 0, 0, '1'],\n",
       "       [13, '350442', 0, ..., 0, 0, '1'],\n",
       "       [13, '94542', 0, ..., 0, 0, '1'],\n",
       "       ...,\n",
       "       [1181, '153942', 0, ..., 4, 8, '3'],\n",
       "       [1941, '255242', 0, ..., 4, 8, '3'],\n",
       "       [3841, '314342', 0, ..., 4, 8, '3']], dtype=object)"
      ]
     },
     "execution_count": 539,
     "metadata": {},
     "output_type": "execute_result"
    }
   ],
   "source": [
    "XT"
   ]
  },
  {
   "cell_type": "code",
   "execution_count": 540,
   "metadata": {
    "ExecuteTime": {
     "end_time": "2021-09-23T10:58:18.564533Z",
     "start_time": "2021-09-23T10:58:16.426875Z"
    }
   },
   "outputs": [],
   "source": [
    "##Fit three model on the test data \n",
    "predGbX = FitGB.predict(XT)\n",
    "predXgX = FitXG.predict(XT)\n",
    "predRFX = FitRF.predict(XT)"
   ]
  },
  {
   "cell_type": "markdown",
   "metadata": {},
   "source": [
    "<h4>Essemble the Models then Copy the results to the submission file showing </h4>\n",
    "Predicted Purchase, User_Id and Product_ID"
   ]
  },
  {
   "cell_type": "code",
   "execution_count": 541,
   "metadata": {
    "ExecuteTime": {
     "end_time": "2021-09-23T10:58:28.937459Z",
     "start_time": "2021-09-23T10:58:28.832315Z"
    }
   },
   "outputs": [],
   "source": [
    "wt_pred1X = predGbX*float(sorted_rank.loc[[2],['weight']].values)\n",
    "wt_pred2X = predRFX*float(sorted_rank.loc[[1],['weight']].values)\n",
    "wt_pred3X = predXgX*float(sorted_rank.loc[[3],['weight']].values)\n",
    "\n",
    "ranked_predictionX = wt_pred1X + wt_pred2X + wt_pred3X\n",
    "predXgTE=pd.DataFrame(ranked_predictionX, columns=['Purchase']) \n",
    "TrainPE = pd.concat([test.reset_index(),predXgTE], axis=1)\n",
    "TrainPE['User_ID'] = TrainPE['User_ID'] + 1000000\n"
   ]
  },
  {
   "cell_type": "code",
   "execution_count": 542,
   "metadata": {
    "ExecuteTime": {
     "end_time": "2021-09-23T10:58:35.215370Z",
     "start_time": "2021-09-23T10:58:35.060961Z"
    }
   },
   "outputs": [
    {
     "data": {
      "text/html": [
       "<div>\n",
       "<style scoped>\n",
       "    .dataframe tbody tr th:only-of-type {\n",
       "        vertical-align: middle;\n",
       "    }\n",
       "\n",
       "    .dataframe tbody tr th {\n",
       "        vertical-align: top;\n",
       "    }\n",
       "\n",
       "    .dataframe thead th {\n",
       "        text-align: right;\n",
       "    }\n",
       "</style>\n",
       "<table border=\"1\" class=\"dataframe\">\n",
       "  <thead>\n",
       "    <tr style=\"text-align: right;\">\n",
       "      <th></th>\n",
       "      <th>index</th>\n",
       "      <th>User_ID</th>\n",
       "      <th>Product_ID</th>\n",
       "      <th>Gender</th>\n",
       "      <th>Age</th>\n",
       "      <th>Occupation</th>\n",
       "      <th>City_Category</th>\n",
       "      <th>Stay_In_Current_City_Years</th>\n",
       "      <th>Marital_Status</th>\n",
       "      <th>Product_Category_1</th>\n",
       "      <th>...</th>\n",
       "      <th>promo</th>\n",
       "      <th>Mean_Price</th>\n",
       "      <th>Price_cluster</th>\n",
       "      <th>Frequency</th>\n",
       "      <th>Frequency_cluster</th>\n",
       "      <th>Life_Value</th>\n",
       "      <th>Life_Value_cluster</th>\n",
       "      <th>Customer_Score</th>\n",
       "      <th>Segment</th>\n",
       "      <th>Purchase</th>\n",
       "    </tr>\n",
       "  </thead>\n",
       "  <tbody>\n",
       "    <tr>\n",
       "      <th>0</th>\n",
       "      <td>12183</td>\n",
       "      <td>1000009</td>\n",
       "      <td>113442</td>\n",
       "      <td>0</td>\n",
       "      <td>2</td>\n",
       "      <td>17</td>\n",
       "      <td>3</td>\n",
       "      <td>0</td>\n",
       "      <td>0</td>\n",
       "      <td>3</td>\n",
       "      <td>...</td>\n",
       "      <td>0</td>\n",
       "      <td>2666.87</td>\n",
       "      <td>2</td>\n",
       "      <td>58</td>\n",
       "      <td>0</td>\n",
       "      <td>594099.0</td>\n",
       "      <td>0</td>\n",
       "      <td>0</td>\n",
       "      <td>1</td>\n",
       "      <td>11705.509922</td>\n",
       "    </tr>\n",
       "    <tr>\n",
       "      <th>1</th>\n",
       "      <td>12184</td>\n",
       "      <td>1000013</td>\n",
       "      <td>350442</td>\n",
       "      <td>0</td>\n",
       "      <td>4</td>\n",
       "      <td>1</td>\n",
       "      <td>3</td>\n",
       "      <td>3</td>\n",
       "      <td>1</td>\n",
       "      <td>2</td>\n",
       "      <td>...</td>\n",
       "      <td>0</td>\n",
       "      <td>3547.57</td>\n",
       "      <td>2</td>\n",
       "      <td>60</td>\n",
       "      <td>0</td>\n",
       "      <td>713927.0</td>\n",
       "      <td>0</td>\n",
       "      <td>0</td>\n",
       "      <td>1</td>\n",
       "      <td>10128.885763</td>\n",
       "    </tr>\n",
       "    <tr>\n",
       "      <th>2</th>\n",
       "      <td>12185</td>\n",
       "      <td>1000013</td>\n",
       "      <td>94542</td>\n",
       "      <td>0</td>\n",
       "      <td>4</td>\n",
       "      <td>1</td>\n",
       "      <td>3</td>\n",
       "      <td>3</td>\n",
       "      <td>1</td>\n",
       "      <td>2</td>\n",
       "      <td>...</td>\n",
       "      <td>0</td>\n",
       "      <td>3547.57</td>\n",
       "      <td>2</td>\n",
       "      <td>60</td>\n",
       "      <td>0</td>\n",
       "      <td>713927.0</td>\n",
       "      <td>0</td>\n",
       "      <td>0</td>\n",
       "      <td>1</td>\n",
       "      <td>9613.205793</td>\n",
       "    </tr>\n",
       "    <tr>\n",
       "      <th>3</th>\n",
       "      <td>12186</td>\n",
       "      <td>1000035</td>\n",
       "      <td>96642</td>\n",
       "      <td>0</td>\n",
       "      <td>4</td>\n",
       "      <td>1</td>\n",
       "      <td>3</td>\n",
       "      <td>4</td>\n",
       "      <td>1</td>\n",
       "      <td>2</td>\n",
       "      <td>...</td>\n",
       "      <td>0</td>\n",
       "      <td>2333.16</td>\n",
       "      <td>2</td>\n",
       "      <td>111</td>\n",
       "      <td>0</td>\n",
       "      <td>821303.0</td>\n",
       "      <td>0</td>\n",
       "      <td>0</td>\n",
       "      <td>1</td>\n",
       "      <td>9397.795883</td>\n",
       "    </tr>\n",
       "    <tr>\n",
       "      <th>4</th>\n",
       "      <td>12187</td>\n",
       "      <td>1000068</td>\n",
       "      <td>216342</td>\n",
       "      <td>0</td>\n",
       "      <td>1</td>\n",
       "      <td>4</td>\n",
       "      <td>1</td>\n",
       "      <td>0</td>\n",
       "      <td>0</td>\n",
       "      <td>3</td>\n",
       "      <td>...</td>\n",
       "      <td>0</td>\n",
       "      <td>2155.51</td>\n",
       "      <td>2</td>\n",
       "      <td>43</td>\n",
       "      <td>0</td>\n",
       "      <td>328655.0</td>\n",
       "      <td>0</td>\n",
       "      <td>0</td>\n",
       "      <td>1</td>\n",
       "      <td>9675.278677</td>\n",
       "    </tr>\n",
       "    <tr>\n",
       "      <th>...</th>\n",
       "      <td>...</td>\n",
       "      <td>...</td>\n",
       "      <td>...</td>\n",
       "      <td>...</td>\n",
       "      <td>...</td>\n",
       "      <td>...</td>\n",
       "      <td>...</td>\n",
       "      <td>...</td>\n",
       "      <td>...</td>\n",
       "      <td>...</td>\n",
       "      <td>...</td>\n",
       "      <td>...</td>\n",
       "      <td>...</td>\n",
       "      <td>...</td>\n",
       "      <td>...</td>\n",
       "      <td>...</td>\n",
       "      <td>...</td>\n",
       "      <td>...</td>\n",
       "      <td>...</td>\n",
       "      <td>...</td>\n",
       "      <td>...</td>\n",
       "    </tr>\n",
       "    <tr>\n",
       "      <th>233594</th>\n",
       "      <td>783662</td>\n",
       "      <td>1003618</td>\n",
       "      <td>088242</td>\n",
       "      <td>0</td>\n",
       "      <td>6</td>\n",
       "      <td>17</td>\n",
       "      <td>1</td>\n",
       "      <td>4</td>\n",
       "      <td>1</td>\n",
       "      <td>6</td>\n",
       "      <td>...</td>\n",
       "      <td>0</td>\n",
       "      <td>2785.14</td>\n",
       "      <td>4</td>\n",
       "      <td>767</td>\n",
       "      <td>4</td>\n",
       "      <td>5962012.0</td>\n",
       "      <td>4</td>\n",
       "      <td>8</td>\n",
       "      <td>3</td>\n",
       "      <td>15774.643331</td>\n",
       "    </tr>\n",
       "    <tr>\n",
       "      <th>233595</th>\n",
       "      <td>783663</td>\n",
       "      <td>1002909</td>\n",
       "      <td>253342</td>\n",
       "      <td>0</td>\n",
       "      <td>2</td>\n",
       "      <td>7</td>\n",
       "      <td>1</td>\n",
       "      <td>1</td>\n",
       "      <td>0</td>\n",
       "      <td>1</td>\n",
       "      <td>...</td>\n",
       "      <td>0</td>\n",
       "      <td>2878.71</td>\n",
       "      <td>4</td>\n",
       "      <td>718</td>\n",
       "      <td>4</td>\n",
       "      <td>7577756.0</td>\n",
       "      <td>4</td>\n",
       "      <td>8</td>\n",
       "      <td>3</td>\n",
       "      <td>14712.405868</td>\n",
       "    </tr>\n",
       "    <tr>\n",
       "      <th>233596</th>\n",
       "      <td>783664</td>\n",
       "      <td>1001181</td>\n",
       "      <td>153942</td>\n",
       "      <td>0</td>\n",
       "      <td>3</td>\n",
       "      <td>7</td>\n",
       "      <td>1</td>\n",
       "      <td>3</td>\n",
       "      <td>1</td>\n",
       "      <td>6</td>\n",
       "      <td>...</td>\n",
       "      <td>0</td>\n",
       "      <td>2796.51</td>\n",
       "      <td>4</td>\n",
       "      <td>862</td>\n",
       "      <td>4</td>\n",
       "      <td>6387961.0</td>\n",
       "      <td>4</td>\n",
       "      <td>8</td>\n",
       "      <td>3</td>\n",
       "      <td>10617.469927</td>\n",
       "    </tr>\n",
       "    <tr>\n",
       "      <th>233597</th>\n",
       "      <td>783665</td>\n",
       "      <td>1001941</td>\n",
       "      <td>255242</td>\n",
       "      <td>0</td>\n",
       "      <td>3</td>\n",
       "      <td>17</td>\n",
       "      <td>1</td>\n",
       "      <td>1</td>\n",
       "      <td>0</td>\n",
       "      <td>1</td>\n",
       "      <td>...</td>\n",
       "      <td>0</td>\n",
       "      <td>2550.63</td>\n",
       "      <td>4</td>\n",
       "      <td>898</td>\n",
       "      <td>4</td>\n",
       "      <td>6817493.0</td>\n",
       "      <td>4</td>\n",
       "      <td>8</td>\n",
       "      <td>3</td>\n",
       "      <td>13330.321635</td>\n",
       "    </tr>\n",
       "    <tr>\n",
       "      <th>233598</th>\n",
       "      <td>783666</td>\n",
       "      <td>1003841</td>\n",
       "      <td>314342</td>\n",
       "      <td>0</td>\n",
       "      <td>4</td>\n",
       "      <td>18</td>\n",
       "      <td>1</td>\n",
       "      <td>4</td>\n",
       "      <td>0</td>\n",
       "      <td>1</td>\n",
       "      <td>...</td>\n",
       "      <td>0</td>\n",
       "      <td>2784.86</td>\n",
       "      <td>4</td>\n",
       "      <td>698</td>\n",
       "      <td>4</td>\n",
       "      <td>6044415.0</td>\n",
       "      <td>4</td>\n",
       "      <td>8</td>\n",
       "      <td>3</td>\n",
       "      <td>14021.127230</td>\n",
       "    </tr>\n",
       "  </tbody>\n",
       "</table>\n",
       "<p>233599 rows × 32 columns</p>\n",
       "</div>"
      ],
      "text/plain": [
       "         index  User_ID Product_ID Gender Age Occupation City_Category  \\\n",
       "0        12183  1000009     113442      0   2         17             3   \n",
       "1        12184  1000013     350442      0   4          1             3   \n",
       "2        12185  1000013      94542      0   4          1             3   \n",
       "3        12186  1000035      96642      0   4          1             3   \n",
       "4        12187  1000068     216342      0   1          4             1   \n",
       "...        ...      ...        ...    ...  ..        ...           ...   \n",
       "233594  783662  1003618     088242      0   6         17             1   \n",
       "233595  783663  1002909     253342      0   2          7             1   \n",
       "233596  783664  1001181     153942      0   3          7             1   \n",
       "233597  783665  1001941     255242      0   3         17             1   \n",
       "233598  783666  1003841     314342      0   4         18             1   \n",
       "\n",
       "       Stay_In_Current_City_Years Marital_Status Product_Category_1  ...  \\\n",
       "0                               0              0                  3  ...   \n",
       "1                               3              1                  2  ...   \n",
       "2                               3              1                  2  ...   \n",
       "3                               4              1                  2  ...   \n",
       "4                               0              0                  3  ...   \n",
       "...                           ...            ...                ...  ...   \n",
       "233594                          4              1                  6  ...   \n",
       "233595                          1              0                  1  ...   \n",
       "233596                          3              1                  6  ...   \n",
       "233597                          1              0                  1  ...   \n",
       "233598                          4              0                  1  ...   \n",
       "\n",
       "       promo  Mean_Price  Price_cluster  Frequency  Frequency_cluster  \\\n",
       "0          0     2666.87              2         58                  0   \n",
       "1          0     3547.57              2         60                  0   \n",
       "2          0     3547.57              2         60                  0   \n",
       "3          0     2333.16              2        111                  0   \n",
       "4          0     2155.51              2         43                  0   \n",
       "...      ...         ...            ...        ...                ...   \n",
       "233594     0     2785.14              4        767                  4   \n",
       "233595     0     2878.71              4        718                  4   \n",
       "233596     0     2796.51              4        862                  4   \n",
       "233597     0     2550.63              4        898                  4   \n",
       "233598     0     2784.86              4        698                  4   \n",
       "\n",
       "        Life_Value  Life_Value_cluster  Customer_Score  Segment      Purchase  \n",
       "0         594099.0                   0               0        1  11705.509922  \n",
       "1         713927.0                   0               0        1  10128.885763  \n",
       "2         713927.0                   0               0        1   9613.205793  \n",
       "3         821303.0                   0               0        1   9397.795883  \n",
       "4         328655.0                   0               0        1   9675.278677  \n",
       "...            ...                 ...             ...      ...           ...  \n",
       "233594   5962012.0                   4               8        3  15774.643331  \n",
       "233595   7577756.0                   4               8        3  14712.405868  \n",
       "233596   6387961.0                   4               8        3  10617.469927  \n",
       "233597   6817493.0                   4               8        3  13330.321635  \n",
       "233598   6044415.0                   4               8        3  14021.127230  \n",
       "\n",
       "[233599 rows x 32 columns]"
      ]
     },
     "execution_count": 542,
     "metadata": {},
     "output_type": "execute_result"
    }
   ],
   "source": [
    "TrainPE"
   ]
  },
  {
   "cell_type": "code",
   "execution_count": 543,
   "metadata": {
    "ExecuteTime": {
     "end_time": "2021-09-23T10:58:55.170093Z",
     "start_time": "2021-09-23T10:58:54.425155Z"
    }
   },
   "outputs": [],
   "source": [
    "TrainPE['Product_ID'] = TrainPE['Product_ID'].apply(lambda x:  ('P00'+ x))\n",
    "SubmissionE = TrainPE[['Purchase','User_ID','Product_ID']]\n",
    "SubmissionE.to_csv('submissionEX.csv', encoding='utf-8', index=False)"
   ]
  },
  {
   "cell_type": "markdown",
   "metadata": {},
   "source": [
    "<H2>5. SUMMARY</H2>\n",
    "About the Black Friday dataset, we can see some conclusions below:\n",
    "<ol>\n",
    "<li>Men go to Black Friday more than women</li>\n",
    "<li>People who has 26-35 participate in Black Friday much more than others. </li>\n",
    "<li>Followed by 36-45, 18-25, 46-50, 51-55, 55+ and 0-17. </li>\n",
    " In summary we have three groups with the almost the same quantity of people between each element within the group.\n",
    "<li>Group #1 36-45/18-25; group #2 46-50/51-55 and group #3 55+/0-17;</li>\n",
    "<li>We can't do much conclusions here, but is possible to realize that people with\n",
    "    lows and highs occupation number go out to Black Friday more than who was mediums occupation number</li>\n",
    "<li>People who lives in City B bought much more than others.</li>\n",
    "</ol>\n",
    "\n",
    "  \n",
    "<H3>  Observation: </H3>\n",
    "<ol>\n",
    "<li>We can realize that, regardless the parameters, the graphs has almost the same shape</li>\n",
    "<li>It's a very curious observation. Everyone has almost the same behavior according to money spend</li>\n",
    "</ol>\n",
    "\n",
    "\n"
   ]
  },
  {
   "cell_type": "code",
   "execution_count": null,
   "metadata": {},
   "outputs": [],
   "source": []
  }
 ],
 "metadata": {
  "interpreter": {
   "hash": "dca0ade3e726a953b501b15e8e990130d2b7799f14cfd9f4271676035ebe5511"
  },
  "kernelspec": {
   "display_name": "Python 3",
   "language": "python",
   "name": "python3"
  },
  "language_info": {
   "codemirror_mode": {
    "name": "ipython",
    "version": 3
   },
   "file_extension": ".py",
   "mimetype": "text/x-python",
   "name": "python",
   "nbconvert_exporter": "python",
   "pygments_lexer": "ipython3",
   "version": "3.8.8"
  }
 },
 "nbformat": 4,
 "nbformat_minor": 2
}
